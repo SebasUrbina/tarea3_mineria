{
 "cells": [
  {
   "cell_type": "markdown",
   "metadata": {
    "id": "p_XcuC2rXQWb",
    "pycharm": {}
   },
   "source": [
    "# Tarea 3: Clasificacion II + Clustering\n",
    "\n",
    "Felipe Bravo, Hernán Sarmiento, Aymé Arango, Alison Fernandez, Cinthia Mabel Sánchez, Juan-Pablo Silva\n",
    "\n",
    "**Noviembre 2020**"
   ]
  },
  {
   "cell_type": "markdown",
   "metadata": {
    "heading_collapsed": true,
    "id": "RvarrC_jXQWe",
    "pycharm": {}
   },
   "source": [
    "## ============= Declaración de compromiso ético =============\n",
    "\n",
    "Nosotros ****Nicolás Herrera, Sebastián Urbina y Samuel Sánchez**** , declaramos que realizamos de manera grupal los pasos de la presente actividad. También declaramos no incurrir en copia, ni compartir nuestras respuestas con otras personas ni con otros grupos. Por lo que, ratificamos que las respuestas son de nuestra propia confección y reflejan nuestro propio conocimiento.\n"
   ]
  },
  {
   "cell_type": "markdown",
   "metadata": {
    "heading_collapsed": true,
    "id": "bxEPucKhXQWg",
    "pycharm": {}
   },
   "source": [
    "# Instrucciones\n",
    "\n",
    "\n",
    "1. Trabajen en equipos de dos o tres personas. Salvo excepciones, no se corregirá entregas con menos de dos integrantes.\n",
    "\n",
    "2. Modifique este archivo `.ipynb` agregando sus respuestas donde corresponda. \n",
    "\n",
    "3. Cuando finalice el laboratorio, **genere un archivo HTML** usando jupyter (ver tutorial 2) y súbalo a U-Cursos. El laboratorio debe ser entregado sólo por 1 integrante. Si se entrega por más de un integrante, se revisará cualquiera de éstos."
   ]
  },
  {
   "cell_type": "markdown",
   "metadata": {
    "heading_collapsed": true,
    "id": "SMUzxXj7XQWi",
    "pycharm": {}
   },
   "source": [
    "# Estructura de la tarea\n",
    "\n",
    "Esta tarea consiste en 3 partes. La primera son preguntas teóricas en las que no necesita escribir código y corresponden a materia vista en clases. La segunda es una sección introductoria para familiarizarse con métodos de clustering. Finalmente la tercera parte es un problema abierto de clasificación donde deberá usar todos los conocimientos que ha adquirido en el curso hasta este momento. Esos conocimientos incluyen exploración de datos, limpieza, entrenamiento de modelos, selección y evaluación."
   ]
  },
  {
   "cell_type": "markdown",
   "metadata": {
    "id": "BUK5vAG9fHXq"
   },
   "source": [
    "# Parte 1: Teoría\n"
   ]
  },
  {
   "cell_type": "markdown",
   "metadata": {
    "id": "c2stuWVkQwg4"
   },
   "source": [
    "\n",
    "\n",
    "**1.** Explique para qué se usan variables de holgura en el problema de optimización de la SVM. "
   ]
  },
  {
   "cell_type": "markdown",
   "metadata": {
    "id": "XmUHE93jQvNp"
   },
   "source": [
    ">Respuesta: Cuando no existe un hiperplano perfecto que permita ajustar a los datos, se tiene que los datos no son linealmente separables, entonces, con el fin de encontrar el mejor hiperplano posible, se realiza un balance entre el ancho del margen y el número de errores que ajusta a los datos, utilizando un modelo SVM Soft Margin. Esto último se realiza mediante la incorporación de variables de holgura a las restricciones, en donde, en la nueva función objetivo del problema de optimización, se realiza una penalización de acuerdo con esta variable de holgura."
   ]
  },
  {
   "cell_type": "markdown",
   "metadata": {
    "id": "sn0lGmALQlVT"
   },
   "source": [
    "**2.** John Doe, un consultor en minería de datos, argumenta lo siguiente: lo malo de las SVMs es que para que encuentren límites de decisión no lineales tengo que proyectarlas manualmente a más dimensiones con una función $\\phi(x)$ que tengo que diseñar de manera manual. Esto hace que todo sea mucho más caro computacionalmente pues todas las operaciones las tengo que hacer sobre el espacio transformado. Discuta el argumento de John Doe."
   ]
  },
  {
   "cell_type": "markdown",
   "metadata": {
    "id": "sdt8hUz8Qz5R"
   },
   "source": [
    ">Respuesta:Al usar el enfoque de agregar más dimensionalidad se puede sufrir del problema de la maldición de la dimensionalidad, en donde las técnicas de minería de datos puede que no funcionen bien. Sin embargo, este problema se puede solucionar utilizando el \"Truco de Kernel\", en donde en vez de calcular una función para cada dimensión, se calcula la relación entre estas, lo cual disminuye considerablemente el costo computacional, lo cual permite que esta técnica de aumentar la dimesionalidad sea aplicable."
   ]
  },
  {
   "cell_type": "markdown",
   "metadata": {
    "id": "YYE74-MqQnfD"
   },
   "source": [
    "\n",
    "\n",
    "**3.** Usando un clasificador Naive Bayes con Laplace Smoothing entrenado con los datos de la tabla de más abajo, clasifique el siguiente ejemplo a la clase Evade: **[Refund= YES, Marital Status = Divorced]**.\n",
    "\n",
    "Hint: Tiene que comparar P(Evade=Yes | datos) vs P(Evade=No|datos). Muestre todos sus cálculos.\n",
    "\n",
    "Refund | Marital Status | Evade\n",
    "--- | --- | ---\n",
    "YES | Single | NO\n",
    "NO | Married | NO\n",
    "NO | Single | NO\n",
    "YES | Married | NO\n",
    "NO | Divorced | YES\n",
    "NO | Married | NO\n",
    "YES | Divorced | NO\n",
    "NO | Single | YES\n",
    "NO | Married | NO\n",
    "NO | Single | YES"
   ]
  },
  {
   "cell_type": "markdown",
   "metadata": {
    "id": "r0wUrzxqRHKp"
   },
   "source": [
    ">Respuesta: \n",
    "> * ¿Cual es la probabilidad de que una instancia haya sido de cierta clase conociendo sus datos? $\\rightarrow$ Predecir la clase $C$ que maximice $P(C|A_{1},A_{2},\\ldots,A_{n})$\n",
    "> * Por Bayes se tiene que:\n",
    "> $P(C|A_{1},A_{2},\\ldots,A_{n})=\\frac{P(A_{1},A_{2},\\ldots,A_{n}|C)P(C)}{P(A_{1},A_{2},\\ldots,A_{n})}$\n",
    "> * Como ${P(A_{1},A_{2},\\ldots,A_{n})}$ es constante para todas las clases, basta maximizar solo $P(A_{1},A_{2},\\ldots,A_{n}|C)P(C)$\n",
    "> * Dado que cuando la clase esta dada, se asume independencia en los atributos\n",
    "> $\\rightarrow P(A_{1},A_{2},\\ldots,A_{n}|C)=P(A_{1}|C)P(A_{2}|C)\\ldots P(A_{n}|C)$\n",
    "> * $\\longrightarrow$ Maximizar $P(C)\\prod_{i}P(A_{i}|C)$, en donde\n",
    ">  - $P(C_{k})=\\frac{count(C_{k})}{N}$\n",
    ">  - $P(A_{i}=b|C_{k})=\\frac{count(A_{ik}=b)+1}{count(C_{k})+values(A_{i})}$\n",
    "> * En este ultimo, (para datos discretos), Laplace Smoothing generalizo bien el modelo, tal que $P(C|A_{1},A_{2},\\ldots,A_{n})$ pudo irse a cero cuando $|A_{ik}|=0$. $values(A_{i})$ es la cantidad de categorias del atributo $A_{i}$\n",
    "\n",
    "> * En este problema $\\rightarrow$ `P(Evade=YES|datos) v/s P(Evade=NO|datos)`\n",
    "> * P(Evade=Yes|datos)=P(Evade=Yes)P(Refund=Yes|Evade=Yes)P(State=Divorced|Evade=Yes)\n",
    ">   - P(Evade=Yes)= $\\frac{3}{10}$\n",
    ">   - P(Refund=Yes|Evade=Yes)= $\\frac{0+1}{3+2}=\\frac{1}{5}$\n",
    ">   - P(State=Divorced|Evade=Yes)= $\\frac{1+1}{3+3}=\\frac{1}{3}$\n",
    "> * P(Evade=No|datos)=P(Evade=No)P(Refund=Yes|Evade=No)P(State=Divorced|Evade=No)\n",
    ">   - P(Evade=No)= $\\frac{7}{10}$\n",
    ">   - P(Refund=Yes|Evade=No)= $\\frac{3+1}{7+2}=\\frac{4}{9}$\n",
    ">   - P(State=Divorced|Evade=No)= $\\frac{1+1}{7+3}=\\frac{1}{5}$\n",
    "> * Se tiene finalmente que:\n",
    ">   - P(Evade=Yes|datos)= $\\frac{3}{10}\\frac{1}{5}\\frac{1}{3}=\\frac{3}{150}=0.020$\n",
    ">   - P(Evade=No|datos)= $\\frac{7}{10}\\frac{4}{9}\\frac{1}{5}=\\frac{28}{450}=0.062$\n",
    "\n",
    "> * Como P(Evade=No|datos)>P(Evade=Yes|datos), se tiene finalmente que para una instancia con los datos: `Refund=Yes, State=Divorced`, el clasificador le otorgara la clase de `Evade=No` al tener esta mayor probabilidad.\n"
   ]
  },
  {
   "cell_type": "markdown",
   "metadata": {
    "id": "Ilyrc9pOQo_D"
   },
   "source": [
    "**4.** Explique cómo bisecting k-mean soluciona el problema de la inicialización de centroides de k-means."
   ]
  },
  {
   "cell_type": "markdown",
   "metadata": {
    "id": "UoqOWIh-RJXP"
   },
   "source": [
    ">Respuesta: Con bisecting se busca encontrar mejores centroides iniciales para que se tengan los clusters esperados y que mejor describan a la data, para esto lo que se hace es dividir el conjunto de datos en dos cluster, luego se selecciona uno de estos dos y se divide hasta producir K clusters, utilizando el criterio de SSE más grande. Al tomar solo dos centroides iniciales, es más fácil y más probable encontrar un centroide que se ajuste mejor."
   ]
  },
  {
   "cell_type": "markdown",
   "metadata": {
    "id": "1L_jfMRXQqEI"
   },
   "source": [
    "**5.** Explique cómo encontrar outliers en los siguientes métodos de clustering:\n",
    "* K-Means\n",
    "* Clustering Jerarquico Aglomerativo"
   ]
  },
  {
   "cell_type": "markdown",
   "metadata": {
    "id": "VCaOS0kvRM9P"
   },
   "source": [
    ">Respuesta: En el caso de K-Means, se puede utilizar la métrica de distancia SSE, en donde aquellos datos que estén muy alejados del centroide con respecto a los otros datos podría ser un outlier, estos outliers se van a encontrar en alguno de los clusters generados, puesto que así funciona el algorítmo de K-Means. Por otro lado, para el caso de Clustering Jerarquico Aglomerativo, va a depender de qué método se utiliza para calcular la distancia entre dos cluster o entre un punto y un claster, los cuáles pueden ser la distancia entre los dos puntos más cercanos de dos cluster, la distancia máxima entre los dos puntos más lejanos de un cluster, la distancia promedio o utilizando el método de ward. Entonces, para cada caso, se podría considerar como un outlier como a aquel dato que esté lejos del valor de la distancia a partir del método seleccionado, en donde, por ejemplo, para el caso de los mínimos, si un dato de un cluster diferente al dato más cercano al otro cluster está muy lejos del dato más cercano del otro cluster, se podría considerar a este dato como un outlier."
   ]
  },
  {
   "cell_type": "markdown",
   "metadata": {
    "id": "ZyPaLTrxQsSH"
   },
   "source": [
    "**6.** Describa una ventaja y desventaja de los siguientes métodos de clustering:\n",
    "* K-Means\n",
    "* Clustering Jerarquico Aglomerativo"
   ]
  },
  {
   "cell_type": "markdown",
   "metadata": {
    "id": "MaScQlZ1RRI7"
   },
   "source": [
    ">Respuesta:\n",
    "\n",
    "* Clustering Jerarquico Aglomerativo -> Ventaja: No se debe suponer una cierta cantidad de cluters previamente, en donde el número de cluster debe ser menor a la cantidad de puntos que se tienen.\n",
    "* Clustering Jerarquico Aglomerativo -> Desventaja: Una vez que se decide unir dos clusters no se pueden volver a separar.\n",
    "* K-Means -> Ventaja: Se tiene un parámetro claro que se busca minimizar, el SSE.\n",
    "* k-Means -> Desventaja: Si existen clusters de diferentes tamaños y densidades puede ser que K-Means no los detecte bien y lo que podría ocurrir que separe un cluster que no debería estar separado.\n"
   ]
  },
  {
   "cell_type": "markdown",
   "metadata": {
    "id": "xKpPq8w1QtQ3"
   },
   "source": [
    "**7.** En DBSCAN el parametro `eps` es crucial para obtener buenos clusters. Explique una forma de encontar el valor de `eps`."
   ]
  },
  {
   "cell_type": "markdown",
   "metadata": {
    "id": "sRASCByXRT98"
   },
   "source": [
    ">Respuesta: Para determinar el valor de eps se debe analizar la distancia (k-dist) de un punto a su k-ésimo vecino más cercano, en donde k en general depende de la dimensión del set de datos. Entonces, cuando esta distancia aumenta considerablemente es cuando se puede detectar cuál podría ser el valor de eps, por lo que los puntos que están dentro de un mismo cluster tienen un k-dist pequeño, siempre y cuando el valor de k no sea más grande que el tamaño del cluster al que pertencen, por otro lado, aquellos puntos que no pertenezcan a un cluster tendrán un k-dist mayor."
   ]
  },
  {
   "cell_type": "markdown",
   "metadata": {
    "id": "zDrw4AiZQuFx"
   },
   "source": [
    "**8.** Evaluar clusters no es una tarea fácil. Qué formas de evaluar clusters conoce? Nombre 3 formas de validación y describa cómo podría determinar si los cluters son buenos o malos usando cada una de las formas nombradas."
   ]
  },
  {
   "cell_type": "markdown",
   "metadata": {
    "id": "MDJCap67RV06"
   },
   "source": [
    ">Respuesta: Una forma de evaluar clusters es ver la cohesión presente en cada, es decir, mediante la suma de los errores cuadráticos, ver si la distancia entre los puntos de un cluster es menor que otro, en donde mientras menor sea mejor va a ser el cluster. Otra forma de evaluar cluster es midiendo la pureza de un cluster, para este caso se debe saber de antemano alguna categorización o etiqqueta de los puntos, dado que se ve el nivel en que un cluster contiene elementos de una clase, en donde mientras más elementos sean de una misma clase mejor va a ser el cluster. Por otro lado se encuentra la medida de entropía, la cual indica la cantidad de clases diferentes que tiene un cluster, en donde mientras menor sea este número mejor va a ser el cluster."
   ]
  },
  {
   "cell_type": "markdown",
   "metadata": {
    "id": "huukwudDfS-f"
   },
   "source": [
    "# Parte 2: Clustering"
   ]
  },
  {
   "cell_type": "markdown",
   "metadata": {
    "id": "jTuloXfOjXak"
   },
   "source": [
    "Para esta parte usaremos el dataset de cantidad de denuncias por 100 mil habitantes por tipo de delito desde el año 2001 al 2016 en Chile (Fuente: http://www.seguridadpublica.gov.cl/estadisticas/tasa-de-denuncias-y-detenciones/delitos-de-mayor-connotacion-social-series-de-datos-2001-2017/).\n",
    "\n",
    "Ejecute el siguiete código para cargar el dataset:"
   ]
  },
  {
   "cell_type": "code",
   "execution_count": 1,
   "metadata": {
    "id": "StooikhfjZLp"
   },
   "outputs": [
    {
     "data": {
      "text/html": [
       "<div>\n",
       "<style scoped>\n",
       "    .dataframe tbody tr th:only-of-type {\n",
       "        vertical-align: middle;\n",
       "    }\n",
       "\n",
       "    .dataframe tbody tr th {\n",
       "        vertical-align: top;\n",
       "    }\n",
       "\n",
       "    .dataframe thead th {\n",
       "        text-align: right;\n",
       "    }\n",
       "</style>\n",
       "<table border=\"1\" class=\"dataframe\">\n",
       "  <thead>\n",
       "    <tr style=\"text-align: right;\">\n",
       "      <th></th>\n",
       "      <th>comuna</th>\n",
       "      <th>anio</th>\n",
       "      <th>homicidios</th>\n",
       "      <th>hurtos</th>\n",
       "      <th>robo_lugar</th>\n",
       "      <th>robo_sorpresa</th>\n",
       "      <th>robo_vehiculo</th>\n",
       "      <th>robo_violencia</th>\n",
       "      <th>violacion</th>\n",
       "    </tr>\n",
       "  </thead>\n",
       "  <tbody>\n",
       "    <tr>\n",
       "      <th>1</th>\n",
       "      <td>Arica</td>\n",
       "      <td>2001</td>\n",
       "      <td>1.6</td>\n",
       "      <td>370.3</td>\n",
       "      <td>NaN</td>\n",
       "      <td>9.5</td>\n",
       "      <td>NaN</td>\n",
       "      <td>107.2</td>\n",
       "      <td>16.4</td>\n",
       "    </tr>\n",
       "    <tr>\n",
       "      <th>2</th>\n",
       "      <td>Arica</td>\n",
       "      <td>2002</td>\n",
       "      <td>1.1</td>\n",
       "      <td>346.7</td>\n",
       "      <td>NaN</td>\n",
       "      <td>34.0</td>\n",
       "      <td>NaN</td>\n",
       "      <td>122.8</td>\n",
       "      <td>14.9</td>\n",
       "    </tr>\n",
       "    <tr>\n",
       "      <th>3</th>\n",
       "      <td>Arica</td>\n",
       "      <td>2003</td>\n",
       "      <td>1.6</td>\n",
       "      <td>460.1</td>\n",
       "      <td>464.4</td>\n",
       "      <td>52.8</td>\n",
       "      <td>172.2</td>\n",
       "      <td>196.2</td>\n",
       "      <td>15.5</td>\n",
       "    </tr>\n",
       "    <tr>\n",
       "      <th>4</th>\n",
       "      <td>Arica</td>\n",
       "      <td>2004</td>\n",
       "      <td>1.1</td>\n",
       "      <td>452.2</td>\n",
       "      <td>395.0</td>\n",
       "      <td>64.1</td>\n",
       "      <td>203.7</td>\n",
       "      <td>143.8</td>\n",
       "      <td>13.9</td>\n",
       "    </tr>\n",
       "    <tr>\n",
       "      <th>5</th>\n",
       "      <td>Arica</td>\n",
       "      <td>2005</td>\n",
       "      <td>0.0</td>\n",
       "      <td>421.8</td>\n",
       "      <td>287.8</td>\n",
       "      <td>58.4</td>\n",
       "      <td>144.2</td>\n",
       "      <td>144.7</td>\n",
       "      <td>7.5</td>\n",
       "    </tr>\n",
       "    <tr>\n",
       "      <th>...</th>\n",
       "      <td>...</td>\n",
       "      <td>...</td>\n",
       "      <td>...</td>\n",
       "      <td>...</td>\n",
       "      <td>...</td>\n",
       "      <td>...</td>\n",
       "      <td>...</td>\n",
       "      <td>...</td>\n",
       "      <td>...</td>\n",
       "    </tr>\n",
       "    <tr>\n",
       "      <th>5532</th>\n",
       "      <td>Peñaflor</td>\n",
       "      <td>2012</td>\n",
       "      <td>1.1</td>\n",
       "      <td>375.0</td>\n",
       "      <td>436.5</td>\n",
       "      <td>78.6</td>\n",
       "      <td>59.3</td>\n",
       "      <td>191.5</td>\n",
       "      <td>14.8</td>\n",
       "    </tr>\n",
       "    <tr>\n",
       "      <th>5533</th>\n",
       "      <td>Peñaflor</td>\n",
       "      <td>2013</td>\n",
       "      <td>0.0</td>\n",
       "      <td>370.0</td>\n",
       "      <td>408.1</td>\n",
       "      <td>107.6</td>\n",
       "      <td>77.4</td>\n",
       "      <td>213.0</td>\n",
       "      <td>14.6</td>\n",
       "    </tr>\n",
       "    <tr>\n",
       "      <th>5534</th>\n",
       "      <td>Peñaflor</td>\n",
       "      <td>2014</td>\n",
       "      <td>1.1</td>\n",
       "      <td>301.3</td>\n",
       "      <td>376.3</td>\n",
       "      <td>112.6</td>\n",
       "      <td>65.1</td>\n",
       "      <td>224.0</td>\n",
       "      <td>5.5</td>\n",
       "    </tr>\n",
       "    <tr>\n",
       "      <th>5535</th>\n",
       "      <td>Peñaflor</td>\n",
       "      <td>2015</td>\n",
       "      <td>0.0</td>\n",
       "      <td>321.6</td>\n",
       "      <td>334.7</td>\n",
       "      <td>111.9</td>\n",
       "      <td>73.9</td>\n",
       "      <td>199.9</td>\n",
       "      <td>7.6</td>\n",
       "    </tr>\n",
       "    <tr>\n",
       "      <th>5536</th>\n",
       "      <td>Peñaflor</td>\n",
       "      <td>2016</td>\n",
       "      <td>2.1</td>\n",
       "      <td>331.6</td>\n",
       "      <td>259.7</td>\n",
       "      <td>99.8</td>\n",
       "      <td>49.4</td>\n",
       "      <td>151.3</td>\n",
       "      <td>11.8</td>\n",
       "    </tr>\n",
       "  </tbody>\n",
       "</table>\n",
       "<p>5536 rows × 9 columns</p>\n",
       "</div>"
      ],
      "text/plain": [
       "        comuna  anio  homicidios  hurtos  robo_lugar  robo_sorpresa  \\\n",
       "1        Arica  2001         1.6   370.3         NaN            9.5   \n",
       "2        Arica  2002         1.1   346.7         NaN           34.0   \n",
       "3        Arica  2003         1.6   460.1       464.4           52.8   \n",
       "4        Arica  2004         1.1   452.2       395.0           64.1   \n",
       "5        Arica  2005         0.0   421.8       287.8           58.4   \n",
       "...        ...   ...         ...     ...         ...            ...   \n",
       "5532  Peñaflor  2012         1.1   375.0       436.5           78.6   \n",
       "5533  Peñaflor  2013         0.0   370.0       408.1          107.6   \n",
       "5534  Peñaflor  2014         1.1   301.3       376.3          112.6   \n",
       "5535  Peñaflor  2015         0.0   321.6       334.7          111.9   \n",
       "5536  Peñaflor  2016         2.1   331.6       259.7           99.8   \n",
       "\n",
       "      robo_vehiculo  robo_violencia  violacion  \n",
       "1               NaN           107.2       16.4  \n",
       "2               NaN           122.8       14.9  \n",
       "3             172.2           196.2       15.5  \n",
       "4             203.7           143.8       13.9  \n",
       "5             144.2           144.7        7.5  \n",
       "...             ...             ...        ...  \n",
       "5532           59.3           191.5       14.8  \n",
       "5533           77.4           213.0       14.6  \n",
       "5534           65.1           224.0        5.5  \n",
       "5535           73.9           199.9        7.6  \n",
       "5536           49.4           151.3       11.8  \n",
       "\n",
       "[5536 rows x 9 columns]"
      ]
     },
     "execution_count": 1,
     "metadata": {},
     "output_type": "execute_result"
    }
   ],
   "source": [
    "import pandas as pd\n",
    "import numpy as np\n",
    "\n",
    "dataframe = pd.read_csv(\"https://users.dcc.uchile.cl/~hsarmien/mineria/datasets/denuncias-2001-2016.txt\", sep=\" \")\n",
    "dataframe"
   ]
  },
  {
   "cell_type": "markdown",
   "metadata": {
    "id": "qurrGwfnjbKP"
   },
   "source": [
    "Utilizaremos sólo los datos del 2006. Ejecute las siguientes líneas de código para filtrar los datos:"
   ]
  },
  {
   "cell_type": "code",
   "execution_count": 2,
   "metadata": {
    "id": "APsAJvb5jc0V"
   },
   "outputs": [
    {
     "data": {
      "text/html": [
       "<div>\n",
       "<style scoped>\n",
       "    .dataframe tbody tr th:only-of-type {\n",
       "        vertical-align: middle;\n",
       "    }\n",
       "\n",
       "    .dataframe tbody tr th {\n",
       "        vertical-align: top;\n",
       "    }\n",
       "\n",
       "    .dataframe thead th {\n",
       "        text-align: right;\n",
       "    }\n",
       "</style>\n",
       "<table border=\"1\" class=\"dataframe\">\n",
       "  <thead>\n",
       "    <tr style=\"text-align: right;\">\n",
       "      <th></th>\n",
       "      <th>homicidios</th>\n",
       "      <th>hurtos</th>\n",
       "      <th>robo_lugar</th>\n",
       "      <th>robo_sorpresa</th>\n",
       "      <th>robo_vehiculo</th>\n",
       "      <th>robo_violencia</th>\n",
       "      <th>violacion</th>\n",
       "    </tr>\n",
       "  </thead>\n",
       "  <tbody>\n",
       "    <tr>\n",
       "      <th>6</th>\n",
       "      <td>1.1</td>\n",
       "      <td>507.5</td>\n",
       "      <td>320.3</td>\n",
       "      <td>60.9</td>\n",
       "      <td>89.0</td>\n",
       "      <td>161.2</td>\n",
       "      <td>8.6</td>\n",
       "    </tr>\n",
       "    <tr>\n",
       "      <th>22</th>\n",
       "      <td>0.0</td>\n",
       "      <td>68.0</td>\n",
       "      <td>0.0</td>\n",
       "      <td>0.0</td>\n",
       "      <td>0.0</td>\n",
       "      <td>0.0</td>\n",
       "      <td>0.0</td>\n",
       "    </tr>\n",
       "    <tr>\n",
       "      <th>38</th>\n",
       "      <td>0.0</td>\n",
       "      <td>834.9</td>\n",
       "      <td>256.9</td>\n",
       "      <td>0.0</td>\n",
       "      <td>0.0</td>\n",
       "      <td>0.0</td>\n",
       "      <td>64.2</td>\n",
       "    </tr>\n",
       "    <tr>\n",
       "      <th>54</th>\n",
       "      <td>0.0</td>\n",
       "      <td>81.2</td>\n",
       "      <td>81.2</td>\n",
       "      <td>0.0</td>\n",
       "      <td>0.0</td>\n",
       "      <td>0.0</td>\n",
       "      <td>0.0</td>\n",
       "    </tr>\n",
       "    <tr>\n",
       "      <th>70</th>\n",
       "      <td>0.6</td>\n",
       "      <td>680.3</td>\n",
       "      <td>327.2</td>\n",
       "      <td>211.5</td>\n",
       "      <td>169.7</td>\n",
       "      <td>287.0</td>\n",
       "      <td>18.2</td>\n",
       "    </tr>\n",
       "    <tr>\n",
       "      <th>...</th>\n",
       "      <td>...</td>\n",
       "      <td>...</td>\n",
       "      <td>...</td>\n",
       "      <td>...</td>\n",
       "      <td>...</td>\n",
       "      <td>...</td>\n",
       "      <td>...</td>\n",
       "    </tr>\n",
       "    <tr>\n",
       "      <th>5462</th>\n",
       "      <td>2.8</td>\n",
       "      <td>359.0</td>\n",
       "      <td>451.3</td>\n",
       "      <td>44.0</td>\n",
       "      <td>27.0</td>\n",
       "      <td>293.8</td>\n",
       "      <td>5.7</td>\n",
       "    </tr>\n",
       "    <tr>\n",
       "      <th>5478</th>\n",
       "      <td>3.4</td>\n",
       "      <td>233.4</td>\n",
       "      <td>375.4</td>\n",
       "      <td>27.1</td>\n",
       "      <td>6.8</td>\n",
       "      <td>60.9</td>\n",
       "      <td>6.8</td>\n",
       "    </tr>\n",
       "    <tr>\n",
       "      <th>5494</th>\n",
       "      <td>3.4</td>\n",
       "      <td>332.7</td>\n",
       "      <td>492.3</td>\n",
       "      <td>23.8</td>\n",
       "      <td>20.4</td>\n",
       "      <td>71.3</td>\n",
       "      <td>3.4</td>\n",
       "    </tr>\n",
       "    <tr>\n",
       "      <th>5510</th>\n",
       "      <td>0.0</td>\n",
       "      <td>263.6</td>\n",
       "      <td>529.3</td>\n",
       "      <td>57.1</td>\n",
       "      <td>22.0</td>\n",
       "      <td>235.0</td>\n",
       "      <td>11.0</td>\n",
       "    </tr>\n",
       "    <tr>\n",
       "      <th>5526</th>\n",
       "      <td>0.0</td>\n",
       "      <td>344.3</td>\n",
       "      <td>558.5</td>\n",
       "      <td>88.0</td>\n",
       "      <td>26.8</td>\n",
       "      <td>232.1</td>\n",
       "      <td>3.8</td>\n",
       "    </tr>\n",
       "  </tbody>\n",
       "</table>\n",
       "<p>346 rows × 7 columns</p>\n",
       "</div>"
      ],
      "text/plain": [
       "      homicidios  hurtos  robo_lugar  robo_sorpresa  robo_vehiculo  \\\n",
       "6            1.1   507.5       320.3           60.9           89.0   \n",
       "22           0.0    68.0         0.0            0.0            0.0   \n",
       "38           0.0   834.9       256.9            0.0            0.0   \n",
       "54           0.0    81.2        81.2            0.0            0.0   \n",
       "70           0.6   680.3       327.2          211.5          169.7   \n",
       "...          ...     ...         ...            ...            ...   \n",
       "5462         2.8   359.0       451.3           44.0           27.0   \n",
       "5478         3.4   233.4       375.4           27.1            6.8   \n",
       "5494         3.4   332.7       492.3           23.8           20.4   \n",
       "5510         0.0   263.6       529.3           57.1           22.0   \n",
       "5526         0.0   344.3       558.5           88.0           26.8   \n",
       "\n",
       "      robo_violencia  violacion  \n",
       "6              161.2        8.6  \n",
       "22               0.0        0.0  \n",
       "38               0.0       64.2  \n",
       "54               0.0        0.0  \n",
       "70             287.0       18.2  \n",
       "...              ...        ...  \n",
       "5462           293.8        5.7  \n",
       "5478            60.9        6.8  \n",
       "5494            71.3        3.4  \n",
       "5510           235.0       11.0  \n",
       "5526           232.1        3.8  \n",
       "\n",
       "[346 rows x 7 columns]"
      ]
     },
     "execution_count": 2,
     "metadata": {},
     "output_type": "execute_result"
    }
   ],
   "source": [
    "X = dataframe[dataframe[\"anio\"] == 2006]\n",
    "X = X.drop(columns=[\"comuna\", \"anio\"])\n",
    "X"
   ]
  },
  {
   "cell_type": "markdown",
   "metadata": {
    "id": "ZH5aquJWjizK"
   },
   "source": [
    "## K-Means\n",
    "\n",
    "**1.** Cuando usamos K-Means debemos definir previamente el número de clusters que queremos generar. Teniendo en cuenta estos datos, implemente un método que nos permita determinar cuántos clusters usar."
   ]
  },
  {
   "cell_type": "code",
   "execution_count": 106,
   "metadata": {
    "id": "tL2mOfTa3Pds"
   },
   "outputs": [
    {
     "data": {
      "image/png": "[encoded data removed]",
      "text/plain": [
       "<Figure size 720x576 with 1 Axes>"
      ]
     },
     "metadata": {
      "needs_background": "light"
     },
     "output_type": "display_data"
    }
   ],
   "source": [
    "# Respuesta\n",
    "\n",
    "from sklearn.cluster import KMeans\n",
    "import matplotlib.pyplot as plt\n",
    "sse = []\n",
    "\n",
    "rs = 10\n",
    "clusters = list(range(1, 26))\n",
    "for k in clusters:\n",
    "    kmeans = KMeans(n_clusters=k).fit(X)\n",
    "    sse.append(kmeans.inertia_)\n",
    "\n",
    "plt.plot(clusters, sse, marker=\"o\")\n",
    "plt.title(\"Método del codo de 1 a 25 clusters\")\n",
    "plt.grid(True)\n",
    "plt.show()"
   ]
  },
  {
   "cell_type": "markdown",
   "metadata": {
    "id": "x1lHWlA7kqgT"
   },
   "source": [
    "**2.** Cuántos clusters propone usar para este dataset? Justifique su elección."
   ]
  },
  {
   "cell_type": "markdown",
   "metadata": {
    "id": "4m-XgeXPkzq3"
   },
   "source": [
    "> Respuesta: Pese a no diferenciar un punto claro desde donde el error decrece de manera menos significativa, se aprecia que un valor optimo esta entre 3 y 5 clusters, por lo que se propone usar 4, tal que si se eligieran más, posiblemente se estarian separando clusters ya existentes en clusters más pequeños.\n",
    "\n",
    "> Para luego confirmar este valor, y tener un resultado mas confiable, se visualizaran los clusters en grafico de colores para distinguirlos, no sin antes reducir la dimensionalidad a 2."
   ]
  },
  {
   "cell_type": "markdown",
   "metadata": {
    "id": "V7ifMHUa9TQo"
   },
   "source": [
    "**3.** Entrene un modelo de K-Means usando el número de clusters que eligió en la pregunta anterior e imprima las asignaciones de clusters para cada dato."
   ]
  },
  {
   "cell_type": "code",
   "execution_count": 36,
   "metadata": {
    "id": "W769Szoj9aSe"
   },
   "outputs": [
    {
     "name": "stdout",
     "output_type": "stream",
     "text": [
      "[249  91   4   2]\n"
     ]
    }
   ],
   "source": [
    "###### Respuesta\n",
    "kmeans = KMeans(n_clusters = 4, n_init = 20, max_iter = 300, random_state = rs).fit(X)\n",
    "y_pred = kmeans.predict(X)\n",
    "print(np.bincount(y_pred))"
   ]
  },
  {
   "cell_type": "markdown",
   "metadata": {
    "id": "_X2V0E-8jnu7"
   },
   "source": [
    "**4.** Al ejecutar el siguiente código varias veces, obtenemos resultados diferentes. Cómo podría evitar los resultados variables de K-means? Presente al menos 2 opciones para lograr esto. Puede implementarlo o describirlo.\n",
    "\n",
    "> Respuesta: \n",
    "> 1. Para evitar la obtención de resultados diferentes en cada ejecución utilizamos el parámetro de _random_state_, que permite setear el mismo conjunto de valores aleatorios en cada ejecución\n",
    "> 2. Otra manera sería crear un vector de dimensión (n_cluster, n_features)(np.random.rand(n_cluster,n_features)) y setear la semilla(np.random.seed(0)) y darle este vector al parámetro \"init\" de kmeans para utilizar siempre los mismos centroides de partida al correr el algoritmo."
   ]
  },
  {
   "cell_type": "markdown",
   "metadata": {
    "id": "TwD2fgUO9uPh"
   },
   "source": [
    "**5.** Ejecute el siguiente código que bajará la dimensionalidad de los datos de 7 a 2. Grafique los datos transformados y pinte los gráficos para tener una representación visual de los clusters."
   ]
  },
  {
   "cell_type": "code",
   "execution_count": 5,
   "metadata": {
    "id": "4HP4MLyF9_UV"
   },
   "outputs": [],
   "source": [
    "from sklearn.decomposition import PCA\n",
    "\n",
    "new_X = PCA(n_components=2, random_state=0).fit_transform(X)"
   ]
  },
  {
   "cell_type": "code",
   "execution_count": 6,
   "metadata": {
    "id": "bkqt8vNP-du5"
   },
   "outputs": [
    {
     "data": {
      "image/png": "[encoded data removed]",
      "text/plain": [
       "<Figure size 432x288 with 1 Axes>"
      ]
     },
     "metadata": {
      "needs_background": "light"
     },
     "output_type": "display_data"
    }
   ],
   "source": [
    "# Respuesta\n",
    "\n",
    "plt.scatter(new_X[:,0],new_X[:,1], c=kmeans.labels_)\n",
    "plt.title(\"Reducción de dimensionalidad\")\n",
    "plt.show()"
   ]
  },
  {
   "cell_type": "markdown",
   "metadata": {
    "id": "aMeMvKgclbpe"
   },
   "source": [
    "## Clustering Jerárquico Aglomerativo"
   ]
  },
  {
   "cell_type": "markdown",
   "metadata": {
    "id": "maJ6HPXjl3_Q"
   },
   "source": [
    "**1.** Usando los datos anteriores, ejecute cada uno de los 4 métodos de clustering jerárquico: complete, single, average y ward, y visualice los dendrogramas formados. Adjunte el código necesario. No necesita generar los 4 dendrogramas en el mismo gráfico, pueden ser distintos."
   ]
  },
  {
   "cell_type": "code",
   "execution_count": 7,
   "metadata": {
    "id": "UgV5XD4_mH9T"
   },
   "outputs": [],
   "source": [
    "# Respuesta\n",
    "\n",
    "from scipy.cluster.hierarchy import dendrogram, linkage\n",
    "from sklearn.cluster import AgglomerativeClustering\n",
    "\n",
    "complete = linkage(X, method = \"complete\")\n",
    "single = linkage(X, method=\"single\")\n",
    "average = linkage(X, method=\"average\")\n",
    "ward = linkage(X, method=\"ward\")"
   ]
  },
  {
   "cell_type": "code",
   "execution_count": 102,
   "metadata": {},
   "outputs": [
    {
     "data": {
      "image/png": "[encoded data removed]",
      "text/plain": [
       "<Figure size 720x576 with 1 Axes>"
      ]
     },
     "metadata": {
      "needs_background": "light"
     },
     "output_type": "display_data"
    }
   ],
   "source": [
    "#Complete dendrogram\n",
    "dendrogram(complete)\n",
    "plt.title(\"Linkage: Complete\")\n",
    "#plt.axhline(y = 2700, color = \"r\", linestyle = \"--\")\n",
    "plt.show()"
   ]
  },
  {
   "cell_type": "code",
   "execution_count": 103,
   "metadata": {},
   "outputs": [
    {
     "data": {
      "image/png": "[encoded data removed]",
      "text/plain": [
       "<Figure size 720x576 with 1 Axes>"
      ]
     },
     "metadata": {
      "needs_background": "light"
     },
     "output_type": "display_data"
    }
   ],
   "source": [
    "#Single dendrogram\n",
    "dendrogram(single)\n",
    "plt.title(\"Linkage: Single\")\n",
    "#plt.axhline(y = 1250, color = \"r\", linestyle = \"--\")\n",
    "plt.show()"
   ]
  },
  {
   "cell_type": "code",
   "execution_count": 104,
   "metadata": {},
   "outputs": [
    {
     "data": {
      "image/png": "[encoded data removed]",
      "text/plain": [
       "<Figure size 720x576 with 1 Axes>"
      ]
     },
     "metadata": {
      "needs_background": "light"
     },
     "output_type": "display_data"
    }
   ],
   "source": [
    "#Average dendrogram\n",
    "dendrogram(average)\n",
    "plt.title(\"Linkage: Average\")\n",
    "#plt.axhline(y = 2000, color = \"r\", linestyle = \"--\")\n",
    "plt.show()"
   ]
  },
  {
   "cell_type": "code",
   "execution_count": 105,
   "metadata": {},
   "outputs": [
    {
     "data": {
      "image/png": "[encoded data removed]",
      "text/plain": [
       "<Figure size 720x576 with 1 Axes>"
      ]
     },
     "metadata": {
      "needs_background": "light"
     },
     "output_type": "display_data"
    }
   ],
   "source": [
    "#Ward dendrogram\n",
    "dendrogram(ward)\n",
    "plt.title(\"Linkage: Ward\")\n",
    "#plt.axhline(y = 6000, color = \"r\", linestyle = \"--\")\n",
    "plt.show()"
   ]
  },
  {
   "cell_type": "markdown",
   "metadata": {
    "id": "My7CjyF18Dgd"
   },
   "source": [
    "**2.** Fijándose en el método `single`, a qué altura recomendaría cortar el árbol?"
   ]
  },
  {
   "cell_type": "markdown",
   "metadata": {
    "id": "VkDbxu1Y8HWr"
   },
   "source": [
    "> Respuesta: Está dificil identificar un buen corte, aún así se recomienda cortar el arbol a una altura de 1100, punto donde se diferencian 3 clusters."
   ]
  },
  {
   "cell_type": "markdown",
   "metadata": {
    "id": "5sSIrGgfmIGa"
   },
   "source": [
    "**3.** Ahora si miramos el método `ward`, cuántos clusters propone usar? A qué altura se debe cortar el arbol para obtener esa cantidad de clusters?"
   ]
  },
  {
   "cell_type": "markdown",
   "metadata": {
    "id": "FcDfUn6N7vrW"
   },
   "source": [
    "> Respuesta: Se propone usar 3 clusters (en el grafico: naranjo, verde y rojo), por lo que el arbol debe cortarse a una altura de 6000 para poder obtener esa cantidad."
   ]
  },
  {
   "cell_type": "markdown",
   "metadata": {
    "id": "J6YULxJd7wX6"
   },
   "source": [
    "**4.** Implemente el código para asignar clusters a los datos siguiendo lo que usted propuso en la pregunta **2.** y **3.** y liste la asignación de clusters para cada punto del dataset para `single` y `ward`. Cuántos clusters se generan para el método `single` cortando a la altura que propuso en la pregunta **2.**?"
   ]
  },
  {
   "cell_type": "code",
   "execution_count": 95,
   "metadata": {},
   "outputs": [
    {
     "name": "stdout",
     "output_type": "stream",
     "text": [
      "Single:\n",
      "h = 1100 --> N° de clusters: 3\n"
     ]
    }
   ],
   "source": [
    "# Respuesta\n",
    "h = 1100\n",
    "n = 3\n",
    "single_h = AgglomerativeClustering(n_clusters = None, linkage = \"single\", distance_threshold = h).fit(X) #método single\n",
    "ward_n = AgglomerativeClustering(n_clusters = n, linkage = \"ward\").fit(X) #metodo ward\n",
    "\n",
    "print(\"Single:\\nh = {} --> N° de clusters: {}\".format(h, single_h.n_clusters_))"
   ]
  },
  {
   "cell_type": "code",
   "execution_count": 96,
   "metadata": {},
   "outputs": [
    {
     "name": "stdout",
     "output_type": "stream",
     "text": [
      "Single labels:\n",
      " [0 0 0 0 0 0 0 0 0 0 0 0 0 0 0 0 0 0 0 0 0 0 0 0 0 0 0 0 0 0 0 0 0 0 0 0 0\n",
      " 0 0 0 0 0 0 0 0 0 0 0 0 0 0 0 0 0 0 0 0 0 0 0 0 0 0 0 0 0 0 0 0 0 0 0 0 0\n",
      " 0 0 0 0 0 0 0 0 0 0 0 0 0 0 0 0 0 0 0 0 0 0 0 0 0 0 0 0 0 0 0 0 0 0 0 0 0\n",
      " 0 0 0 0 0 0 0 0 0 0 0 0 0 0 0 0 0 0 0 0 0 0 0 0 0 0 0 0 0 0 0 0 0 0 0 0 0\n",
      " 0 0 0 0 0 0 0 0 0 0 0 0 0 0 0 0 0 0 0 0 0 0 0 0 0 0 0 0 0 0 0 0 0 0 0 0 0\n",
      " 0 0 0 0 0 0 0 0 0 0 0 0 0 0 0 0 0 0 0 0 0 0 0 0 0 0 0 0 0 0 0 0 0 0 0 0 0\n",
      " 0 0 0 0 0 0 0 0 0 0 0 0 0 0 0 0 0 0 0 0 0 0 0 0 0 0 0 0 0 0 0 0 0 0 0 0 0\n",
      " 0 0 0 0 0 0 0 0 0 0 0 0 0 0 0 0 0 0 0 0 0 0 0 0 0 0 0 0 0 0 0 0 0 0 0 1 0\n",
      " 0 0 0 0 0 0 0 0 0 0 0 0 0 0 0 0 0 0 0 0 2 0 0 0 0 0 0 0 0 0 0 0 0 0 0 0 0\n",
      " 0 0 0 0 0 0 0 0 0 0 0 0 0]\n",
      "Ward labels:\n",
      " [0 2 0 2 0 0 2 2 0 2 0 2 0 2 0 0 2 0 0 0 0 0 0 2 2 2 2 2 2 0 0 2 2 0 2 2 2\n",
      " 0 2 2 2 2 2 2 0 0 0 2 2 0 0 0 0 2 2 2 0 2 0 2 1 2 0 2 2 2 0 1 1 1 1 0 0 0\n",
      " 0 2 2 2 0 0 0 0 0 2 0 2 0 0 2 0 0 2 2 0 2 2 0 0 0 0 2 2 2 2 2 0 2 2 2 2 2\n",
      " 2 2 2 0 0 0 0 0 2 2 0 2 2 2 0 2 2 0 2 0 0 2 2 2 2 0 0 0 2 0 2 0 2 2 0 0 2\n",
      " 2 2 0 2 0 2 2 2 0 0 0 0 0 0 2 0 0 2 2 2 2 2 2 2 2 2 0 2 2 2 0 2 2 0 2 2 2\n",
      " 2 2 2 2 2 2 0 2 2 2 2 2 2 0 0 0 2 2 2 2 0 0 0 2 0 0 2 0 1 2 2 2 2 0 2 0 0\n",
      " 2 2 2 2 2 0 2 0 0 0 2 0 0 0 2 0 0 2 0 2 0 0 0 2 2 2 2 2 2 0 0 0 2 2 2 2 2\n",
      " 0 2 0 2 2 2 2 2 2 2 2 2 2 2 0 2 0 2 2 0 0 2 0 2 0 2 2 2 2 2 0 0 2 0 2 0 0\n",
      " 2 0 0 0 0 0 0 0 0 0 0 0 0 0 0 0 2 0 0 0 0 2 0 0 0 0 0 0 0 0 0 2 0 0 0 2 0\n",
      " 2 0 2 0 2 0 2 2 0 2 0 0 0]\n"
     ]
    }
   ],
   "source": [
    "print(\"Single labels:\\n\",single_h.labels_)\n",
    "print(\"Ward labels:\\n\",ward_n.labels_)"
   ]
  },
  {
   "cell_type": "markdown",
   "metadata": {
    "id": "o76oGCY6EU66"
   },
   "source": [
    "**5.** Cuántos datos quedan asignados a cada cluster? Agregue el código necesario para obtener esta información para los métodos `single` y `ward`."
   ]
  },
  {
   "cell_type": "code",
   "execution_count": 97,
   "metadata": {
    "id": "5rDF5sBPEsJy"
   },
   "outputs": [
    {
     "name": "stdout",
     "output_type": "stream",
     "text": [
      "Single:\n",
      "\tCluster 0 -> n = 344\n",
      "\tCluster 1 -> n = 1\n",
      "\tCluster 2 -> n = 1\n",
      "Ward:\n",
      "\tCluster 0 -> n = 161\n",
      "\tCluster 1 -> n = 6\n",
      "\tCluster 2 -> n = 179\n"
     ]
    }
   ],
   "source": [
    "# Respuesta\n",
    "labels_single = np.bincount(single_h.labels_)\n",
    "print(\"Single:\")\n",
    "for i, k in enumerate(labels_single):\n",
    "    print(\"\\tCluster {} -> n = {}\".format(i, k))\n",
    "    \n",
    "labels_ward = np.bincount(ward_n.labels_)\n",
    "print(\"Ward:\")\n",
    "for i, k in enumerate(labels_ward):\n",
    "    print(\"\\tCluster {} -> n = {}\".format(i, k))"
   ]
  },
  {
   "cell_type": "markdown",
   "metadata": {
    "id": "ipwD-E76AEXg"
   },
   "source": [
    "**6.** Usando el dataset con dimensiones reducidas generado en la Parte 1, pregunta 5: `new_X`, grafique los datos y pinte los datos con su asignacion de cluster para los métodos `complete` y `ward` para tener una representación visual de los clusters."
   ]
  },
  {
   "cell_type": "code",
   "execution_count": 100,
   "metadata": {
    "id": "gBMTzMuxAe1H"
   },
   "outputs": [
    {
     "data": {
      "image/png": "[encoded data removed]",
      "text/plain": [
       "<Figure size 720x576 with 1 Axes>"
      ]
     },
     "metadata": {
      "needs_background": "light"
     },
     "output_type": "display_data"
    }
   ],
   "source": [
    "# Respuesta\n",
    "complete_n =  AgglomerativeClustering(n_clusters = None, linkage = \"complete\", distance_threshold = 2700).fit(X) #complete se corta a una altura de 2700 donde se pueden observar 3 clusters\n",
    "plt.scatter(new_X[:,0], new_X[:,1], c = complete_n.labels_)\n",
    "plt.title(\"Método Complete con reducción de dimensionalidad\")\n",
    "plt.show()"
   ]
  },
  {
   "cell_type": "code",
   "execution_count": 107,
   "metadata": {},
   "outputs": [
    {
     "data": {
      "image/png": "[encoded data removed]",
      "text/plain": [
       "<Figure size 720x576 with 1 Axes>"
      ]
     },
     "metadata": {
      "needs_background": "light"
     },
     "output_type": "display_data"
    }
   ],
   "source": [
    "plt.scatter(new_X[:,0], new_X[:,1], c = ward_n.labels_)\n",
    "plt.title(\"Método Ward con reducción de dimensionalidad\")\n",
    "plt.show()"
   ]
  },
  {
   "cell_type": "markdown",
   "metadata": {
    "id": "UNVBq6xPfXJd"
   },
   "source": [
    "# Parte 3: Problema Abierto"
   ]
  },
  {
   "cell_type": "markdown",
   "metadata": {
    "id": "-rvQLEcLxzU7"
   },
   "source": [
    "En esta pregunta usted deberá practicar un proceso reducido de minería de datos. Con el conjunto de datos que le daremos a continuación, usted deberá hacer una exploración de datos, aplicar las técnicas correspondientes de pre procesamiento de datos respecto a lo que encuentre y entrenar modelos de clasificación. Finalmente deberá evaluar los modelos que entrenó y justificar la elección de alguno de ellos."
   ]
  },
  {
   "cell_type": "markdown",
   "metadata": {
    "id": "7PfoHIPJ8w3C"
   },
   "source": [
    "Ejecute el siguiente código para cargar los datos que usaremos en esta parte. Los datos se encuentran en el archivo `movies.csv` adjunto en el zip.\n",
    "\n",
    "**Estamos interesados en predecir la variable `imdb_score` a partir de los demas datos.** `imdb_score` es un entero y puede considerarlo como un variable categórica."
   ]
  },
  {
   "cell_type": "code",
   "execution_count": 259,
   "metadata": {
    "id": "dP17B2bp82CA"
   },
   "outputs": [
    {
     "data": {
      "text/html": [
       "<div>\n",
       "<style scoped>\n",
       "    .dataframe tbody tr th:only-of-type {\n",
       "        vertical-align: middle;\n",
       "    }\n",
       "\n",
       "    .dataframe tbody tr th {\n",
       "        vertical-align: top;\n",
       "    }\n",
       "\n",
       "    .dataframe thead th {\n",
       "        text-align: right;\n",
       "    }\n",
       "</style>\n",
       "<table border=\"1\" class=\"dataframe\">\n",
       "  <thead>\n",
       "    <tr style=\"text-align: right;\">\n",
       "      <th></th>\n",
       "      <th>movie_title</th>\n",
       "      <th>imdb_score</th>\n",
       "      <th>title_year</th>\n",
       "      <th>num_voted_users</th>\n",
       "      <th>num_critic_for_reviews</th>\n",
       "      <th>num_user_for_reviews</th>\n",
       "      <th>color</th>\n",
       "      <th>director_name</th>\n",
       "      <th>director_facebook_likes</th>\n",
       "      <th>actor_1_name</th>\n",
       "      <th>...</th>\n",
       "      <th>actor_3_facebook_likes</th>\n",
       "      <th>cast_total_facebook_likes</th>\n",
       "      <th>movie_facebook_likes</th>\n",
       "      <th>duration</th>\n",
       "      <th>gross</th>\n",
       "      <th>language</th>\n",
       "      <th>country</th>\n",
       "      <th>content_rating</th>\n",
       "      <th>budget</th>\n",
       "      <th>aspect_ratio</th>\n",
       "    </tr>\n",
       "  </thead>\n",
       "  <tbody>\n",
       "    <tr>\n",
       "      <th>0</th>\n",
       "      <td>Avatar</td>\n",
       "      <td>8</td>\n",
       "      <td>2009.0</td>\n",
       "      <td>886204</td>\n",
       "      <td>723.0</td>\n",
       "      <td>3054.0</td>\n",
       "      <td>Color</td>\n",
       "      <td>James Cameron</td>\n",
       "      <td>0.0</td>\n",
       "      <td>CCH Pounder</td>\n",
       "      <td>...</td>\n",
       "      <td>855.0</td>\n",
       "      <td>4834</td>\n",
       "      <td>33000</td>\n",
       "      <td>178.0</td>\n",
       "      <td>760505847.0</td>\n",
       "      <td>English</td>\n",
       "      <td>USA</td>\n",
       "      <td>PG-13</td>\n",
       "      <td>237000000.0</td>\n",
       "      <td>1.78</td>\n",
       "    </tr>\n",
       "    <tr>\n",
       "      <th>1</th>\n",
       "      <td>Pirates of the Caribbean: At World's End</td>\n",
       "      <td>7</td>\n",
       "      <td>2007.0</td>\n",
       "      <td>471220</td>\n",
       "      <td>302.0</td>\n",
       "      <td>1238.0</td>\n",
       "      <td>Color</td>\n",
       "      <td>Gore Verbinski</td>\n",
       "      <td>563.0</td>\n",
       "      <td>Johnny Depp</td>\n",
       "      <td>...</td>\n",
       "      <td>1000.0</td>\n",
       "      <td>48350</td>\n",
       "      <td>0</td>\n",
       "      <td>169.0</td>\n",
       "      <td>309404152.0</td>\n",
       "      <td>English</td>\n",
       "      <td>USA</td>\n",
       "      <td>PG-13</td>\n",
       "      <td>300000000.0</td>\n",
       "      <td>2.35</td>\n",
       "    </tr>\n",
       "    <tr>\n",
       "      <th>2</th>\n",
       "      <td>Spectre</td>\n",
       "      <td>7</td>\n",
       "      <td>2015.0</td>\n",
       "      <td>275868</td>\n",
       "      <td>602.0</td>\n",
       "      <td>994.0</td>\n",
       "      <td>Color</td>\n",
       "      <td>Sam Mendes</td>\n",
       "      <td>0.0</td>\n",
       "      <td>Christoph Waltz</td>\n",
       "      <td>...</td>\n",
       "      <td>161.0</td>\n",
       "      <td>11700</td>\n",
       "      <td>85000</td>\n",
       "      <td>148.0</td>\n",
       "      <td>200074175.0</td>\n",
       "      <td>English</td>\n",
       "      <td>UK</td>\n",
       "      <td>PG-13</td>\n",
       "      <td>245000000.0</td>\n",
       "      <td>2.35</td>\n",
       "    </tr>\n",
       "    <tr>\n",
       "      <th>3</th>\n",
       "      <td>The Dark Knight Rises</td>\n",
       "      <td>8</td>\n",
       "      <td>2012.0</td>\n",
       "      <td>1144337</td>\n",
       "      <td>813.0</td>\n",
       "      <td>2701.0</td>\n",
       "      <td>Color</td>\n",
       "      <td>Christopher Nolan</td>\n",
       "      <td>22000.0</td>\n",
       "      <td>Tom Hardy</td>\n",
       "      <td>...</td>\n",
       "      <td>23000.0</td>\n",
       "      <td>106759</td>\n",
       "      <td>164000</td>\n",
       "      <td>164.0</td>\n",
       "      <td>448130642.0</td>\n",
       "      <td>English</td>\n",
       "      <td>USA</td>\n",
       "      <td>PG-13</td>\n",
       "      <td>250000000.0</td>\n",
       "      <td>2.35</td>\n",
       "    </tr>\n",
       "    <tr>\n",
       "      <th>4</th>\n",
       "      <td>Star Wars: Episode VII - The Force Awakens    ...</td>\n",
       "      <td>7</td>\n",
       "      <td>NaN</td>\n",
       "      <td>8</td>\n",
       "      <td>NaN</td>\n",
       "      <td>NaN</td>\n",
       "      <td>NaN</td>\n",
       "      <td>Doug Walker</td>\n",
       "      <td>131.0</td>\n",
       "      <td>Doug Walker</td>\n",
       "      <td>...</td>\n",
       "      <td>NaN</td>\n",
       "      <td>143</td>\n",
       "      <td>0</td>\n",
       "      <td>NaN</td>\n",
       "      <td>NaN</td>\n",
       "      <td>NaN</td>\n",
       "      <td>NaN</td>\n",
       "      <td>NaN</td>\n",
       "      <td>NaN</td>\n",
       "      <td>NaN</td>\n",
       "    </tr>\n",
       "  </tbody>\n",
       "</table>\n",
       "<p>5 rows × 24 columns</p>\n",
       "</div>"
      ],
      "text/plain": [
       "                                         movie_title  imdb_score  title_year  \\\n",
       "0                                            Avatar            8      2009.0   \n",
       "1          Pirates of the Caribbean: At World's End            7      2007.0   \n",
       "2                                           Spectre            7      2015.0   \n",
       "3                             The Dark Knight Rises            8      2012.0   \n",
       "4  Star Wars: Episode VII - The Force Awakens    ...           7         NaN   \n",
       "\n",
       "   num_voted_users  num_critic_for_reviews  num_user_for_reviews  color  \\\n",
       "0           886204                   723.0                3054.0  Color   \n",
       "1           471220                   302.0                1238.0  Color   \n",
       "2           275868                   602.0                 994.0  Color   \n",
       "3          1144337                   813.0                2701.0  Color   \n",
       "4                8                     NaN                   NaN    NaN   \n",
       "\n",
       "       director_name  director_facebook_likes     actor_1_name  ...  \\\n",
       "0      James Cameron                      0.0      CCH Pounder  ...   \n",
       "1     Gore Verbinski                    563.0      Johnny Depp  ...   \n",
       "2         Sam Mendes                      0.0  Christoph Waltz  ...   \n",
       "3  Christopher Nolan                  22000.0        Tom Hardy  ...   \n",
       "4        Doug Walker                    131.0      Doug Walker  ...   \n",
       "\n",
       "   actor_3_facebook_likes cast_total_facebook_likes  movie_facebook_likes  \\\n",
       "0                   855.0                      4834                 33000   \n",
       "1                  1000.0                     48350                     0   \n",
       "2                   161.0                     11700                 85000   \n",
       "3                 23000.0                    106759                164000   \n",
       "4                     NaN                       143                     0   \n",
       "\n",
       "  duration        gross  language  country  content_rating       budget  \\\n",
       "0    178.0  760505847.0   English      USA           PG-13  237000000.0   \n",
       "1    169.0  309404152.0   English      USA           PG-13  300000000.0   \n",
       "2    148.0  200074175.0   English       UK           PG-13  245000000.0   \n",
       "3    164.0  448130642.0   English      USA           PG-13  250000000.0   \n",
       "4      NaN          NaN       NaN      NaN             NaN          NaN   \n",
       "\n",
       "  aspect_ratio  \n",
       "0         1.78  \n",
       "1         2.35  \n",
       "2         2.35  \n",
       "3         2.35  \n",
       "4          NaN  \n",
       "\n",
       "[5 rows x 24 columns]"
      ]
     },
     "execution_count": 259,
     "metadata": {},
     "output_type": "execute_result"
    }
   ],
   "source": [
    "import seaborn as sns\n",
    "import pandas as pd \n",
    "import numpy as np\n",
    "data_file = \"movies.csv\"\n",
    "from matplotlib import rcParams\n",
    "rcParams[\"figure.figsize\"] = 10,8\n",
    "\n",
    "movies = pd.read_csv(data_file)\n",
    "movies.head()"
   ]
  },
  {
   "cell_type": "markdown",
   "metadata": {
    "id": "mE4PFXhY0Pdt"
   },
   "source": [
    "## Exploración de datos\n",
    "\n",
    "**1.** Explore el dataset y de una descripción del dataset. Algunos puntos que puede tocar son el número de datos en el dataset, número de features, tipos de cada features y rangos, datos erroneos, etc.\n",
    "Aplique el preprocesamiento necesario tal que los datos queden usables para los modelos de clasificación.\n",
    "\n",
    "Nota: Como la parte de exploración puede ser tan compleja y detallada como uno quiera, tendremos una pauta con lo mínimo que uno debería hacer en un dataset. Consideraremos análisis más detallados como un bonus a esta u otras tareas."
   ]
  },
  {
   "cell_type": "markdown",
   "metadata": {
    "id": "kgaSDThNM_Pm"
   },
   "source": [
    "Como una guía para encaminar la exploración, puede considerar los siguientes hints.\n",
    "\n",
    "**Hints generales:**\n",
    "* Los datos no vienen limpios y tienen varios problemas que usted sabe como solucionar.\n",
    "* Qué tipos de datos tiene cada columna?\n",
    "* Cómo se relacionan las features?\n",
    "\n",
    "**Hints para bonus:** (no todos los hints corresponden a un puro análisis o procesamiento que pueden hacer sobre los datos, 2 hints pueden corresponden a la misma recomendación)\n",
    "* Hay features (categóricas) que no aportan información, qué análisis le serviría para ver cómo impactan en el score?\n",
    "* Revise los nombres de actores y directores.\n",
    "* Algunas features tienen outliers, encuéntrelos y limpie el dataset. Recuerde el boxplot.\n",
    "* Qué pasa si hay features extremadamente relacionadas entre sí?\n",
    "* Temporalmente, son todos los datos representativos al escenario actual?\n",
    "* Considere el siguiente código y vea si le sirve para algún tipo de análisis:\n",
    "```python\n",
    "feature = \"...\"\n",
    "# esto cuenta las ocurrencias de cada valor en 'feature'\n",
    "count = data[feature].value_counts()\n",
    "# esto calcula el score promedio por cada valor del 'feature'\n",
    "avg_score = data.groupby(feature)[\"imdb_score\"].mean()\n",
    "# los juntamos en un mismo dataframe\n",
    "count.to_frame().join(avg_score)\n",
    "```\n"
   ]
  },
  {
   "cell_type": "markdown",
   "metadata": {
    "id": "-G_cNoQGHq29"
   },
   "source": [
    "### Respuesta."
   ]
  },
  {
   "cell_type": "code",
   "execution_count": 260,
   "metadata": {},
   "outputs": [
    {
     "name": "stdout",
     "output_type": "stream",
     "text": [
      "Cantidad de instancias: 5043\n",
      "Cantidad de atributos: 24\n"
     ]
    }
   ],
   "source": [
    "print(\"Cantidad de instancias:\", movies.shape[0])\n",
    "print(\"Cantidad de atributos:\", movies.shape[1])"
   ]
  },
  {
   "cell_type": "markdown",
   "metadata": {},
   "source": [
    "Contamos con 5043 filas con 24 atributos.\n",
    "\n",
    "El detalle de los 24 atributos se puede ver a continuación:"
   ]
  },
  {
   "cell_type": "code",
   "execution_count": 261,
   "metadata": {},
   "outputs": [
    {
     "name": "stdout",
     "output_type": "stream",
     "text": [
      "<class 'pandas.core.frame.DataFrame'>\n",
      "RangeIndex: 5043 entries, 0 to 5042\n",
      "Data columns (total 24 columns):\n",
      " #   Column                     Non-Null Count  Dtype  \n",
      "---  ------                     --------------  -----  \n",
      " 0   movie_title                5043 non-null   object \n",
      " 1   imdb_score                 5043 non-null   int64  \n",
      " 2   title_year                 4935 non-null   float64\n",
      " 3   num_voted_users            5043 non-null   int64  \n",
      " 4   num_critic_for_reviews     4993 non-null   float64\n",
      " 5   num_user_for_reviews       5022 non-null   float64\n",
      " 6   color                      5024 non-null   object \n",
      " 7   director_name              4939 non-null   object \n",
      " 8   director_facebook_likes    4939 non-null   float64\n",
      " 9   actor_1_name               5036 non-null   object \n",
      " 10  actor_1_facebook_likes     5036 non-null   float64\n",
      " 11  actor_2_name               5030 non-null   object \n",
      " 12  actor_2_facebook_likes     5030 non-null   float64\n",
      " 13  actor_3_name               5020 non-null   object \n",
      " 14  actor_3_facebook_likes     5020 non-null   float64\n",
      " 15  cast_total_facebook_likes  5043 non-null   int64  \n",
      " 16  movie_facebook_likes       5043 non-null   int64  \n",
      " 17  duration                   5028 non-null   float64\n",
      " 18  gross                      4159 non-null   float64\n",
      " 19  language                   5031 non-null   object \n",
      " 20  country                    5038 non-null   object \n",
      " 21  content_rating             4740 non-null   object \n",
      " 22  budget                     4551 non-null   float64\n",
      " 23  aspect_ratio               4714 non-null   float64\n",
      "dtypes: float64(11), int64(4), object(9)\n",
      "memory usage: 945.7+ KB\n"
     ]
    }
   ],
   "source": [
    "movies.info()"
   ]
  },
  {
   "cell_type": "markdown",
   "metadata": {},
   "source": [
    "Si revisamos la cantidad de valores nulos por feature se tiene lo siguiente:"
   ]
  },
  {
   "cell_type": "code",
   "execution_count": 262,
   "metadata": {},
   "outputs": [
    {
     "data": {
      "text/plain": [
       "movie_title                    0\n",
       "imdb_score                     0\n",
       "title_year                   108\n",
       "num_voted_users                0\n",
       "num_critic_for_reviews        50\n",
       "num_user_for_reviews          21\n",
       "color                         19\n",
       "director_name                104\n",
       "director_facebook_likes      104\n",
       "actor_1_name                   7\n",
       "actor_1_facebook_likes         7\n",
       "actor_2_name                  13\n",
       "actor_2_facebook_likes        13\n",
       "actor_3_name                  23\n",
       "actor_3_facebook_likes        23\n",
       "cast_total_facebook_likes      0\n",
       "movie_facebook_likes           0\n",
       "duration                      15\n",
       "gross                        884\n",
       "language                      12\n",
       "country                        5\n",
       "content_rating               303\n",
       "budget                       492\n",
       "aspect_ratio                 329\n",
       "dtype: int64"
      ]
     },
     "execution_count": 262,
     "metadata": {},
     "output_type": "execute_result"
    }
   ],
   "source": [
    "movies.isnull().sum()"
   ]
  },
  {
   "cell_type": "code",
   "execution_count": 263,
   "metadata": {},
   "outputs": [
    {
     "data": {
      "text/plain": [
       "0"
      ]
     },
     "execution_count": 263,
     "metadata": {},
     "output_type": "execute_result"
    }
   ],
   "source": [
    "#Eliminamos los valores nulos\n",
    "movies = movies.dropna()\n",
    "movies.isnull().sum().sum()"
   ]
  },
  {
   "cell_type": "markdown",
   "metadata": {},
   "source": [
    "Viendo la cantidad de valores duplicados..."
   ]
  },
  {
   "cell_type": "code",
   "execution_count": 264,
   "metadata": {},
   "outputs": [
    {
     "data": {
      "text/plain": [
       "False    3742\n",
       "True       33\n",
       "dtype: int64"
      ]
     },
     "execution_count": 264,
     "metadata": {},
     "output_type": "execute_result"
    }
   ],
   "source": [
    "movies.duplicated().value_counts() "
   ]
  },
  {
   "cell_type": "code",
   "execution_count": 265,
   "metadata": {},
   "outputs": [
    {
     "data": {
      "text/plain": [
       "False    3742\n",
       "dtype: int64"
      ]
     },
     "execution_count": 265,
     "metadata": {},
     "output_type": "execute_result"
    }
   ],
   "source": [
    "#Borramos los datos duplicados\n",
    "movies = movies.drop_duplicates()\n",
    "movies.duplicated().value_counts() "
   ]
  },
  {
   "cell_type": "markdown",
   "metadata": {},
   "source": [
    "Si ahora revisamos la cantidad de valores únicos por feature"
   ]
  },
  {
   "cell_type": "code",
   "execution_count": 266,
   "metadata": {},
   "outputs": [
    {
     "data": {
      "text/plain": [
       "movie_title                  3674\n",
       "imdb_score                      8\n",
       "title_year                     74\n",
       "num_voted_users              3693\n",
       "num_critic_for_reviews        527\n",
       "num_user_for_reviews          942\n",
       "color                           2\n",
       "director_name                1670\n",
       "director_facebook_likes       395\n",
       "actor_1_name                 1439\n",
       "actor_1_facebook_likes        717\n",
       "actor_2_name                 2203\n",
       "actor_2_facebook_likes        857\n",
       "actor_3_name                 2600\n",
       "actor_3_facebook_likes        882\n",
       "cast_total_facebook_likes    3257\n",
       "movie_facebook_likes          660\n",
       "duration                      152\n",
       "gross                        3657\n",
       "language                       34\n",
       "country                        45\n",
       "content_rating                 12\n",
       "budget                        361\n",
       "aspect_ratio                   18\n",
       "dtype: int64"
      ]
     },
     "execution_count": 266,
     "metadata": {},
     "output_type": "execute_result"
    }
   ],
   "source": [
    "movies.nunique()"
   ]
  },
  {
   "cell_type": "markdown",
   "metadata": {},
   "source": [
    "Los nombres de actores y directores no aportan información, asi como también el nombre de la película, los procederemos a quitar:"
   ]
  },
  {
   "cell_type": "code",
   "execution_count": 269,
   "metadata": {},
   "outputs": [],
   "source": [
    "movies.drop(columns=[\"movie_title\",\"director_name\", \"actor_1_name\",\"actor_2_name\",\"actor_3_name\"], inplace=True)"
   ]
  },
  {
   "cell_type": "markdown",
   "metadata": {},
   "source": [
    "Si utilizamos el hint para ver el promedio de imdb_score en función del lenguaje, se tiene"
   ]
  },
  {
   "cell_type": "code",
   "execution_count": 270,
   "metadata": {},
   "outputs": [
    {
     "data": {
      "text/plain": [
       "language\n",
       "Aboriginal    7.000000\n",
       "Arabic        7.000000\n",
       "Aramaic       7.000000\n",
       "Bosnian       4.000000\n",
       "Cantonese     7.428571\n",
       "Czech         7.000000\n",
       "Danish        7.666667\n",
       "Dari          7.500000\n",
       "Dutch         7.666667\n",
       "English       6.427176\n",
       "Filipino      7.000000\n",
       "French        7.382353\n",
       "German        7.636364\n",
       "Hebrew        8.000000\n",
       "Hindi         7.200000\n",
       "Hungarian     7.000000\n",
       "Indonesian    8.000000\n",
       "Italian       7.142857\n",
       "Japanese      7.700000\n",
       "Kazakh        6.000000\n",
       "Korean        7.600000\n",
       "Mandarin      7.071429\n",
       "Maya          8.000000\n",
       "Mongolian     7.000000\n",
       "None          8.000000\n",
       "Norwegian     7.250000\n",
       "Persian       8.000000\n",
       "Portuguese    7.800000\n",
       "Romanian      8.000000\n",
       "Russian       6.000000\n",
       "Spanish       7.217391\n",
       "Thai          6.666667\n",
       "Vietnamese    7.000000\n",
       "Zulu          7.000000\n",
       "Name: imdb_score, dtype: float64"
      ]
     },
     "execution_count": 270,
     "metadata": {},
     "output_type": "execute_result"
    }
   ],
   "source": [
    "feature = \"language\"\n",
    "# esto cuenta las ocurrencias de cada valor en 'feature'\n",
    "count = movies[feature].value_counts()\n",
    "# esto calcula el score promedio por cada valor del 'feature'\n",
    "avg_score = movies.groupby(feature)[\"imdb_score\"].mean()\n",
    "# los juntamos en un mismo dataframe\n",
    "count.to_frame().join(avg_score)\n",
    "avg_score"
   ]
  },
  {
   "cell_type": "markdown",
   "metadata": {},
   "source": [
    "Parecen no existir grandes diferencias, asimismo si miramos la cantidad de películas por lenguaje obtenemos:"
   ]
  },
  {
   "cell_type": "code",
   "execution_count": 272,
   "metadata": {},
   "outputs": [
    {
     "data": {
      "text/plain": [
       "English       3584\n",
       "French          34\n",
       "Spanish         23\n",
       "Mandarin        14\n",
       "German          11\n",
       "Japanese        10\n",
       "Cantonese        7\n",
       "Italian          7\n",
       "Korean           5\n",
       "Portuguese       5\n",
       "Hindi            5\n",
       "Norwegian        4\n",
       "Persian          3\n",
       "Danish           3\n",
       "Dutch            3\n",
       "Thai             3\n",
       "Dari             2\n",
       "Aboriginal       2\n",
       "Indonesian       2\n",
       "Czech            1\n",
       "Arabic           1\n",
       "Zulu             1\n",
       "Vietnamese       1\n",
       "Maya             1\n",
       "Bosnian          1\n",
       "None             1\n",
       "Mongolian        1\n",
       "Kazakh           1\n",
       "Hungarian        1\n",
       "Aramaic          1\n",
       "Filipino         1\n",
       "Romanian         1\n",
       "Russian          1\n",
       "Hebrew           1\n",
       "Name: language, dtype: int64"
      ]
     },
     "execution_count": 272,
     "metadata": {},
     "output_type": "execute_result"
    }
   ],
   "source": [
    "count"
   ]
  },
  {
   "cell_type": "markdown",
   "metadata": {},
   "source": [
    "La mayoría está en inglés, se podría omitir esta variable, observamos que no hay mucha diferencia entre los promedios y la cantidad películas por lenguaje está bastante desbalanceada"
   ]
  },
  {
   "cell_type": "code",
   "execution_count": 273,
   "metadata": {},
   "outputs": [],
   "source": [
    "movies.drop(columns= [\"language\"], inplace = True)"
   ]
  },
  {
   "cell_type": "code",
   "execution_count": 274,
   "metadata": {},
   "outputs": [
    {
     "data": {
      "text/html": [
       "<div>\n",
       "<style scoped>\n",
       "    .dataframe tbody tr th:only-of-type {\n",
       "        vertical-align: middle;\n",
       "    }\n",
       "\n",
       "    .dataframe tbody tr th {\n",
       "        vertical-align: top;\n",
       "    }\n",
       "\n",
       "    .dataframe thead th {\n",
       "        text-align: right;\n",
       "    }\n",
       "</style>\n",
       "<table border=\"1\" class=\"dataframe\">\n",
       "  <thead>\n",
       "    <tr style=\"text-align: right;\">\n",
       "      <th></th>\n",
       "      <th>imdb_score</th>\n",
       "      <th>title_year</th>\n",
       "      <th>num_voted_users</th>\n",
       "      <th>num_critic_for_reviews</th>\n",
       "      <th>num_user_for_reviews</th>\n",
       "      <th>color</th>\n",
       "      <th>director_facebook_likes</th>\n",
       "      <th>actor_1_facebook_likes</th>\n",
       "      <th>actor_2_facebook_likes</th>\n",
       "      <th>actor_3_facebook_likes</th>\n",
       "      <th>cast_total_facebook_likes</th>\n",
       "      <th>movie_facebook_likes</th>\n",
       "      <th>duration</th>\n",
       "      <th>gross</th>\n",
       "      <th>country</th>\n",
       "      <th>content_rating</th>\n",
       "      <th>budget</th>\n",
       "      <th>aspect_ratio</th>\n",
       "    </tr>\n",
       "  </thead>\n",
       "  <tbody>\n",
       "    <tr>\n",
       "      <th>0</th>\n",
       "      <td>8</td>\n",
       "      <td>2009.0</td>\n",
       "      <td>886204</td>\n",
       "      <td>723.0</td>\n",
       "      <td>3054.0</td>\n",
       "      <td>Color</td>\n",
       "      <td>0.0</td>\n",
       "      <td>1000.0</td>\n",
       "      <td>936.0</td>\n",
       "      <td>855.0</td>\n",
       "      <td>4834</td>\n",
       "      <td>33000</td>\n",
       "      <td>178.0</td>\n",
       "      <td>760505847.0</td>\n",
       "      <td>USA</td>\n",
       "      <td>PG-13</td>\n",
       "      <td>237000000.0</td>\n",
       "      <td>1.78</td>\n",
       "    </tr>\n",
       "    <tr>\n",
       "      <th>1</th>\n",
       "      <td>7</td>\n",
       "      <td>2007.0</td>\n",
       "      <td>471220</td>\n",
       "      <td>302.0</td>\n",
       "      <td>1238.0</td>\n",
       "      <td>Color</td>\n",
       "      <td>563.0</td>\n",
       "      <td>40000.0</td>\n",
       "      <td>5000.0</td>\n",
       "      <td>1000.0</td>\n",
       "      <td>48350</td>\n",
       "      <td>0</td>\n",
       "      <td>169.0</td>\n",
       "      <td>309404152.0</td>\n",
       "      <td>USA</td>\n",
       "      <td>PG-13</td>\n",
       "      <td>300000000.0</td>\n",
       "      <td>2.35</td>\n",
       "    </tr>\n",
       "    <tr>\n",
       "      <th>2</th>\n",
       "      <td>7</td>\n",
       "      <td>2015.0</td>\n",
       "      <td>275868</td>\n",
       "      <td>602.0</td>\n",
       "      <td>994.0</td>\n",
       "      <td>Color</td>\n",
       "      <td>0.0</td>\n",
       "      <td>11000.0</td>\n",
       "      <td>393.0</td>\n",
       "      <td>161.0</td>\n",
       "      <td>11700</td>\n",
       "      <td>85000</td>\n",
       "      <td>148.0</td>\n",
       "      <td>200074175.0</td>\n",
       "      <td>UK</td>\n",
       "      <td>PG-13</td>\n",
       "      <td>245000000.0</td>\n",
       "      <td>2.35</td>\n",
       "    </tr>\n",
       "    <tr>\n",
       "      <th>3</th>\n",
       "      <td>8</td>\n",
       "      <td>2012.0</td>\n",
       "      <td>1144337</td>\n",
       "      <td>813.0</td>\n",
       "      <td>2701.0</td>\n",
       "      <td>Color</td>\n",
       "      <td>22000.0</td>\n",
       "      <td>27000.0</td>\n",
       "      <td>23000.0</td>\n",
       "      <td>23000.0</td>\n",
       "      <td>106759</td>\n",
       "      <td>164000</td>\n",
       "      <td>164.0</td>\n",
       "      <td>448130642.0</td>\n",
       "      <td>USA</td>\n",
       "      <td>PG-13</td>\n",
       "      <td>250000000.0</td>\n",
       "      <td>2.35</td>\n",
       "    </tr>\n",
       "    <tr>\n",
       "      <th>5</th>\n",
       "      <td>7</td>\n",
       "      <td>2012.0</td>\n",
       "      <td>212204</td>\n",
       "      <td>462.0</td>\n",
       "      <td>738.0</td>\n",
       "      <td>Color</td>\n",
       "      <td>475.0</td>\n",
       "      <td>640.0</td>\n",
       "      <td>632.0</td>\n",
       "      <td>530.0</td>\n",
       "      <td>1873</td>\n",
       "      <td>24000</td>\n",
       "      <td>132.0</td>\n",
       "      <td>73058679.0</td>\n",
       "      <td>USA</td>\n",
       "      <td>PG-13</td>\n",
       "      <td>263700000.0</td>\n",
       "      <td>2.35</td>\n",
       "    </tr>\n",
       "  </tbody>\n",
       "</table>\n",
       "</div>"
      ],
      "text/plain": [
       "   imdb_score  title_year  num_voted_users  num_critic_for_reviews  \\\n",
       "0           8      2009.0           886204                   723.0   \n",
       "1           7      2007.0           471220                   302.0   \n",
       "2           7      2015.0           275868                   602.0   \n",
       "3           8      2012.0          1144337                   813.0   \n",
       "5           7      2012.0           212204                   462.0   \n",
       "\n",
       "   num_user_for_reviews  color  director_facebook_likes  \\\n",
       "0                3054.0  Color                      0.0   \n",
       "1                1238.0  Color                    563.0   \n",
       "2                 994.0  Color                      0.0   \n",
       "3                2701.0  Color                  22000.0   \n",
       "5                 738.0  Color                    475.0   \n",
       "\n",
       "   actor_1_facebook_likes  actor_2_facebook_likes  actor_3_facebook_likes  \\\n",
       "0                  1000.0                   936.0                   855.0   \n",
       "1                 40000.0                  5000.0                  1000.0   \n",
       "2                 11000.0                   393.0                   161.0   \n",
       "3                 27000.0                 23000.0                 23000.0   \n",
       "5                   640.0                   632.0                   530.0   \n",
       "\n",
       "   cast_total_facebook_likes  movie_facebook_likes  duration        gross  \\\n",
       "0                       4834                 33000     178.0  760505847.0   \n",
       "1                      48350                     0     169.0  309404152.0   \n",
       "2                      11700                 85000     148.0  200074175.0   \n",
       "3                     106759                164000     164.0  448130642.0   \n",
       "5                       1873                 24000     132.0   73058679.0   \n",
       "\n",
       "  country content_rating       budget  aspect_ratio  \n",
       "0     USA          PG-13  237000000.0          1.78  \n",
       "1     USA          PG-13  300000000.0          2.35  \n",
       "2      UK          PG-13  245000000.0          2.35  \n",
       "3     USA          PG-13  250000000.0          2.35  \n",
       "5     USA          PG-13  263700000.0          2.35  "
      ]
     },
     "execution_count": 274,
     "metadata": {},
     "output_type": "execute_result"
    }
   ],
   "source": [
    "movies.head()"
   ]
  },
  {
   "cell_type": "markdown",
   "metadata": {},
   "source": [
    "Si revisamos la estadística descriptiva de los datos limpios se tiene:"
   ]
  },
  {
   "cell_type": "code",
   "execution_count": 275,
   "metadata": {
    "scrolled": true
   },
   "outputs": [
    {
     "data": {
      "text/html": [
       "<div>\n",
       "<style scoped>\n",
       "    .dataframe tbody tr th:only-of-type {\n",
       "        vertical-align: middle;\n",
       "    }\n",
       "\n",
       "    .dataframe tbody tr th {\n",
       "        vertical-align: top;\n",
       "    }\n",
       "\n",
       "    .dataframe thead th {\n",
       "        text-align: right;\n",
       "    }\n",
       "</style>\n",
       "<table border=\"1\" class=\"dataframe\">\n",
       "  <thead>\n",
       "    <tr style=\"text-align: right;\">\n",
       "      <th></th>\n",
       "      <th>imdb_score</th>\n",
       "      <th>title_year</th>\n",
       "      <th>num_voted_users</th>\n",
       "      <th>num_critic_for_reviews</th>\n",
       "      <th>num_user_for_reviews</th>\n",
       "      <th>director_facebook_likes</th>\n",
       "      <th>actor_1_facebook_likes</th>\n",
       "      <th>actor_2_facebook_likes</th>\n",
       "      <th>actor_3_facebook_likes</th>\n",
       "      <th>cast_total_facebook_likes</th>\n",
       "      <th>movie_facebook_likes</th>\n",
       "      <th>duration</th>\n",
       "      <th>gross</th>\n",
       "      <th>budget</th>\n",
       "      <th>aspect_ratio</th>\n",
       "    </tr>\n",
       "  </thead>\n",
       "  <tbody>\n",
       "    <tr>\n",
       "      <th>count</th>\n",
       "      <td>3742.000000</td>\n",
       "      <td>3742.000000</td>\n",
       "      <td>3.742000e+03</td>\n",
       "      <td>3742.000000</td>\n",
       "      <td>3742.000000</td>\n",
       "      <td>3742.000000</td>\n",
       "      <td>3742.000000</td>\n",
       "      <td>3742.000000</td>\n",
       "      <td>3742.000000</td>\n",
       "      <td>3742.000000</td>\n",
       "      <td>3742.000000</td>\n",
       "      <td>3742.000000</td>\n",
       "      <td>3.742000e+03</td>\n",
       "      <td>3.742000e+03</td>\n",
       "      <td>3742.000000</td>\n",
       "    </tr>\n",
       "    <tr>\n",
       "      <th>mean</th>\n",
       "      <td>6.465794</td>\n",
       "      <td>2003.013629</td>\n",
       "      <td>1.052270e+05</td>\n",
       "      <td>166.637627</td>\n",
       "      <td>334.862640</td>\n",
       "      <td>805.915286</td>\n",
       "      <td>7709.319081</td>\n",
       "      <td>2001.559327</td>\n",
       "      <td>762.443079</td>\n",
       "      <td>11448.166221</td>\n",
       "      <td>9324.955906</td>\n",
       "      <td>110.235703</td>\n",
       "      <td>5.236814e+07</td>\n",
       "      <td>4.610755e+07</td>\n",
       "      <td>2.111058</td>\n",
       "    </tr>\n",
       "    <tr>\n",
       "      <th>std</th>\n",
       "      <td>1.099576</td>\n",
       "      <td>9.893395</td>\n",
       "      <td>1.515840e+05</td>\n",
       "      <td>123.663224</td>\n",
       "      <td>410.880079</td>\n",
       "      <td>3069.301059</td>\n",
       "      <td>15526.036661</td>\n",
       "      <td>4521.216677</td>\n",
       "      <td>1864.550647</td>\n",
       "      <td>19076.850481</td>\n",
       "      <td>21536.906438</td>\n",
       "      <td>22.681529</td>\n",
       "      <td>6.982355e+07</td>\n",
       "      <td>2.264059e+08</td>\n",
       "      <td>0.353447</td>\n",
       "    </tr>\n",
       "    <tr>\n",
       "      <th>min</th>\n",
       "      <td>2.000000</td>\n",
       "      <td>1927.000000</td>\n",
       "      <td>2.200000e+01</td>\n",
       "      <td>1.000000</td>\n",
       "      <td>1.000000</td>\n",
       "      <td>0.000000</td>\n",
       "      <td>0.000000</td>\n",
       "      <td>0.000000</td>\n",
       "      <td>0.000000</td>\n",
       "      <td>0.000000</td>\n",
       "      <td>0.000000</td>\n",
       "      <td>37.000000</td>\n",
       "      <td>1.620000e+02</td>\n",
       "      <td>2.180000e+02</td>\n",
       "      <td>1.180000</td>\n",
       "    </tr>\n",
       "    <tr>\n",
       "      <th>25%</th>\n",
       "      <td>6.000000</td>\n",
       "      <td>1999.000000</td>\n",
       "      <td>1.924800e+04</td>\n",
       "      <td>76.000000</td>\n",
       "      <td>109.000000</td>\n",
       "      <td>11.000000</td>\n",
       "      <td>742.000000</td>\n",
       "      <td>380.000000</td>\n",
       "      <td>192.000000</td>\n",
       "      <td>1898.250000</td>\n",
       "      <td>0.000000</td>\n",
       "      <td>96.000000</td>\n",
       "      <td>8.058288e+06</td>\n",
       "      <td>1.000000e+07</td>\n",
       "      <td>1.850000</td>\n",
       "    </tr>\n",
       "    <tr>\n",
       "      <th>50%</th>\n",
       "      <td>7.000000</td>\n",
       "      <td>2005.000000</td>\n",
       "      <td>5.355750e+04</td>\n",
       "      <td>138.000000</td>\n",
       "      <td>209.000000</td>\n",
       "      <td>62.000000</td>\n",
       "      <td>1000.000000</td>\n",
       "      <td>682.500000</td>\n",
       "      <td>434.000000</td>\n",
       "      <td>3997.500000</td>\n",
       "      <td>227.000000</td>\n",
       "      <td>106.000000</td>\n",
       "      <td>2.998654e+07</td>\n",
       "      <td>2.500000e+07</td>\n",
       "      <td>2.350000</td>\n",
       "    </tr>\n",
       "    <tr>\n",
       "      <th>75%</th>\n",
       "      <td>7.000000</td>\n",
       "      <td>2010.000000</td>\n",
       "      <td>1.279002e+05</td>\n",
       "      <td>224.000000</td>\n",
       "      <td>397.750000</td>\n",
       "      <td>234.000000</td>\n",
       "      <td>13000.000000</td>\n",
       "      <td>975.000000</td>\n",
       "      <td>690.000000</td>\n",
       "      <td>16182.750000</td>\n",
       "      <td>11000.000000</td>\n",
       "      <td>120.000000</td>\n",
       "      <td>6.680402e+07</td>\n",
       "      <td>5.000000e+07</td>\n",
       "      <td>2.350000</td>\n",
       "    </tr>\n",
       "    <tr>\n",
       "      <th>max</th>\n",
       "      <td>9.000000</td>\n",
       "      <td>2016.000000</td>\n",
       "      <td>1.689764e+06</td>\n",
       "      <td>813.000000</td>\n",
       "      <td>5060.000000</td>\n",
       "      <td>23000.000000</td>\n",
       "      <td>640000.000000</td>\n",
       "      <td>137000.000000</td>\n",
       "      <td>23000.000000</td>\n",
       "      <td>656730.000000</td>\n",
       "      <td>349000.000000</td>\n",
       "      <td>330.000000</td>\n",
       "      <td>7.605058e+08</td>\n",
       "      <td>1.221550e+10</td>\n",
       "      <td>16.000000</td>\n",
       "    </tr>\n",
       "  </tbody>\n",
       "</table>\n",
       "</div>"
      ],
      "text/plain": [
       "        imdb_score   title_year  num_voted_users  num_critic_for_reviews  \\\n",
       "count  3742.000000  3742.000000     3.742000e+03             3742.000000   \n",
       "mean      6.465794  2003.013629     1.052270e+05              166.637627   \n",
       "std       1.099576     9.893395     1.515840e+05              123.663224   \n",
       "min       2.000000  1927.000000     2.200000e+01                1.000000   \n",
       "25%       6.000000  1999.000000     1.924800e+04               76.000000   \n",
       "50%       7.000000  2005.000000     5.355750e+04              138.000000   \n",
       "75%       7.000000  2010.000000     1.279002e+05              224.000000   \n",
       "max       9.000000  2016.000000     1.689764e+06              813.000000   \n",
       "\n",
       "       num_user_for_reviews  director_facebook_likes  actor_1_facebook_likes  \\\n",
       "count           3742.000000              3742.000000             3742.000000   \n",
       "mean             334.862640               805.915286             7709.319081   \n",
       "std              410.880079              3069.301059            15526.036661   \n",
       "min                1.000000                 0.000000                0.000000   \n",
       "25%              109.000000                11.000000              742.000000   \n",
       "50%              209.000000                62.000000             1000.000000   \n",
       "75%              397.750000               234.000000            13000.000000   \n",
       "max             5060.000000             23000.000000           640000.000000   \n",
       "\n",
       "       actor_2_facebook_likes  actor_3_facebook_likes  \\\n",
       "count             3742.000000             3742.000000   \n",
       "mean              2001.559327              762.443079   \n",
       "std               4521.216677             1864.550647   \n",
       "min                  0.000000                0.000000   \n",
       "25%                380.000000              192.000000   \n",
       "50%                682.500000              434.000000   \n",
       "75%                975.000000              690.000000   \n",
       "max             137000.000000            23000.000000   \n",
       "\n",
       "       cast_total_facebook_likes  movie_facebook_likes     duration  \\\n",
       "count                3742.000000           3742.000000  3742.000000   \n",
       "mean                11448.166221           9324.955906   110.235703   \n",
       "std                 19076.850481          21536.906438    22.681529   \n",
       "min                     0.000000              0.000000    37.000000   \n",
       "25%                  1898.250000              0.000000    96.000000   \n",
       "50%                  3997.500000            227.000000   106.000000   \n",
       "75%                 16182.750000          11000.000000   120.000000   \n",
       "max                656730.000000         349000.000000   330.000000   \n",
       "\n",
       "              gross        budget  aspect_ratio  \n",
       "count  3.742000e+03  3.742000e+03   3742.000000  \n",
       "mean   5.236814e+07  4.610755e+07      2.111058  \n",
       "std    6.982355e+07  2.264059e+08      0.353447  \n",
       "min    1.620000e+02  2.180000e+02      1.180000  \n",
       "25%    8.058288e+06  1.000000e+07      1.850000  \n",
       "50%    2.998654e+07  2.500000e+07      2.350000  \n",
       "75%    6.680402e+07  5.000000e+07      2.350000  \n",
       "max    7.605058e+08  1.221550e+10     16.000000  "
      ]
     },
     "execution_count": 275,
     "metadata": {},
     "output_type": "execute_result"
    }
   ],
   "source": [
    "movies.describe()"
   ]
  },
  {
   "cell_type": "markdown",
   "metadata": {},
   "source": [
    "Si vemos la correlación entre las features se tiene:"
   ]
  },
  {
   "cell_type": "code",
   "execution_count": 276,
   "metadata": {},
   "outputs": [
    {
     "data": {
      "image/png": "[encoded data removed]",
      "text/plain": [
       "<Figure size 720x576 with 2 Axes>"
      ]
     },
     "metadata": {
      "needs_background": "light"
     },
     "output_type": "display_data"
    }
   ],
   "source": [
    "sns.heatmap(movies.corr());"
   ]
  },
  {
   "cell_type": "markdown",
   "metadata": {},
   "source": [
    "Se puede observar bastante correlación entre *cast_total_Facebook_likes* y *actor_1_facebook_likes*, por lo que omitiremos la variable de *cast_total_Facebook_likes*."
   ]
  },
  {
   "cell_type": "code",
   "execution_count": 277,
   "metadata": {},
   "outputs": [],
   "source": [
    "movies.drop(columns = [\"cast_total_facebook_likes\"], inplace = True)"
   ]
  },
  {
   "cell_type": "markdown",
   "metadata": {},
   "source": [
    "Sería interesante ver un boxplot de el año de las películas..."
   ]
  },
  {
   "cell_type": "code",
   "execution_count": 278,
   "metadata": {},
   "outputs": [
    {
     "data": {
      "image/png": "[encoded data removed]",
      "text/plain": [
       "<Figure size 720x576 with 1 Axes>"
      ]
     },
     "metadata": {
      "needs_background": "light"
     },
     "output_type": "display_data"
    }
   ],
   "source": [
    "sns.boxplot(x = \"title_year\", data = movies);"
   ]
  },
  {
   "cell_type": "markdown",
   "metadata": {},
   "source": [
    "Bastantes *outliers*, parece razonable filtrar películas despúes de 1980"
   ]
  },
  {
   "cell_type": "code",
   "execution_count": 402,
   "metadata": {},
   "outputs": [],
   "source": [
    "mov_1980 = movies.loc[movies[\"title_year\"]>1980]"
   ]
  },
  {
   "cell_type": "markdown",
   "metadata": {},
   "source": [
    "Antes de entrenar y evaluar debemos convertir algunas variables categóricas a numéricas, las transformaremos simplementes con numeros de 0,...,total de categorias"
   ]
  },
  {
   "cell_type": "code",
   "execution_count": 415,
   "metadata": {},
   "outputs": [
    {
     "name": "stderr",
     "output_type": "stream",
     "text": [
      "E:\\Programas\\Anaconda\\lib\\site-packages\\ipykernel_launcher.py:8: SettingWithCopyWarning: \n",
      "A value is trying to be set on a copy of a slice from a DataFrame.\n",
      "Try using .loc[row_indexer,col_indexer] = value instead\n",
      "\n",
      "See the caveats in the documentation: https://pandas.pydata.org/pandas-docs/stable/user_guide/indexing.html#returning-a-view-versus-a-copy\n",
      "  \n"
     ]
    }
   ],
   "source": [
    "paises = mov_1980[\"country\"].unique()\n",
    "\n",
    "def pais_to_num(pais):\n",
    "    for i,p in enumerate(paises):\n",
    "        if pais == p:\n",
    "            return i\n",
    "        \n",
    "mov_1980[\"country\"] = mov_1980[\"country\"].apply(lambda x: pais_to_num(x))"
   ]
  },
  {
   "cell_type": "code",
   "execution_count": 416,
   "metadata": {},
   "outputs": [
    {
     "name": "stderr",
     "output_type": "stream",
     "text": [
      "E:\\Programas\\Anaconda\\lib\\site-packages\\ipykernel_launcher.py:8: SettingWithCopyWarning: \n",
      "A value is trying to be set on a copy of a slice from a DataFrame.\n",
      "Try using .loc[row_indexer,col_indexer] = value instead\n",
      "\n",
      "See the caveats in the documentation: https://pandas.pydata.org/pandas-docs/stable/user_guide/indexing.html#returning-a-view-versus-a-copy\n",
      "  \n"
     ]
    }
   ],
   "source": [
    "contenido = mov_1980[\"content_rating\"].unique()\n",
    "\n",
    "def rating_to_num(rating):\n",
    "    for i,c in enumerate(contenido):\n",
    "        if rating == c:\n",
    "            return i\n",
    "        \n",
    "mov_1980[\"content_rating\"] = mov_1980[\"content_rating\"].apply(lambda x: rating_to_num(x))"
   ]
  },
  {
   "cell_type": "code",
   "execution_count": 418,
   "metadata": {},
   "outputs": [
    {
     "name": "stderr",
     "output_type": "stream",
     "text": [
      "E:\\Programas\\Anaconda\\lib\\site-packages\\ipykernel_launcher.py:1: SettingWithCopyWarning: \n",
      "A value is trying to be set on a copy of a slice from a DataFrame.\n",
      "Try using .loc[row_indexer,col_indexer] = value instead\n",
      "\n",
      "See the caveats in the documentation: https://pandas.pydata.org/pandas-docs/stable/user_guide/indexing.html#returning-a-view-versus-a-copy\n",
      "  \"\"\"Entry point for launching an IPython kernel.\n"
     ]
    }
   ],
   "source": [
    "mov_1980[\"color\"]  = mov_1980[\"color\"].apply(lambda x: 1 if x==\"Color\" else 0)"
   ]
  },
  {
   "cell_type": "markdown",
   "metadata": {
    "id": "EiLtCD-D0RwP"
   },
   "source": [
    "## Entrenamiento y Evaluación (Incompleto)\n",
    "\n",
    "**2.** Escoja 2 modelos que hayan visto dentro del curso y entrénelos sobre los datos trabajados en la parte anterior. Recuerde aplicar buenas prácticas de entrenamiento vistas en clases y aplicadas en la tarea anterior. Evalúe los modelos en base a métricas vistas en el curso. Puede hacer gráficos o generar tablas para analizar y comparar los modelos."
   ]
  },
  {
   "cell_type": "code",
   "execution_count": 398,
   "metadata": {},
   "outputs": [
    {
     "name": "stdout",
     "output_type": "stream",
     "text": [
      "Valores distintos de imbd_score: [2 3 4 5 6 7 8 9]\n",
      "Instancias del score 2: 14\n",
      "Instancias del score 3: 30\n",
      "Instancias del score 4: 132\n",
      "Instancias del score 5: 391\n",
      "Instancias del score 6: 1267\n",
      "Instancias del score 7: 1234\n",
      "Instancias del score 8: 548\n",
      "Instancias del score 9: 20\n"
     ]
    }
   ],
   "source": [
    "scores = mov_1980.imdb_score.unique()\n",
    "scores.sort()\n",
    "print(\"Valores distintos de imbd_score:\", scores)\n",
    "for i in scores:\n",
    "    print(\"Instancias del score {}: {}\".format(i,len(mov_1980[mov_1980[\"imdb_score\"]==i])))"
   ]
  },
  {
   "cell_type": "markdown",
   "metadata": {},
   "source": [
    "Dividimos el dataFrame en X e y"
   ]
  },
  {
   "cell_type": "code",
   "execution_count": 419,
   "metadata": {},
   "outputs": [],
   "source": [
    "X = mov_1980.iloc[:,2:len(mov_1980.columns)]\n",
    "\n",
    "y = mov_1980.iloc[:,0]"
   ]
  },
  {
   "cell_type": "code",
   "execution_count": 420,
   "metadata": {},
   "outputs": [],
   "source": [
    "from sklearn.tree import DecisionTreeClassifier\n",
    "from sklearn.metrics import accuracy_score\n",
    "from sklearn.metrics import classification_report\n",
    "#tup = [0,2,3,4,5,6,7,8,9,10,11,12,13,14,15,16,17,18,19,20,21,22,23]\n",
    "#tup = [1,2,3,4,5,8,10,12,14,15,16,17,18,22,23] # Solo atributos numericos?\n",
    "#data = mov_1980.iloc[:,tup]"
   ]
  },
  {
   "cell_type": "markdown",
   "metadata": {},
   "source": [
    "Se dividira el dataset en 70% para entrenar (training set) y 30% para testear (testing set)."
   ]
  },
  {
   "cell_type": "code",
   "execution_count": 507,
   "metadata": {
    "id": "BAPOfuGq7IKT"
   },
   "outputs": [],
   "source": [
    "from sklearn.model_selection import train_test_split \n",
    "\n",
    "X_train, X_test, y_train, y_test = train_test_split(X, y, test_size=0.3, random_state = 30, stratify=y)"
   ]
  },
  {
   "cell_type": "markdown",
   "metadata": {},
   "source": [
    "La proporcion de clases del set de entrenamiento es:"
   ]
  },
  {
   "cell_type": "code",
   "execution_count": 508,
   "metadata": {},
   "outputs": [
    {
     "name": "stdout",
     "output_type": "stream",
     "text": [
      "Distribucion de clases original\n"
     ]
    },
    {
     "data": {
      "text/plain": [
       "6    887\n",
       "7    864\n",
       "8    383\n",
       "5    274\n",
       "4     92\n",
       "3     21\n",
       "9     14\n",
       "2     10\n",
       "Name: imdb_score, dtype: int64"
      ]
     },
     "execution_count": 508,
     "metadata": {},
     "output_type": "execute_result"
    }
   ],
   "source": [
    "print(\"Distribucion de clases original\")\n",
    "dist_class = y_train.value_counts()\n",
    "dist_class"
   ]
  },
  {
   "cell_type": "markdown",
   "metadata": {},
   "source": [
    "Se aplica Oversampling para balancear las clases. **REVISAR: Es necesario el oversampling?**"
   ]
  },
  {
   "cell_type": "code",
   "execution_count": 391,
   "metadata": {},
   "outputs": [],
   "source": [
    "# print(\"Distribución de clases usando Oversampling\")\n",
    "# print()\n",
    "\n",
    "# data_train = data_train.reset_index(drop=True)\n",
    "# data_oversampled = data_train\n",
    "# # oversampling sobre cada score por debajo del maximo\n",
    "# for k, v in dist_class.items():\n",
    "#     if k==6:\n",
    "#         continue\n",
    "#     idx = np.random.choice(data_train[data_train[\"imdb_score\"] == k].index, size=887-v)\n",
    "#     data_oversampled = pd.concat([data_oversampled, data_train.iloc[idx]])\n",
    "# print(data_oversampled[\"imdb_score\"].value_counts())"
   ]
  },
  {
   "cell_type": "markdown",
   "metadata": {},
   "source": [
    "Utilizamos GridSearchCV para evaluar el clasificador de árbol desición en base a criterios gini y entropy"
   ]
  },
  {
   "cell_type": "code",
   "execution_count": 509,
   "metadata": {},
   "outputs": [
    {
     "name": "stdout",
     "output_type": "stream",
     "text": [
      "Mejor combinación de parámetros:\n",
      "{'criterion': 'entropy', 'max_depth': 6}\n",
      "              precision    recall  f1-score   support\n",
      "\n",
      "           2       0.00      0.00      0.00         4\n",
      "           3       0.00      0.00      0.00         9\n",
      "           4       0.00      0.00      0.00        40\n",
      "           5       0.18      0.02      0.03       117\n",
      "           6       0.47      0.81      0.59       380\n",
      "           7       0.52      0.41      0.46       370\n",
      "           8       0.62      0.47      0.54       165\n",
      "           9       0.67      0.67      0.67         6\n",
      "\n",
      "    accuracy                           0.50      1091\n",
      "   macro avg       0.31      0.30      0.29      1091\n",
      "weighted avg       0.46      0.50      0.45      1091\n",
      "\n"
     ]
    },
    {
     "name": "stderr",
     "output_type": "stream",
     "text": [
      "E:\\Programas\\Anaconda\\lib\\site-packages\\sklearn\\metrics\\_classification.py:1221: UndefinedMetricWarning: Precision and F-score are ill-defined and being set to 0.0 in labels with no predicted samples. Use `zero_division` parameter to control this behavior.\n",
      "  _warn_prf(average, modifier, msg_start, len(result))\n"
     ]
    }
   ],
   "source": [
    "from sklearn.tree import DecisionTreeClassifier\n",
    "from sklearn.neighbors import KNeighborsClassifier\n",
    "from sklearn.svm import SVC  # support vector machine classifier\n",
    "from sklearn.model_selection import GridSearchCV\n",
    "\n",
    "#Configure tuned_parameters\n",
    "tuned_parameters = {'criterion': [\"gini\",\"entropy\"], 'max_depth' :[i for i in range(1,40)]}\n",
    "\n",
    "#set scoring metric\n",
    "score = 'f1_micro' \n",
    "\n",
    "#Construir el clf con GridSearch\n",
    "\n",
    "clf = GridSearchCV(DecisionTreeClassifier(),\n",
    "                  param_grid = tuned_parameters,\n",
    "                  cv = 5,\n",
    "                  scoring = score )\n",
    "\n",
    "#Entrenar clf\n",
    "clf.fit(X_train, y_train)\n",
    "\n",
    "print(\"Mejor combinación de parámetros:\")\n",
    "print(clf.best_params_)\n",
    "\n",
    "y_true, y_pred = y_test, clf.predict(X_test)\n",
    "\n",
    "print(classification_report(y_true, y_pred))"
   ]
  },
  {
   "cell_type": "code",
   "execution_count": 511,
   "metadata": {},
   "outputs": [
    {
     "name": "stdout",
     "output_type": "stream",
     "text": [
      "----------------\n",
      "Resultados para clasificador:  Decision Tree\n",
      "              precision    recall  f1-score   support\n",
      "\n",
      "           2       0.50      0.25      0.33         4\n",
      "           3       0.20      0.11      0.14         9\n",
      "           4       0.10      0.10      0.10        40\n",
      "           5       0.25      0.32      0.28       117\n",
      "           6       0.46      0.46      0.46       380\n",
      "           7       0.46      0.43      0.44       370\n",
      "           8       0.48      0.47      0.47       165\n",
      "           9       0.60      0.50      0.55         6\n",
      "\n",
      "    accuracy                           0.42      1091\n",
      "   macro avg       0.38      0.33      0.35      1091\n",
      "weighted avg       0.43      0.42      0.42      1091\n",
      "\n",
      "----------------\n",
      "\n",
      "\n",
      "----------------\n",
      "Resultados para clasificador:  Support Vector Machines\n",
      "              precision    recall  f1-score   support\n",
      "\n",
      "           2       0.00      0.00      0.00         4\n",
      "           3       0.00      0.00      0.00         9\n",
      "           4       0.00      0.00      0.00        40\n",
      "           5       0.00      0.00      0.00       117\n",
      "           6       0.43      0.62      0.50       380\n",
      "           7       0.38      0.55      0.45       370\n",
      "           8       0.55      0.04      0.07       165\n",
      "           9       0.00      0.00      0.00         6\n",
      "\n",
      "    accuracy                           0.41      1091\n",
      "   macro avg       0.17      0.15      0.13      1091\n",
      "weighted avg       0.36      0.41      0.34      1091\n",
      "\n",
      "----------------\n",
      "\n",
      "\n"
     ]
    },
    {
     "name": "stderr",
     "output_type": "stream",
     "text": [
      "E:\\Programas\\Anaconda\\lib\\site-packages\\sklearn\\metrics\\_classification.py:1221: UndefinedMetricWarning: Precision and F-score are ill-defined and being set to 0.0 in labels with no predicted samples. Use `zero_division` parameter to control this behavior.\n",
      "  _warn_prf(average, modifier, msg_start, len(result))\n"
     ]
    }
   ],
   "source": [
    "## from sklearn.tree import DecisionTreeClassifier\n",
    "from sklearn.naive_bayes import GaussianNB  # naive bayes\n",
    "from sklearn.neighbors import KNeighborsClassifier\n",
    "from sklearn.svm import SVC  # support vector machine classifier\n",
    "from sklearn.model_selection import GridSearchCV\n",
    "#set scoring metric\n",
    "#score_knn = 'precision' \n",
    "#score_dtree = 'f1'\n",
    "\n",
    "#c0 = (\"Base Dummy\", DummyClassifier(strategy='stratified'))\n",
    "c1 = (\"Decision Tree\", DecisionTreeClassifier())\n",
    "c2 = (\"Gaussian Naive Bayes\", GaussianNB())\n",
    "c3 = (\"KNN\", KNeighborsClassifier(n_neighbors=15))\n",
    "c4 = (\"Support Vector Machines\", SVC())\n",
    "\n",
    "classifiers = [c1, c4]\n",
    "\n",
    "results = {}\n",
    "for name, clf in classifiers:\n",
    "    clf.fit(X_train, y_train) \n",
    "    y_pred = clf.predict(X_test) \n",
    "    print(\"----------------\")\n",
    "    print(\"Resultados para clasificador: \", name) \n",
    "    print(classification_report(y_test, y_pred)) \n",
    "    print(\"----------------\\n\\n\")  \n"
   ]
  },
  {
   "cell_type": "markdown",
   "metadata": {
    "id": "iwH4mwO26Opj"
   },
   "source": [
    "## Conclusiones\n",
    "\n",
    "**3.** Si este fuera un estudio encargado a usted por alguna empresa o cliente, basándose en los análisis que hizo anteriormente, qué conclusiones reportaría? Qué modelo propondría que fuera implementado en el producto del cliente? Por qué?"
   ]
  },
  {
   "cell_type": "markdown",
   "metadata": {
    "id": "m8bxqBlp9JCl"
   },
   "source": [
    ">Respuesta:"
   ]
  }
 ],
 "metadata": {
  "anaconda-cloud": {},
  "colab": {
   "collapsed_sections": [],
   "name": "Tarea 3.ipynb",
   "provenance": []
  },
  "hide_input": false,
  "kernelspec": {
   "display_name": "Python 3",
   "language": "python",
   "name": "python3"
  },
  "language_info": {
   "codemirror_mode": {
    "name": "ipython",
    "version": 3
   },
   "file_extension": ".py",
   "mimetype": "text/x-python",
   "name": "python",
   "nbconvert_exporter": "python",
   "pygments_lexer": "ipython3",
   "version": "3.7.7"
  },
  "toc": {
   "base_numbering": 1,
   "nav_menu": {},
   "number_sections": true,
   "sideBar": true,
   "skip_h1_title": false,
   "title_cell": "Table of Contents",
   "title_sidebar": "Contents",
   "toc_cell": false,
   "toc_position": {},
   "toc_section_display": true,
   "toc_window_display": false
  },
  "varInspector": {
   "cols": {
    "lenName": 16,
    "lenType": 16,
    "lenVar": 40
   },
   "kernels_config": {
    "python": {
     "delete_cmd_postfix": "",
     "delete_cmd_prefix": "del ",
     "library": "var_list.py",
     "varRefreshCmd": "print(var_dic_list())"
    },
    "r": {
     "delete_cmd_postfix": ") ",
     "delete_cmd_prefix": "rm(",
     "library": "var_list.r",
     "varRefreshCmd": "cat(var_dic_list()) "
    }
   },
   "types_to_exclude": [
    "module",
    "function",
    "builtin_function_or_method",
    "instance",
    "_Feature"
   ],
   "window_display": false
  }
 },
 "nbformat": 4,
 "nbformat_minor": 4
}
