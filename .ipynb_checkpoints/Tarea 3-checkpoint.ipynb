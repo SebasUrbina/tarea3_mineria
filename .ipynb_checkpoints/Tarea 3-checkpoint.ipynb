{
 "cells": [
  {
   "cell_type": "markdown",
   "metadata": {
    "id": "p_XcuC2rXQWb",
    "pycharm": {}
   },
   "source": [
    "# Tarea 3: Clasificacion II + Clustering\n",
    "\n",
    "Felipe Bravo, Hernán Sarmiento, Aymé Arango, Alison Fernandez, Cinthia Mabel Sánchez, Juan-Pablo Silva\n",
    "\n",
    "**Noviembre 2020**"
   ]
  },
  {
   "cell_type": "markdown",
   "metadata": {
    "heading_collapsed": true,
    "id": "RvarrC_jXQWe",
    "pycharm": {}
   },
   "source": [
    "## ============= Declaración de compromiso ético =============\n",
    "\n",
    "Nosotros ****Nicolás Herrera, Sebastián Urbina y Samuel Sánchez**** , declaramos que realizamos de manera grupal los pasos de la presente actividad. También declaramos no incurrir en copia, ni compartir nuestras respuestas con otras personas ni con otros grupos. Por lo que, ratificamos que las respuestas son de nuestra propia confección y reflejan nuestro propio conocimiento.\n"
   ]
  },
  {
   "cell_type": "markdown",
   "metadata": {
    "heading_collapsed": true,
    "id": "bxEPucKhXQWg",
    "pycharm": {}
   },
   "source": [
    "# Instrucciones\n",
    "\n",
    "\n",
    "1. Trabajen en equipos de dos o tres personas. Salvo excepciones, no se corregirá entregas con menos de dos integrantes.\n",
    "\n",
    "2. Modifique este archivo `.ipynb` agregando sus respuestas donde corresponda. \n",
    "\n",
    "3. Cuando finalice el laboratorio, **genere un archivo HTML** usando jupyter (ver tutorial 2) y súbalo a U-Cursos. El laboratorio debe ser entregado sólo por 1 integrante. Si se entrega por más de un integrante, se revisará cualquiera de éstos."
   ]
  },
  {
   "cell_type": "markdown",
   "metadata": {
    "heading_collapsed": true,
    "id": "SMUzxXj7XQWi",
    "pycharm": {}
   },
   "source": [
    "# Estructura de la tarea\n",
    "\n",
    "Esta tarea consiste en 3 partes. La primera son preguntas teóricas en las que no necesita escribir código y corresponden a materia vista en clases. La segunda es una sección introductoria para familiarizarse con métodos de clustering. Finalmente la tercera parte es un problema abierto de clasificación donde deberá usar todos los conocimientos que ha adquirido en el curso hasta este momento. Esos conocimientos incluyen exploración de datos, limpieza, entrenamiento de modelos, selección y evaluación."
   ]
  },
  {
   "cell_type": "markdown",
   "metadata": {
    "id": "BUK5vAG9fHXq"
   },
   "source": [
    "# Parte 1: Teoría\n"
   ]
  },
  {
   "cell_type": "markdown",
   "metadata": {
    "id": "c2stuWVkQwg4"
   },
   "source": [
    "\n",
    "\n",
    "**1.** Explique para qué se usan variables de holgura en el problema de optimización de la SVM. "
   ]
  },
  {
   "cell_type": "markdown",
   "metadata": {
    "id": "XmUHE93jQvNp"
   },
   "source": [
    ">Respuesta:"
   ]
  },
  {
   "cell_type": "markdown",
   "metadata": {
    "id": "sn0lGmALQlVT"
   },
   "source": [
    "**2.** John Doe, un consultor en minería de datos, argumenta lo siguiente: lo malo de las SVMs es que para que encuentren límites de decisión no lineales tengo que proyectarlas manualmente a más dimensiones con una función $\\phi(x)$ que tengo que diseñar de manera manual. Esto hace que todo sea mucho más caro computacionalmente pues todas las operaciones las tengo que hacer sobre el espacio transformado. Discuta el argumento de John Doe."
   ]
  },
  {
   "cell_type": "markdown",
   "metadata": {
    "id": "sdt8hUz8Qz5R"
   },
   "source": [
    ">Respuesta:"
   ]
  },
  {
   "cell_type": "markdown",
   "metadata": {
    "id": "YYE74-MqQnfD"
   },
   "source": [
    "\n",
    "\n",
    "**3.** Usando un clasificador Naive Bayes con Laplace Smoothing entrenado con los datos de la tabla de más abajo, clasifique el siguiente ejemplo a la clase Evade: **[Refund= YES, Marital Status = Divorced]**.\n",
    "\n",
    "Hint: Tiene que comparar P(Evade=Yes | datos) vs P(Evade=No|datos). Muestre todos sus cálculos.\n",
    "\n",
    "Refund | Marital Status | Evade\n",
    "--- | --- | ---\n",
    "YES | Single | NO\n",
    "NO | Married | NO\n",
    "NO | Single | NO\n",
    "YES | Married | NO\n",
    "NO | Divorced | YES\n",
    "NO | Married | NO\n",
    "YES | Divorced | NO\n",
    "NO | Single | YES\n",
    "NO | Married | NO\n",
    "NO | Single | YES"
   ]
  },
  {
   "cell_type": "markdown",
   "metadata": {
    "id": "r0wUrzxqRHKp"
   },
   "source": [
    ">Respuesta:"
   ]
  },
  {
   "cell_type": "markdown",
   "metadata": {
    "id": "Ilyrc9pOQo_D"
   },
   "source": [
    "**4.** Explique cómo bisecting k-mean soluciona el problema de la inicialización de centroides de k-means."
   ]
  },
  {
   "cell_type": "markdown",
   "metadata": {
    "id": "UoqOWIh-RJXP"
   },
   "source": [
    ">Respuesta:"
   ]
  },
  {
   "cell_type": "markdown",
   "metadata": {
    "id": "1L_jfMRXQqEI"
   },
   "source": [
    "**5.** Explique cómo encontrar outliers en los siguientes métodos de clustering:\n",
    "* K-Means\n",
    "* Clustering Jerarquico Aglomerativo"
   ]
  },
  {
   "cell_type": "markdown",
   "metadata": {
    "id": "VCaOS0kvRM9P"
   },
   "source": [
    ">Respuesta:"
   ]
  },
  {
   "cell_type": "markdown",
   "metadata": {
    "id": "ZyPaLTrxQsSH"
   },
   "source": [
    "**6.** Describa una ventaja y desventaja de los siguientes métodos de clustering:\n",
    "* K-Means\n",
    "* Clustering Jerarquico Aglomerativo"
   ]
  },
  {
   "cell_type": "markdown",
   "metadata": {
    "id": "MaScQlZ1RRI7"
   },
   "source": [
    ">Respuesta:"
   ]
  },
  {
   "cell_type": "markdown",
   "metadata": {
    "id": "xKpPq8w1QtQ3"
   },
   "source": [
    "**7.** En DBSCAN el parametro `eps` es crucial para obtener buenos clusters. Explique una forma de encontar el valor de `eps`."
   ]
  },
  {
   "cell_type": "markdown",
   "metadata": {
    "id": "sRASCByXRT98"
   },
   "source": [
    ">Respuesta:"
   ]
  },
  {
   "cell_type": "markdown",
   "metadata": {
    "id": "zDrw4AiZQuFx"
   },
   "source": [
    "**8.** Evaluar clusters no es una tarea fácil. Qué formas de evaluar clusters conoce? Nombre 3 formas de validación y describa cómo podría determinar si los cluters son buenos o malos usando cada una de las formas nombradas."
   ]
  },
  {
   "cell_type": "markdown",
   "metadata": {
    "id": "MDJCap67RV06"
   },
   "source": [
    ">Respuesta:"
   ]
  },
  {
   "cell_type": "markdown",
   "metadata": {
    "id": "huukwudDfS-f"
   },
   "source": [
    "# Parte 2: Clustering"
   ]
  },
  {
   "cell_type": "markdown",
   "metadata": {
    "id": "jTuloXfOjXak"
   },
   "source": [
    "Para esta parte usaremos el dataset de cantidad de denuncias por 100 mil habitantes por tipo de delito desde el año 2001 al 2016 en Chile (Fuente: http://www.seguridadpublica.gov.cl/estadisticas/tasa-de-denuncias-y-detenciones/delitos-de-mayor-connotacion-social-series-de-datos-2001-2017/).\n",
    "\n",
    "Ejecute el siguiete código para cargar el dataset:"
   ]
  },
  {
   "cell_type": "code",
   "execution_count": 1,
   "metadata": {
    "id": "StooikhfjZLp"
   },
   "outputs": [
    {
     "data": {
      "text/html": [
       "<div>\n",
       "<style scoped>\n",
       "    .dataframe tbody tr th:only-of-type {\n",
       "        vertical-align: middle;\n",
       "    }\n",
       "\n",
       "    .dataframe tbody tr th {\n",
       "        vertical-align: top;\n",
       "    }\n",
       "\n",
       "    .dataframe thead th {\n",
       "        text-align: right;\n",
       "    }\n",
       "</style>\n",
       "<table border=\"1\" class=\"dataframe\">\n",
       "  <thead>\n",
       "    <tr style=\"text-align: right;\">\n",
       "      <th></th>\n",
       "      <th>comuna</th>\n",
       "      <th>anio</th>\n",
       "      <th>homicidios</th>\n",
       "      <th>hurtos</th>\n",
       "      <th>robo_lugar</th>\n",
       "      <th>robo_sorpresa</th>\n",
       "      <th>robo_vehiculo</th>\n",
       "      <th>robo_violencia</th>\n",
       "      <th>violacion</th>\n",
       "    </tr>\n",
       "  </thead>\n",
       "  <tbody>\n",
       "    <tr>\n",
       "      <th>1</th>\n",
       "      <td>Arica</td>\n",
       "      <td>2001</td>\n",
       "      <td>1.6</td>\n",
       "      <td>370.3</td>\n",
       "      <td>NaN</td>\n",
       "      <td>9.5</td>\n",
       "      <td>NaN</td>\n",
       "      <td>107.2</td>\n",
       "      <td>16.4</td>\n",
       "    </tr>\n",
       "    <tr>\n",
       "      <th>2</th>\n",
       "      <td>Arica</td>\n",
       "      <td>2002</td>\n",
       "      <td>1.1</td>\n",
       "      <td>346.7</td>\n",
       "      <td>NaN</td>\n",
       "      <td>34.0</td>\n",
       "      <td>NaN</td>\n",
       "      <td>122.8</td>\n",
       "      <td>14.9</td>\n",
       "    </tr>\n",
       "    <tr>\n",
       "      <th>3</th>\n",
       "      <td>Arica</td>\n",
       "      <td>2003</td>\n",
       "      <td>1.6</td>\n",
       "      <td>460.1</td>\n",
       "      <td>464.4</td>\n",
       "      <td>52.8</td>\n",
       "      <td>172.2</td>\n",
       "      <td>196.2</td>\n",
       "      <td>15.5</td>\n",
       "    </tr>\n",
       "    <tr>\n",
       "      <th>4</th>\n",
       "      <td>Arica</td>\n",
       "      <td>2004</td>\n",
       "      <td>1.1</td>\n",
       "      <td>452.2</td>\n",
       "      <td>395.0</td>\n",
       "      <td>64.1</td>\n",
       "      <td>203.7</td>\n",
       "      <td>143.8</td>\n",
       "      <td>13.9</td>\n",
       "    </tr>\n",
       "    <tr>\n",
       "      <th>5</th>\n",
       "      <td>Arica</td>\n",
       "      <td>2005</td>\n",
       "      <td>0.0</td>\n",
       "      <td>421.8</td>\n",
       "      <td>287.8</td>\n",
       "      <td>58.4</td>\n",
       "      <td>144.2</td>\n",
       "      <td>144.7</td>\n",
       "      <td>7.5</td>\n",
       "    </tr>\n",
       "    <tr>\n",
       "      <th>...</th>\n",
       "      <td>...</td>\n",
       "      <td>...</td>\n",
       "      <td>...</td>\n",
       "      <td>...</td>\n",
       "      <td>...</td>\n",
       "      <td>...</td>\n",
       "      <td>...</td>\n",
       "      <td>...</td>\n",
       "      <td>...</td>\n",
       "    </tr>\n",
       "    <tr>\n",
       "      <th>5532</th>\n",
       "      <td>Peñaflor</td>\n",
       "      <td>2012</td>\n",
       "      <td>1.1</td>\n",
       "      <td>375.0</td>\n",
       "      <td>436.5</td>\n",
       "      <td>78.6</td>\n",
       "      <td>59.3</td>\n",
       "      <td>191.5</td>\n",
       "      <td>14.8</td>\n",
       "    </tr>\n",
       "    <tr>\n",
       "      <th>5533</th>\n",
       "      <td>Peñaflor</td>\n",
       "      <td>2013</td>\n",
       "      <td>0.0</td>\n",
       "      <td>370.0</td>\n",
       "      <td>408.1</td>\n",
       "      <td>107.6</td>\n",
       "      <td>77.4</td>\n",
       "      <td>213.0</td>\n",
       "      <td>14.6</td>\n",
       "    </tr>\n",
       "    <tr>\n",
       "      <th>5534</th>\n",
       "      <td>Peñaflor</td>\n",
       "      <td>2014</td>\n",
       "      <td>1.1</td>\n",
       "      <td>301.3</td>\n",
       "      <td>376.3</td>\n",
       "      <td>112.6</td>\n",
       "      <td>65.1</td>\n",
       "      <td>224.0</td>\n",
       "      <td>5.5</td>\n",
       "    </tr>\n",
       "    <tr>\n",
       "      <th>5535</th>\n",
       "      <td>Peñaflor</td>\n",
       "      <td>2015</td>\n",
       "      <td>0.0</td>\n",
       "      <td>321.6</td>\n",
       "      <td>334.7</td>\n",
       "      <td>111.9</td>\n",
       "      <td>73.9</td>\n",
       "      <td>199.9</td>\n",
       "      <td>7.6</td>\n",
       "    </tr>\n",
       "    <tr>\n",
       "      <th>5536</th>\n",
       "      <td>Peñaflor</td>\n",
       "      <td>2016</td>\n",
       "      <td>2.1</td>\n",
       "      <td>331.6</td>\n",
       "      <td>259.7</td>\n",
       "      <td>99.8</td>\n",
       "      <td>49.4</td>\n",
       "      <td>151.3</td>\n",
       "      <td>11.8</td>\n",
       "    </tr>\n",
       "  </tbody>\n",
       "</table>\n",
       "<p>5536 rows × 9 columns</p>\n",
       "</div>"
      ],
      "text/plain": [
       "        comuna  anio  homicidios  hurtos  robo_lugar  robo_sorpresa  \\\n",
       "1        Arica  2001         1.6   370.3         NaN            9.5   \n",
       "2        Arica  2002         1.1   346.7         NaN           34.0   \n",
       "3        Arica  2003         1.6   460.1       464.4           52.8   \n",
       "4        Arica  2004         1.1   452.2       395.0           64.1   \n",
       "5        Arica  2005         0.0   421.8       287.8           58.4   \n",
       "...        ...   ...         ...     ...         ...            ...   \n",
       "5532  Peñaflor  2012         1.1   375.0       436.5           78.6   \n",
       "5533  Peñaflor  2013         0.0   370.0       408.1          107.6   \n",
       "5534  Peñaflor  2014         1.1   301.3       376.3          112.6   \n",
       "5535  Peñaflor  2015         0.0   321.6       334.7          111.9   \n",
       "5536  Peñaflor  2016         2.1   331.6       259.7           99.8   \n",
       "\n",
       "      robo_vehiculo  robo_violencia  violacion  \n",
       "1               NaN           107.2       16.4  \n",
       "2               NaN           122.8       14.9  \n",
       "3             172.2           196.2       15.5  \n",
       "4             203.7           143.8       13.9  \n",
       "5             144.2           144.7        7.5  \n",
       "...             ...             ...        ...  \n",
       "5532           59.3           191.5       14.8  \n",
       "5533           77.4           213.0       14.6  \n",
       "5534           65.1           224.0        5.5  \n",
       "5535           73.9           199.9        7.6  \n",
       "5536           49.4           151.3       11.8  \n",
       "\n",
       "[5536 rows x 9 columns]"
      ]
     },
     "execution_count": 1,
     "metadata": {},
     "output_type": "execute_result"
    }
   ],
   "source": [
    "import pandas as pd\n",
    "import numpy as np\n",
    "\n",
    "dataframe = pd.read_csv(\"https://users.dcc.uchile.cl/~hsarmien/mineria/datasets/denuncias-2001-2016.txt\", sep=\" \")\n",
    "dataframe"
   ]
  },
  {
   "cell_type": "markdown",
   "metadata": {
    "id": "qurrGwfnjbKP"
   },
   "source": [
    "Utilizaremos sólo los datos del 2006. Ejecute las siguientes líneas de código para filtrar los datos:"
   ]
  },
  {
   "cell_type": "code",
   "execution_count": 2,
   "metadata": {
    "id": "APsAJvb5jc0V"
   },
   "outputs": [
    {
     "data": {
      "text/html": [
       "<div>\n",
       "<style scoped>\n",
       "    .dataframe tbody tr th:only-of-type {\n",
       "        vertical-align: middle;\n",
       "    }\n",
       "\n",
       "    .dataframe tbody tr th {\n",
       "        vertical-align: top;\n",
       "    }\n",
       "\n",
       "    .dataframe thead th {\n",
       "        text-align: right;\n",
       "    }\n",
       "</style>\n",
       "<table border=\"1\" class=\"dataframe\">\n",
       "  <thead>\n",
       "    <tr style=\"text-align: right;\">\n",
       "      <th></th>\n",
       "      <th>homicidios</th>\n",
       "      <th>hurtos</th>\n",
       "      <th>robo_lugar</th>\n",
       "      <th>robo_sorpresa</th>\n",
       "      <th>robo_vehiculo</th>\n",
       "      <th>robo_violencia</th>\n",
       "      <th>violacion</th>\n",
       "    </tr>\n",
       "  </thead>\n",
       "  <tbody>\n",
       "    <tr>\n",
       "      <th>6</th>\n",
       "      <td>1.1</td>\n",
       "      <td>507.5</td>\n",
       "      <td>320.3</td>\n",
       "      <td>60.9</td>\n",
       "      <td>89.0</td>\n",
       "      <td>161.2</td>\n",
       "      <td>8.6</td>\n",
       "    </tr>\n",
       "    <tr>\n",
       "      <th>22</th>\n",
       "      <td>0.0</td>\n",
       "      <td>68.0</td>\n",
       "      <td>0.0</td>\n",
       "      <td>0.0</td>\n",
       "      <td>0.0</td>\n",
       "      <td>0.0</td>\n",
       "      <td>0.0</td>\n",
       "    </tr>\n",
       "    <tr>\n",
       "      <th>38</th>\n",
       "      <td>0.0</td>\n",
       "      <td>834.9</td>\n",
       "      <td>256.9</td>\n",
       "      <td>0.0</td>\n",
       "      <td>0.0</td>\n",
       "      <td>0.0</td>\n",
       "      <td>64.2</td>\n",
       "    </tr>\n",
       "    <tr>\n",
       "      <th>54</th>\n",
       "      <td>0.0</td>\n",
       "      <td>81.2</td>\n",
       "      <td>81.2</td>\n",
       "      <td>0.0</td>\n",
       "      <td>0.0</td>\n",
       "      <td>0.0</td>\n",
       "      <td>0.0</td>\n",
       "    </tr>\n",
       "    <tr>\n",
       "      <th>70</th>\n",
       "      <td>0.6</td>\n",
       "      <td>680.3</td>\n",
       "      <td>327.2</td>\n",
       "      <td>211.5</td>\n",
       "      <td>169.7</td>\n",
       "      <td>287.0</td>\n",
       "      <td>18.2</td>\n",
       "    </tr>\n",
       "    <tr>\n",
       "      <th>...</th>\n",
       "      <td>...</td>\n",
       "      <td>...</td>\n",
       "      <td>...</td>\n",
       "      <td>...</td>\n",
       "      <td>...</td>\n",
       "      <td>...</td>\n",
       "      <td>...</td>\n",
       "    </tr>\n",
       "    <tr>\n",
       "      <th>5462</th>\n",
       "      <td>2.8</td>\n",
       "      <td>359.0</td>\n",
       "      <td>451.3</td>\n",
       "      <td>44.0</td>\n",
       "      <td>27.0</td>\n",
       "      <td>293.8</td>\n",
       "      <td>5.7</td>\n",
       "    </tr>\n",
       "    <tr>\n",
       "      <th>5478</th>\n",
       "      <td>3.4</td>\n",
       "      <td>233.4</td>\n",
       "      <td>375.4</td>\n",
       "      <td>27.1</td>\n",
       "      <td>6.8</td>\n",
       "      <td>60.9</td>\n",
       "      <td>6.8</td>\n",
       "    </tr>\n",
       "    <tr>\n",
       "      <th>5494</th>\n",
       "      <td>3.4</td>\n",
       "      <td>332.7</td>\n",
       "      <td>492.3</td>\n",
       "      <td>23.8</td>\n",
       "      <td>20.4</td>\n",
       "      <td>71.3</td>\n",
       "      <td>3.4</td>\n",
       "    </tr>\n",
       "    <tr>\n",
       "      <th>5510</th>\n",
       "      <td>0.0</td>\n",
       "      <td>263.6</td>\n",
       "      <td>529.3</td>\n",
       "      <td>57.1</td>\n",
       "      <td>22.0</td>\n",
       "      <td>235.0</td>\n",
       "      <td>11.0</td>\n",
       "    </tr>\n",
       "    <tr>\n",
       "      <th>5526</th>\n",
       "      <td>0.0</td>\n",
       "      <td>344.3</td>\n",
       "      <td>558.5</td>\n",
       "      <td>88.0</td>\n",
       "      <td>26.8</td>\n",
       "      <td>232.1</td>\n",
       "      <td>3.8</td>\n",
       "    </tr>\n",
       "  </tbody>\n",
       "</table>\n",
       "<p>346 rows × 7 columns</p>\n",
       "</div>"
      ],
      "text/plain": [
       "      homicidios  hurtos  robo_lugar  robo_sorpresa  robo_vehiculo  \\\n",
       "6            1.1   507.5       320.3           60.9           89.0   \n",
       "22           0.0    68.0         0.0            0.0            0.0   \n",
       "38           0.0   834.9       256.9            0.0            0.0   \n",
       "54           0.0    81.2        81.2            0.0            0.0   \n",
       "70           0.6   680.3       327.2          211.5          169.7   \n",
       "...          ...     ...         ...            ...            ...   \n",
       "5462         2.8   359.0       451.3           44.0           27.0   \n",
       "5478         3.4   233.4       375.4           27.1            6.8   \n",
       "5494         3.4   332.7       492.3           23.8           20.4   \n",
       "5510         0.0   263.6       529.3           57.1           22.0   \n",
       "5526         0.0   344.3       558.5           88.0           26.8   \n",
       "\n",
       "      robo_violencia  violacion  \n",
       "6              161.2        8.6  \n",
       "22               0.0        0.0  \n",
       "38               0.0       64.2  \n",
       "54               0.0        0.0  \n",
       "70             287.0       18.2  \n",
       "...              ...        ...  \n",
       "5462           293.8        5.7  \n",
       "5478            60.9        6.8  \n",
       "5494            71.3        3.4  \n",
       "5510           235.0       11.0  \n",
       "5526           232.1        3.8  \n",
       "\n",
       "[346 rows x 7 columns]"
      ]
     },
     "execution_count": 2,
     "metadata": {},
     "output_type": "execute_result"
    }
   ],
   "source": [
    "X = dataframe[dataframe[\"anio\"] == 2006]\n",
    "X = X.drop(columns=[\"comuna\", \"anio\"])\n",
    "X"
   ]
  },
  {
   "cell_type": "markdown",
   "metadata": {
    "id": "ZH5aquJWjizK"
   },
   "source": [
    "## K-Means\n",
    "\n",
    "**1.** Cuando usamos K-Means debemos definir previamente el número de clusters que queremos generar. Teniendo en cuenta estos datos, implemente un método que nos permita determinar cuántos clusters usar."
   ]
  },
  {
   "cell_type": "code",
   "execution_count": 64,
   "metadata": {
    "id": "tL2mOfTa3Pds"
   },
   "outputs": [
    {
     "data": {
      "image/png": "[encoded data removed]",
      "text/plain": [
       "<Figure size 432x288 with 1 Axes>"
      ]
     },
     "metadata": {
      "needs_background": "light"
     },
     "output_type": "display_data"
    }
   ],
   "source": [
    "# Respuesta\n",
    "\n",
    "from sklearn.cluster import KMeans\n",
    "import matplotlib.pyplot as plt\n",
    "sse = []\n",
    "\n",
    "rs = 10\n",
    "clusters = list(range(1, 16))\n",
    "for k in clusters:\n",
    "    kmeans = KMeans(n_clusters=k).fit(X)\n",
    "    sse.append(kmeans.inertia_)\n",
    "\n",
    "plt.plot(clusters, sse, marker=\"o\")\n",
    "plt.title(\"Método del codo de 1 a 15 clusters\")\n",
    "plt.grid(True)\n",
    "plt.show()"
   ]
  },
  {
   "cell_type": "markdown",
   "metadata": {
    "id": "x1lHWlA7kqgT"
   },
   "source": [
    "**2.** Cuántos clusters propone usar para este dataset? Justifique su elección."
   ]
  },
  {
   "cell_type": "markdown",
   "metadata": {
    "id": "4m-XgeXPkzq3"
   },
   "source": [
    "> Respuesta:"
   ]
  },
  {
   "cell_type": "markdown",
   "metadata": {
    "id": "V7ifMHUa9TQo"
   },
   "source": [
    "**3.** Entrene un modelo de K-Means usando el número de clusters que eligió en la pregunta anterior e imprima las asignaciones de clusters para cada dato."
   ]
  },
  {
   "cell_type": "code",
   "execution_count": 185,
   "metadata": {
    "id": "W769Szoj9aSe"
   },
   "outputs": [
    {
     "name": "stdout",
     "output_type": "stream",
     "text": [
      "[249  91   4   2]\n"
     ]
    }
   ],
   "source": [
    "###### Respuesta\n",
    "\n",
    "y_pred = KMeans(n_clusters = 4, n_init = 20, max_iter = 300, random_state = rs).fit_predict(X)\n",
    "print(np.bincount(y_pred))"
   ]
  },
  {
   "cell_type": "markdown",
   "metadata": {
    "id": "_X2V0E-8jnu7"
   },
   "source": [
    "**4.** Al ejecutar el siguiente código varias veces, obtenemos resultados diferentes. Cómo podría evitar los resultados variables de K-means? Presente al menos 2 opciones para lograr esto. Puede implementarlo o describirlo.\n",
    "\n",
    "> Respuesta: \n",
    "\n",
    "1. Para evitar la obtención de resultados diferentes en cada ejecución utilizamos el parámetro de _random_state_, que permite setear el mismo conjunto de valores aleatorios en cada ejecución\n",
    "\n",
    "2. "
   ]
  },
  {
   "cell_type": "markdown",
   "metadata": {
    "id": "TwD2fgUO9uPh"
   },
   "source": [
    "**5.** Ejecute el siguiente código que bajará la dimensionalidad de los datos de 7 a 2. Grafique los datos transformados y pinte los gráficos para tener una representación visual de los clusters."
   ]
  },
  {
   "cell_type": "code",
   "execution_count": 56,
   "metadata": {
    "id": "4HP4MLyF9_UV"
   },
   "outputs": [],
   "source": [
    "from sklearn.decomposition import PCA\n",
    "\n",
    "new_X = PCA(n_components=2, random_state=0).fit_transform(X)"
   ]
  },
  {
   "cell_type": "code",
   "execution_count": 183,
   "metadata": {
    "id": "bkqt8vNP-du5"
   },
   "outputs": [
    {
     "data": {
      "image/png": "[encoded data removed]",
      "text/plain": [
       "<Figure size 432x288 with 1 Axes>"
      ]
     },
     "metadata": {
      "needs_background": "light"
     },
     "output_type": "display_data"
    }
   ],
   "source": [
    "# Respuesta\n",
    "\n",
    "plt.scatter(new_X[:,0],new_X[:,1])\n",
    "plt.title(\"Reducción de dimensionalidad\")\n",
    "plt.show()"
   ]
  },
  {
   "cell_type": "markdown",
   "metadata": {
    "id": "aMeMvKgclbpe"
   },
   "source": [
    "## Clustering Jerárquico Aglomerativo"
   ]
  },
  {
   "cell_type": "markdown",
   "metadata": {
    "id": "maJ6HPXjl3_Q"
   },
   "source": [
    "**1.** Usando los datos anteriores, ejecute cada uno de los 4 métodos de clustering jerárquico: complete, single, average y ward, y visualice los dendrogramas formados. Adjunte el código necesario. No necesita generar los 4 dendrogramas en el mismo gráfico, pueden ser distintos."
   ]
  },
  {
   "cell_type": "code",
   "execution_count": 79,
   "metadata": {
    "id": "UgV5XD4_mH9T"
   },
   "outputs": [
    {
     "data": {
      "image/png": "[encoded data removed]",
      "text/plain": [
       "<Figure size 432x288 with 1 Axes>"
      ]
     },
     "metadata": {
      "needs_background": "light"
     },
     "output_type": "display_data"
    }
   ],
   "source": [
    "# Respuesta\n",
    "\n",
    "from scipy.cluster.hierarchy import dendrogram, linkage\n",
    "from sklearn.cluster import AgglomerativeClustering\n",
    "\n",
    "complete = linkage(X, method = \"complete\")\n",
    "single = linkage(X, method=\"single\")\n",
    "average = linkage(X, method=\"average\")\n",
    "ward = linkage(X, method=\"ward\")\n",
    "\n",
    "#Complete dendrogram\n",
    "dendrogram(complete)\n",
    "plt.title(\"Linkage: Complete\")\n",
    "plt.show()"
   ]
  },
  {
   "cell_type": "code",
   "execution_count": 71,
   "metadata": {},
   "outputs": [
    {
     "data": {
      "image/png": "[encoded data removed]",
      "text/plain": [
       "<Figure size 432x288 with 1 Axes>"
      ]
     },
     "metadata": {
      "needs_background": "light"
     },
     "output_type": "display_data"
    }
   ],
   "source": [
    "#Single dendrogram\n",
    "dendrogram(single)\n",
    "plt.title(\"Linkage: Single\")\n",
    "plt.show()"
   ]
  },
  {
   "cell_type": "code",
   "execution_count": 72,
   "metadata": {},
   "outputs": [
    {
     "data": {
      "image/png": "[encoded data removed]",
      "text/plain": [
       "<Figure size 432x288 with 1 Axes>"
      ]
     },
     "metadata": {
      "needs_background": "light"
     },
     "output_type": "display_data"
    }
   ],
   "source": [
    "#Average dendrogram\n",
    "dendrogram(average)\n",
    "plt.title(\"Linkage: Average\")\n",
    "plt.show()"
   ]
  },
  {
   "cell_type": "code",
   "execution_count": 73,
   "metadata": {},
   "outputs": [
    {
     "data": {
      "image/png": "[encoded data removed]",
      "text/plain": [
       "<Figure size 432x288 with 1 Axes>"
      ]
     },
     "metadata": {
      "needs_background": "light"
     },
     "output_type": "display_data"
    }
   ],
   "source": [
    "#Ward dendrogram\n",
    "dendrogram(ward)\n",
    "plt.title(\"Linkage: Ward\")\n",
    "#plt.axhline(y = 4000, color = \"r\", linestyle = \"--\")\n",
    "plt.show()"
   ]
  },
  {
   "cell_type": "markdown",
   "metadata": {
    "id": "My7CjyF18Dgd"
   },
   "source": [
    "**2.** Fijándose en el método `single`, a qué altura recomendaría cortar el árbol?"
   ]
  },
  {
   "cell_type": "markdown",
   "metadata": {
    "id": "VkDbxu1Y8HWr"
   },
   "source": [
    "> Respuesta:"
   ]
  },
  {
   "cell_type": "markdown",
   "metadata": {
    "id": "5sSIrGgfmIGa"
   },
   "source": [
    "**3.** Ahora si miramos el método `ward`, cuántos clusters propone usar? A qué altura se debe cortar el arbol para obtener esa cantidad de clusters?"
   ]
  },
  {
   "cell_type": "markdown",
   "metadata": {
    "id": "FcDfUn6N7vrW"
   },
   "source": [
    "> Respuesta:"
   ]
  },
  {
   "cell_type": "markdown",
   "metadata": {
    "id": "J6YULxJd7wX6"
   },
   "source": [
    "**4.** Implemente el código para asignar clusters a los datos siguiendo lo que usted propuso en la pregunta **2.** y **3.** y liste la asignación de clusters para cada punto del dataset para `single` y `ward`. Cuántos clusters se generan para el método `single` cortando a la altura que propuso en la pregunta **2.**?"
   ]
  },
  {
   "cell_type": "code",
   "execution_count": 181,
   "metadata": {},
   "outputs": [
    {
     "name": "stdout",
     "output_type": "stream",
     "text": [
      "Single, h = 1250 \n",
      "\t N° de clusters: 2\n",
      "Single labels:\n",
      " [0 0 0 0 0 0 0 0 0 0 0 0 0 0 0 0 0 0 0 0 0 0 0 0 0 0 0 0 0 0 0 0 0 0 0 0 0\n",
      " 0 0 0 0 0 0 0 0 0 0 0 0 0 0 0 0 0 0 0 0 0 0 0 0 0 0 0 0 0 0 0 0 0 0 0 0 0\n",
      " 0 0 0 0 0 0 0 0 0 0 0 0 0 0 0 0 0 0 0 0 0 0 0 0 0 0 0 0 0 0 0 0 0 0 0 0 0\n",
      " 0 0 0 0 0 0 0 0 0 0 0 0 0 0 0 0 0 0 0 0 0 0 0 0 0 0 0 0 0 0 0 0 0 0 0 0 0\n",
      " 0 0 0 0 0 0 0 0 0 0 0 0 0 0 0 0 0 0 0 0 0 0 0 0 0 0 0 0 0 0 0 0 0 0 0 0 0\n",
      " 0 0 0 0 0 0 0 0 0 0 0 0 0 0 0 0 0 0 0 0 0 0 0 0 0 0 0 0 0 0 0 0 0 0 0 0 0\n",
      " 0 0 0 0 0 0 0 0 0 0 0 0 0 0 0 0 0 0 0 0 0 0 0 0 0 0 0 0 0 0 0 0 0 0 0 0 0\n",
      " 0 0 0 0 0 0 0 0 0 0 0 0 0 0 0 0 0 0 0 0 0 0 0 0 0 0 0 0 0 0 0 0 0 0 0 1 0\n",
      " 0 0 0 0 0 0 0 0 0 0 0 0 0 0 0 0 0 0 0 0 0 0 0 0 0 0 0 0 0 0 0 0 0 0 0 0 0\n",
      " 0 0 0 0 0 0 0 0 0 0 0 0 0]\n",
      "Ward labels:\n",
      " [0 2 0 2 0 0 2 2 0 2 0 2 0 2 0 0 2 0 0 0 0 0 0 2 2 2 2 2 2 0 0 2 2 0 2 2 2\n",
      " 0 2 2 2 2 2 2 0 0 0 2 2 0 0 0 0 2 2 2 0 2 0 2 4 2 0 2 2 2 0 4 4 5 5 0 0 0\n",
      " 0 2 2 2 0 0 0 0 0 2 0 2 0 0 2 0 0 2 2 0 2 2 0 0 0 0 2 2 2 2 2 0 2 2 2 2 2\n",
      " 2 2 2 0 0 0 0 0 2 2 0 2 2 2 0 2 2 0 2 0 0 2 2 2 2 0 0 0 2 0 2 0 2 2 1 0 2\n",
      " 2 2 0 2 0 2 2 2 0 0 0 0 0 0 2 0 0 2 2 2 2 2 2 2 2 2 0 2 2 2 0 2 2 0 2 2 2\n",
      " 2 2 2 2 2 2 0 2 2 2 2 2 2 0 0 0 2 2 2 2 0 0 0 2 0 0 2 0 4 2 2 2 2 0 2 0 0\n",
      " 2 2 2 2 2 0 2 0 0 0 2 0 0 0 2 0 0 2 0 2 0 0 0 2 2 2 2 2 2 0 0 0 2 2 2 2 2\n",
      " 0 2 0 2 2 2 2 2 2 2 2 2 2 2 0 2 0 2 2 0 0 2 0 2 0 2 2 2 2 2 0 0 2 0 2 3 1\n",
      " 2 1 1 1 0 1 1 1 1 1 0 0 0 1 1 1 2 1 1 0 3 2 1 1 1 1 1 1 1 0 1 2 0 0 0 2 1\n",
      " 2 0 2 0 2 0 2 2 0 2 0 0 0]\n"
     ]
    }
   ],
   "source": [
    "# Respuesta\n",
    "h = 1250\n",
    "n = 6\n",
    "single_h = AgglomerativeClustering(n_clusters = None, linkage = \"single\", distance_threshold = h).fit(X)\n",
    "ward_n = AgglomerativeClustering(n_clusters = n, linkage = \"ward\").fit(X)\n",
    "\n",
    "print(\"Single, h = {} \\n\\t N° de clusters: {}\".format(h, single_h.n_clusters_))\n",
    "print(\"Single labels:\\n\",single_h.labels_)\n",
    "print(\"Ward labels:\\n\",ward_n.labels_)"
   ]
  },
  {
   "cell_type": "code",
   "execution_count": 182,
   "metadata": {
    "id": "s6OKkjdCmmsr"
   },
   "outputs": [],
   "source": [
    "# # Respuesta\n",
    "# h = 1250\n",
    "# n = 6\n",
    "\n",
    "# single_h = AgglomerativeClustering(n_clusters = None, linkage = \"single\", distance_threshold = h).fit(X)\n",
    "# print(\"Single, h = {} \\n\\t N° de clusters: {}\".format(h, single_h.n_clusters_))\n",
    "# ward_n = AgglomerativeClustering(n_clusters = n, linkage = \"ward\").fit(X)\n",
    "# print(\"Ward, n = {} \\n\\t N° de clusters: {}\".format(n, ward_n.n_clusters_))"
   ]
  },
  {
   "cell_type": "markdown",
   "metadata": {
    "id": "o76oGCY6EU66"
   },
   "source": [
    "**5.** Cuántos datos quedan asignados a cada cluster? Agregue el código necesario para objener esta información para los métodos `single` y `ward`."
   ]
  },
  {
   "cell_type": "code",
   "execution_count": 168,
   "metadata": {
    "id": "5rDF5sBPEsJy"
   },
   "outputs": [
    {
     "name": "stdout",
     "output_type": "stream",
     "text": [
      "Single:\n",
      "\tCluster 0 -> n = 345\n",
      "\tCluster 1 -> n = 1\n",
      "Ward:\n",
      "\tCluster 0 -> n = 135\n",
      "\tCluster 1 -> n = 24\n",
      "\tCluster 2 -> n = 179\n",
      "\tCluster 3 -> n = 2\n",
      "\tCluster 4 -> n = 4\n",
      "\tCluster 5 -> n = 2\n"
     ]
    }
   ],
   "source": [
    "# Respuesta\n",
    "labels_single = np.bincount(single_h.labels_)\n",
    "print(\"Single:\")\n",
    "for i, k in enumerate(labels_single):\n",
    "    print(\"\\tCluster {} -> n = {}\".format(i, k))\n",
    "    \n",
    "labels_ward = np.bincount(ward_n.labels_)\n",
    "print(\"Ward:\")\n",
    "for i, k in enumerate(labels_ward):\n",
    "    print(\"\\tCluster {} -> n = {}\".format(i, k))"
   ]
  },
  {
   "cell_type": "markdown",
   "metadata": {
    "id": "ipwD-E76AEXg"
   },
   "source": [
    "**6.** Usando el dataset con dimensiones reducidas generado en la Parte 1, pregunta 5: `new_X`, grafique los datos y pinte los datos con su asignacion de cluster para los métodos `complete` y `ward` para tener una representación visual de los clusters."
   ]
  },
  {
   "cell_type": "code",
   "execution_count": 200,
   "metadata": {
    "id": "gBMTzMuxAe1H"
   },
   "outputs": [
    {
     "data": {
      "image/png": "[encoded data removed]",
      "text/plain": [
       "<Figure size 432x288 with 1 Axes>"
      ]
     },
     "metadata": {
      "needs_background": "light"
     },
     "output_type": "display_data"
    }
   ],
   "source": [
    "# Respuesta\n",
    "complete_n =  AgglomerativeClustering(n_clusters = 4, linkage = \"complete\").fit(X)\n",
    "plt.scatter(new_X[:,0], new_X[:,1], c = complete_n.labels_)\n",
    "plt.title(\"Método Complete con reducción de dimensionalidad\")\n",
    "plt.show()"
   ]
  },
  {
   "cell_type": "code",
   "execution_count": 213,
   "metadata": {},
   "outputs": [
    {
     "data": {
      "image/png": "[encoded data removed]",
      "text/plain": [
       "<Figure size 432x288 with 1 Axes>"
      ]
     },
     "metadata": {
      "needs_background": "light"
     },
     "output_type": "display_data"
    }
   ],
   "source": [
    "plt.scatter(new_X[:,0], new_X[:,1], c = ward_n.labels_)\n",
    "plt.title(\"Método Ward con reducción de dimensionalidad\")\n",
    "plt.show()"
   ]
  },
  {
   "cell_type": "markdown",
   "metadata": {
    "id": "UNVBq6xPfXJd"
   },
   "source": [
    "# Parte 3: Problema Abierto"
   ]
  },
  {
   "cell_type": "markdown",
   "metadata": {
    "id": "-rvQLEcLxzU7"
   },
   "source": [
    "En esta pregunta usted deberá practicar un proceso reducido de minería de datos. Con el conjunto de datos que le daremos a continuación, usted deberá hacer una exploración de datos, aplicar las técnicas correspondientes de pre procesamiento de datos respecto a lo que encuentre y entrenar modelos de clasificación. Finalmente deberá evaluar los modelos que entrenó y justificar la elección de alguno de ellos."
   ]
  },
  {
   "cell_type": "markdown",
   "metadata": {
    "id": "7PfoHIPJ8w3C"
   },
   "source": [
    "Ejecute el siguiente código para cargar los datos que usaremos en esta parte. Los datos se encuentran en el archivo `movies.csv` adjunto en el zip.\n",
    "\n",
    "**Estamos interesados en predecir la variable `imdb_score` a partir de los demas datos.** `imdb_score` es un entero y puede considerarlo como un variable categórica."
   ]
  },
  {
   "cell_type": "code",
   "execution_count": 322,
   "metadata": {
    "id": "dP17B2bp82CA"
   },
   "outputs": [
    {
     "data": {
      "text/html": [
       "<div>\n",
       "<style scoped>\n",
       "    .dataframe tbody tr th:only-of-type {\n",
       "        vertical-align: middle;\n",
       "    }\n",
       "\n",
       "    .dataframe tbody tr th {\n",
       "        vertical-align: top;\n",
       "    }\n",
       "\n",
       "    .dataframe thead th {\n",
       "        text-align: right;\n",
       "    }\n",
       "</style>\n",
       "<table border=\"1\" class=\"dataframe\">\n",
       "  <thead>\n",
       "    <tr style=\"text-align: right;\">\n",
       "      <th></th>\n",
       "      <th>movie_title</th>\n",
       "      <th>imdb_score</th>\n",
       "      <th>title_year</th>\n",
       "      <th>num_voted_users</th>\n",
       "      <th>num_critic_for_reviews</th>\n",
       "      <th>num_user_for_reviews</th>\n",
       "      <th>color</th>\n",
       "      <th>director_name</th>\n",
       "      <th>director_facebook_likes</th>\n",
       "      <th>actor_1_name</th>\n",
       "      <th>...</th>\n",
       "      <th>actor_3_facebook_likes</th>\n",
       "      <th>cast_total_facebook_likes</th>\n",
       "      <th>movie_facebook_likes</th>\n",
       "      <th>duration</th>\n",
       "      <th>gross</th>\n",
       "      <th>language</th>\n",
       "      <th>country</th>\n",
       "      <th>content_rating</th>\n",
       "      <th>budget</th>\n",
       "      <th>aspect_ratio</th>\n",
       "    </tr>\n",
       "  </thead>\n",
       "  <tbody>\n",
       "    <tr>\n",
       "      <th>0</th>\n",
       "      <td>Avatar</td>\n",
       "      <td>8</td>\n",
       "      <td>2009.0</td>\n",
       "      <td>886204</td>\n",
       "      <td>723.0</td>\n",
       "      <td>3054.0</td>\n",
       "      <td>Color</td>\n",
       "      <td>James Cameron</td>\n",
       "      <td>0.0</td>\n",
       "      <td>CCH Pounder</td>\n",
       "      <td>...</td>\n",
       "      <td>855.0</td>\n",
       "      <td>4834</td>\n",
       "      <td>33000</td>\n",
       "      <td>178.0</td>\n",
       "      <td>760505847.0</td>\n",
       "      <td>English</td>\n",
       "      <td>USA</td>\n",
       "      <td>PG-13</td>\n",
       "      <td>237000000.0</td>\n",
       "      <td>1.78</td>\n",
       "    </tr>\n",
       "    <tr>\n",
       "      <th>1</th>\n",
       "      <td>Pirates of the Caribbean: At World's End</td>\n",
       "      <td>7</td>\n",
       "      <td>2007.0</td>\n",
       "      <td>471220</td>\n",
       "      <td>302.0</td>\n",
       "      <td>1238.0</td>\n",
       "      <td>Color</td>\n",
       "      <td>Gore Verbinski</td>\n",
       "      <td>563.0</td>\n",
       "      <td>Johnny Depp</td>\n",
       "      <td>...</td>\n",
       "      <td>1000.0</td>\n",
       "      <td>48350</td>\n",
       "      <td>0</td>\n",
       "      <td>169.0</td>\n",
       "      <td>309404152.0</td>\n",
       "      <td>English</td>\n",
       "      <td>USA</td>\n",
       "      <td>PG-13</td>\n",
       "      <td>300000000.0</td>\n",
       "      <td>2.35</td>\n",
       "    </tr>\n",
       "    <tr>\n",
       "      <th>2</th>\n",
       "      <td>Spectre</td>\n",
       "      <td>7</td>\n",
       "      <td>2015.0</td>\n",
       "      <td>275868</td>\n",
       "      <td>602.0</td>\n",
       "      <td>994.0</td>\n",
       "      <td>Color</td>\n",
       "      <td>Sam Mendes</td>\n",
       "      <td>0.0</td>\n",
       "      <td>Christoph Waltz</td>\n",
       "      <td>...</td>\n",
       "      <td>161.0</td>\n",
       "      <td>11700</td>\n",
       "      <td>85000</td>\n",
       "      <td>148.0</td>\n",
       "      <td>200074175.0</td>\n",
       "      <td>English</td>\n",
       "      <td>UK</td>\n",
       "      <td>PG-13</td>\n",
       "      <td>245000000.0</td>\n",
       "      <td>2.35</td>\n",
       "    </tr>\n",
       "    <tr>\n",
       "      <th>3</th>\n",
       "      <td>The Dark Knight Rises</td>\n",
       "      <td>8</td>\n",
       "      <td>2012.0</td>\n",
       "      <td>1144337</td>\n",
       "      <td>813.0</td>\n",
       "      <td>2701.0</td>\n",
       "      <td>Color</td>\n",
       "      <td>Christopher Nolan</td>\n",
       "      <td>22000.0</td>\n",
       "      <td>Tom Hardy</td>\n",
       "      <td>...</td>\n",
       "      <td>23000.0</td>\n",
       "      <td>106759</td>\n",
       "      <td>164000</td>\n",
       "      <td>164.0</td>\n",
       "      <td>448130642.0</td>\n",
       "      <td>English</td>\n",
       "      <td>USA</td>\n",
       "      <td>PG-13</td>\n",
       "      <td>250000000.0</td>\n",
       "      <td>2.35</td>\n",
       "    </tr>\n",
       "    <tr>\n",
       "      <th>4</th>\n",
       "      <td>Star Wars: Episode VII - The Force Awakens    ...</td>\n",
       "      <td>7</td>\n",
       "      <td>NaN</td>\n",
       "      <td>8</td>\n",
       "      <td>NaN</td>\n",
       "      <td>NaN</td>\n",
       "      <td>NaN</td>\n",
       "      <td>Doug Walker</td>\n",
       "      <td>131.0</td>\n",
       "      <td>Doug Walker</td>\n",
       "      <td>...</td>\n",
       "      <td>NaN</td>\n",
       "      <td>143</td>\n",
       "      <td>0</td>\n",
       "      <td>NaN</td>\n",
       "      <td>NaN</td>\n",
       "      <td>NaN</td>\n",
       "      <td>NaN</td>\n",
       "      <td>NaN</td>\n",
       "      <td>NaN</td>\n",
       "      <td>NaN</td>\n",
       "    </tr>\n",
       "  </tbody>\n",
       "</table>\n",
       "<p>5 rows × 24 columns</p>\n",
       "</div>"
      ],
      "text/plain": [
       "                                         movie_title  imdb_score  title_year  \\\n",
       "0                                            Avatar            8      2009.0   \n",
       "1          Pirates of the Caribbean: At World's End            7      2007.0   \n",
       "2                                           Spectre            7      2015.0   \n",
       "3                             The Dark Knight Rises            8      2012.0   \n",
       "4  Star Wars: Episode VII - The Force Awakens    ...           7         NaN   \n",
       "\n",
       "   num_voted_users  num_critic_for_reviews  num_user_for_reviews  color  \\\n",
       "0           886204                   723.0                3054.0  Color   \n",
       "1           471220                   302.0                1238.0  Color   \n",
       "2           275868                   602.0                 994.0  Color   \n",
       "3          1144337                   813.0                2701.0  Color   \n",
       "4                8                     NaN                   NaN    NaN   \n",
       "\n",
       "       director_name  director_facebook_likes     actor_1_name  ...  \\\n",
       "0      James Cameron                      0.0      CCH Pounder  ...   \n",
       "1     Gore Verbinski                    563.0      Johnny Depp  ...   \n",
       "2         Sam Mendes                      0.0  Christoph Waltz  ...   \n",
       "3  Christopher Nolan                  22000.0        Tom Hardy  ...   \n",
       "4        Doug Walker                    131.0      Doug Walker  ...   \n",
       "\n",
       "   actor_3_facebook_likes cast_total_facebook_likes  movie_facebook_likes  \\\n",
       "0                   855.0                      4834                 33000   \n",
       "1                  1000.0                     48350                     0   \n",
       "2                   161.0                     11700                 85000   \n",
       "3                 23000.0                    106759                164000   \n",
       "4                     NaN                       143                     0   \n",
       "\n",
       "  duration        gross  language  country  content_rating       budget  \\\n",
       "0    178.0  760505847.0   English      USA           PG-13  237000000.0   \n",
       "1    169.0  309404152.0   English      USA           PG-13  300000000.0   \n",
       "2    148.0  200074175.0   English       UK           PG-13  245000000.0   \n",
       "3    164.0  448130642.0   English      USA           PG-13  250000000.0   \n",
       "4      NaN          NaN       NaN      NaN             NaN          NaN   \n",
       "\n",
       "  aspect_ratio  \n",
       "0         1.78  \n",
       "1         2.35  \n",
       "2         2.35  \n",
       "3         2.35  \n",
       "4          NaN  \n",
       "\n",
       "[5 rows x 24 columns]"
      ]
     },
     "execution_count": 322,
     "metadata": {},
     "output_type": "execute_result"
    }
   ],
   "source": [
    "import seaborn as sns\n",
    "# ponga aqui donde tiene el archivo\n",
    "data_file = \"movies.csv\"\n",
    "\n",
    "movies = pd.read_csv(data_file)\n",
    "movies.head()"
   ]
  },
  {
   "cell_type": "markdown",
   "metadata": {
    "id": "mE4PFXhY0Pdt"
   },
   "source": [
    "## Exploración de datos\n",
    "\n",
    "**1.** Explore el dataset y de una descripción del dataset. Algunos puntos que puede tocar son el número de datos en el dataset, número de features, tipos de cada features y rangos, datos erroneos, etc.\n",
    "Aplique el preprocesamiento necesario tal que los datos queden usables para los modelos de clasificación.\n",
    "\n",
    "Nota: Como la parte de exploración puede ser tan compleja y detallada como uno quiera, tendremos una pauta con lo mínimo que uno debería hacer en un dataset. Consideraremos análisis más detallados como un bonus a esta u otras tareas."
   ]
  },
  {
   "cell_type": "markdown",
   "metadata": {
    "id": "kgaSDThNM_Pm"
   },
   "source": [
    "Como una guía para encaminar la exploración, puede considerar los siguientes hints.\n",
    "\n",
    "**Hints generales:**\n",
    "* Los datos no vienen limpios y tienen varios problemas que usted sabe como solucionar.\n",
    "* Qué tipos de datos tiene cada columna?\n",
    "* Cómo se relacionan las features?\n",
    "\n",
    "**Hints para bonus:** (no todos los hints corresponden a un puro análisis o procesamiento que pueden hacer sobre los datos, 2 hints pueden corresponden a la misma recomendación)\n",
    "* Hay features (categóricas) que no aportan información, qué análisis le serviría para ver cómo impactan en el score?\n",
    "* Revise los nombres de actores y directores.\n",
    "* Algunas features tienen outliers, encuéntrelos y limpie el dataset. Recuerde el boxplot.\n",
    "* Qué pasa si hay features extremadamente relacionadas entre sí?\n",
    "* Temporalmente, son todos los datos representativos al escenario actual?\n",
    "* Considere el siguiente código y vea si le sirve para algún tipo de análisis:\n",
    "```python\n",
    "feature = \"...\"\n",
    "# esto cuenta las ocurrencias de cada valor en 'feature'\n",
    "count = data[feature].value_counts()\n",
    "# esto calcula el score promedio por cada valor del 'feature'\n",
    "avg_score = data.groupby(feature)[\"imdb_score\"].mean()\n",
    "# los juntamos en un mismo dataframe\n",
    "count.to_frame().join(avg_score)\n",
    "```\n"
   ]
  },
  {
   "cell_type": "markdown",
   "metadata": {
    "id": "-G_cNoQGHq29"
   },
   "source": [
    "### Respuesta (no intente hacerlo todo en la misma celda)"
   ]
  },
  {
   "cell_type": "code",
   "execution_count": 275,
   "metadata": {},
   "outputs": [
    {
     "data": {
      "text/plain": [
       "(5043, 24)"
      ]
     },
     "execution_count": 275,
     "metadata": {},
     "output_type": "execute_result"
    }
   ],
   "source": [
    "movies.shape\n",
    "#movies.columns"
   ]
  },
  {
   "cell_type": "markdown",
   "metadata": {},
   "source": [
    "Contamos con 5043 filas con 24 atributos.\n",
    "\n",
    "El detalle de los 24 atributos se puede ver a continuación:"
   ]
  },
  {
   "cell_type": "code",
   "execution_count": 230,
   "metadata": {},
   "outputs": [
    {
     "name": "stdout",
     "output_type": "stream",
     "text": [
      "<class 'pandas.core.frame.DataFrame'>\n",
      "RangeIndex: 5043 entries, 0 to 5042\n",
      "Data columns (total 24 columns):\n",
      " #   Column                     Non-Null Count  Dtype  \n",
      "---  ------                     --------------  -----  \n",
      " 0   movie_title                5043 non-null   object \n",
      " 1   imdb_score                 5043 non-null   int64  \n",
      " 2   title_year                 4935 non-null   float64\n",
      " 3   num_voted_users            5043 non-null   int64  \n",
      " 4   num_critic_for_reviews     4993 non-null   float64\n",
      " 5   num_user_for_reviews       5022 non-null   float64\n",
      " 6   color                      5024 non-null   object \n",
      " 7   director_name              4939 non-null   object \n",
      " 8   director_facebook_likes    4939 non-null   float64\n",
      " 9   actor_1_name               5036 non-null   object \n",
      " 10  actor_1_facebook_likes     5036 non-null   float64\n",
      " 11  actor_2_name               5030 non-null   object \n",
      " 12  actor_2_facebook_likes     5030 non-null   float64\n",
      " 13  actor_3_name               5020 non-null   object \n",
      " 14  actor_3_facebook_likes     5020 non-null   float64\n",
      " 15  cast_total_facebook_likes  5043 non-null   int64  \n",
      " 16  movie_facebook_likes       5043 non-null   int64  \n",
      " 17  duration                   5028 non-null   float64\n",
      " 18  gross                      4159 non-null   float64\n",
      " 19  language                   5031 non-null   object \n",
      " 20  country                    5038 non-null   object \n",
      " 21  content_rating             4740 non-null   object \n",
      " 22  budget                     4551 non-null   float64\n",
      " 23  aspect_ratio               4714 non-null   float64\n",
      "dtypes: float64(11), int64(4), object(9)\n",
      "memory usage: 945.7+ KB\n"
     ]
    }
   ],
   "source": [
    "movies.info()"
   ]
  },
  {
   "cell_type": "markdown",
   "metadata": {},
   "source": [
    "Si revisamos la cantidad de valores nulos por feature se tiene lo siguiente:"
   ]
  },
  {
   "cell_type": "code",
   "execution_count": 280,
   "metadata": {},
   "outputs": [
    {
     "data": {
      "text/plain": [
       "movie_title                  0\n",
       "imdb_score                   0\n",
       "title_year                   0\n",
       "num_voted_users              0\n",
       "num_critic_for_reviews       0\n",
       "num_user_for_reviews         0\n",
       "color                        0\n",
       "director_name                0\n",
       "director_facebook_likes      0\n",
       "actor_1_name                 0\n",
       "actor_1_facebook_likes       0\n",
       "actor_2_name                 0\n",
       "actor_2_facebook_likes       0\n",
       "actor_3_name                 0\n",
       "actor_3_facebook_likes       0\n",
       "cast_total_facebook_likes    0\n",
       "movie_facebook_likes         0\n",
       "duration                     0\n",
       "gross                        0\n",
       "language                     0\n",
       "country                      0\n",
       "content_rating               0\n",
       "budget                       0\n",
       "aspect_ratio                 0\n",
       "dtype: int64"
      ]
     },
     "execution_count": 280,
     "metadata": {},
     "output_type": "execute_result"
    }
   ],
   "source": [
    "movies.isnull().sum()"
   ]
  },
  {
   "cell_type": "code",
   "execution_count": 279,
   "metadata": {},
   "outputs": [],
   "source": [
    "#Eliminamos los valores nulos\n",
    "movies = movies.dropna()"
   ]
  },
  {
   "cell_type": "markdown",
   "metadata": {},
   "source": [
    "Viendo la cantidad de valores duplicados..."
   ]
  },
  {
   "cell_type": "code",
   "execution_count": 287,
   "metadata": {},
   "outputs": [
    {
     "data": {
      "text/plain": [
       "False    3742\n",
       "True       33\n",
       "dtype: int64"
      ]
     },
     "execution_count": 287,
     "metadata": {},
     "output_type": "execute_result"
    }
   ],
   "source": [
    "movies.duplicated().value_counts() "
   ]
  },
  {
   "cell_type": "code",
   "execution_count": 313,
   "metadata": {},
   "outputs": [],
   "source": [
    "#Borramos los datos duplicados\n",
    "movies = movies.drop_duplicates()"
   ]
  },
  {
   "cell_type": "markdown",
   "metadata": {},
   "source": [
    "Si ahore revisamos la cantidad de valores únicos por feature"
   ]
  },
  {
   "cell_type": "code",
   "execution_count": 314,
   "metadata": {},
   "outputs": [
    {
     "data": {
      "text/plain": [
       "movie_title                  3674\n",
       "imdb_score                      8\n",
       "title_year                     74\n",
       "num_voted_users              3693\n",
       "num_critic_for_reviews        527\n",
       "num_user_for_reviews          942\n",
       "color                           2\n",
       "director_name                1670\n",
       "director_facebook_likes       395\n",
       "actor_1_name                 1439\n",
       "actor_1_facebook_likes        717\n",
       "actor_2_name                 2203\n",
       "actor_2_facebook_likes        857\n",
       "actor_3_name                 2600\n",
       "actor_3_facebook_likes        882\n",
       "cast_total_facebook_likes    3257\n",
       "movie_facebook_likes          660\n",
       "duration                      152\n",
       "gross                        3657\n",
       "language                       34\n",
       "country                        45\n",
       "content_rating                 12\n",
       "budget                        361\n",
       "aspect_ratio                   18\n",
       "dtype: int64"
      ]
     },
     "execution_count": 314,
     "metadata": {},
     "output_type": "execute_result"
    }
   ],
   "source": [
    "movies.nunique()"
   ]
  },
  {
   "cell_type": "markdown",
   "metadata": {},
   "source": [
    "Color no parece aportar información interesante, reviemos cuántas películas hay por categoría de color"
   ]
  },
  {
   "cell_type": "code",
   "execution_count": 319,
   "metadata": {},
   "outputs": [
    {
     "data": {
      "text/plain": [
       "Color               3619\n",
       " Black and White     123\n",
       "Name: color, dtype: int64"
      ]
     },
     "execution_count": 319,
     "metadata": {},
     "output_type": "execute_result"
    }
   ],
   "source": [
    "movies[\"color\"].value_counts()"
   ]
  },
  {
   "cell_type": "markdown",
   "metadata": {},
   "source": [
    "Si revisamos la estadística descriptiva de los datos limpios se tiene:"
   ]
  },
  {
   "cell_type": "code",
   "execution_count": 289,
   "metadata": {},
   "outputs": [
    {
     "data": {
      "text/html": [
       "<div>\n",
       "<style scoped>\n",
       "    .dataframe tbody tr th:only-of-type {\n",
       "        vertical-align: middle;\n",
       "    }\n",
       "\n",
       "    .dataframe tbody tr th {\n",
       "        vertical-align: top;\n",
       "    }\n",
       "\n",
       "    .dataframe thead th {\n",
       "        text-align: right;\n",
       "    }\n",
       "</style>\n",
       "<table border=\"1\" class=\"dataframe\">\n",
       "  <thead>\n",
       "    <tr style=\"text-align: right;\">\n",
       "      <th></th>\n",
       "      <th>imdb_score</th>\n",
       "      <th>title_year</th>\n",
       "      <th>num_voted_users</th>\n",
       "      <th>num_critic_for_reviews</th>\n",
       "      <th>num_user_for_reviews</th>\n",
       "      <th>director_facebook_likes</th>\n",
       "      <th>actor_1_facebook_likes</th>\n",
       "      <th>actor_2_facebook_likes</th>\n",
       "      <th>actor_3_facebook_likes</th>\n",
       "      <th>cast_total_facebook_likes</th>\n",
       "      <th>movie_facebook_likes</th>\n",
       "      <th>duration</th>\n",
       "      <th>gross</th>\n",
       "      <th>budget</th>\n",
       "      <th>aspect_ratio</th>\n",
       "    </tr>\n",
       "  </thead>\n",
       "  <tbody>\n",
       "    <tr>\n",
       "      <th>count</th>\n",
       "      <td>3742.000000</td>\n",
       "      <td>3742.000000</td>\n",
       "      <td>3.742000e+03</td>\n",
       "      <td>3742.000000</td>\n",
       "      <td>3742.000000</td>\n",
       "      <td>3742.000000</td>\n",
       "      <td>3742.000000</td>\n",
       "      <td>3742.000000</td>\n",
       "      <td>3742.000000</td>\n",
       "      <td>3742.000000</td>\n",
       "      <td>3742.000000</td>\n",
       "      <td>3742.000000</td>\n",
       "      <td>3.742000e+03</td>\n",
       "      <td>3.742000e+03</td>\n",
       "      <td>3742.000000</td>\n",
       "    </tr>\n",
       "    <tr>\n",
       "      <th>mean</th>\n",
       "      <td>6.465794</td>\n",
       "      <td>2003.013629</td>\n",
       "      <td>1.052270e+05</td>\n",
       "      <td>166.637627</td>\n",
       "      <td>334.862640</td>\n",
       "      <td>805.915286</td>\n",
       "      <td>7709.319081</td>\n",
       "      <td>2001.559327</td>\n",
       "      <td>762.443079</td>\n",
       "      <td>11448.166221</td>\n",
       "      <td>9324.955906</td>\n",
       "      <td>110.235703</td>\n",
       "      <td>5.236814e+07</td>\n",
       "      <td>4.610755e+07</td>\n",
       "      <td>2.111058</td>\n",
       "    </tr>\n",
       "    <tr>\n",
       "      <th>std</th>\n",
       "      <td>1.099576</td>\n",
       "      <td>9.893395</td>\n",
       "      <td>1.515840e+05</td>\n",
       "      <td>123.663224</td>\n",
       "      <td>410.880079</td>\n",
       "      <td>3069.301059</td>\n",
       "      <td>15526.036661</td>\n",
       "      <td>4521.216677</td>\n",
       "      <td>1864.550647</td>\n",
       "      <td>19076.850481</td>\n",
       "      <td>21536.906438</td>\n",
       "      <td>22.681529</td>\n",
       "      <td>6.982355e+07</td>\n",
       "      <td>2.264059e+08</td>\n",
       "      <td>0.353447</td>\n",
       "    </tr>\n",
       "    <tr>\n",
       "      <th>min</th>\n",
       "      <td>2.000000</td>\n",
       "      <td>1927.000000</td>\n",
       "      <td>2.200000e+01</td>\n",
       "      <td>1.000000</td>\n",
       "      <td>1.000000</td>\n",
       "      <td>0.000000</td>\n",
       "      <td>0.000000</td>\n",
       "      <td>0.000000</td>\n",
       "      <td>0.000000</td>\n",
       "      <td>0.000000</td>\n",
       "      <td>0.000000</td>\n",
       "      <td>37.000000</td>\n",
       "      <td>1.620000e+02</td>\n",
       "      <td>2.180000e+02</td>\n",
       "      <td>1.180000</td>\n",
       "    </tr>\n",
       "    <tr>\n",
       "      <th>25%</th>\n",
       "      <td>6.000000</td>\n",
       "      <td>1999.000000</td>\n",
       "      <td>1.924800e+04</td>\n",
       "      <td>76.000000</td>\n",
       "      <td>109.000000</td>\n",
       "      <td>11.000000</td>\n",
       "      <td>742.000000</td>\n",
       "      <td>380.000000</td>\n",
       "      <td>192.000000</td>\n",
       "      <td>1898.250000</td>\n",
       "      <td>0.000000</td>\n",
       "      <td>96.000000</td>\n",
       "      <td>8.058288e+06</td>\n",
       "      <td>1.000000e+07</td>\n",
       "      <td>1.850000</td>\n",
       "    </tr>\n",
       "    <tr>\n",
       "      <th>50%</th>\n",
       "      <td>7.000000</td>\n",
       "      <td>2005.000000</td>\n",
       "      <td>5.355750e+04</td>\n",
       "      <td>138.000000</td>\n",
       "      <td>209.000000</td>\n",
       "      <td>62.000000</td>\n",
       "      <td>1000.000000</td>\n",
       "      <td>682.500000</td>\n",
       "      <td>434.000000</td>\n",
       "      <td>3997.500000</td>\n",
       "      <td>227.000000</td>\n",
       "      <td>106.000000</td>\n",
       "      <td>2.998654e+07</td>\n",
       "      <td>2.500000e+07</td>\n",
       "      <td>2.350000</td>\n",
       "    </tr>\n",
       "    <tr>\n",
       "      <th>75%</th>\n",
       "      <td>7.000000</td>\n",
       "      <td>2010.000000</td>\n",
       "      <td>1.279002e+05</td>\n",
       "      <td>224.000000</td>\n",
       "      <td>397.750000</td>\n",
       "      <td>234.000000</td>\n",
       "      <td>13000.000000</td>\n",
       "      <td>975.000000</td>\n",
       "      <td>690.000000</td>\n",
       "      <td>16182.750000</td>\n",
       "      <td>11000.000000</td>\n",
       "      <td>120.000000</td>\n",
       "      <td>6.680402e+07</td>\n",
       "      <td>5.000000e+07</td>\n",
       "      <td>2.350000</td>\n",
       "    </tr>\n",
       "    <tr>\n",
       "      <th>max</th>\n",
       "      <td>9.000000</td>\n",
       "      <td>2016.000000</td>\n",
       "      <td>1.689764e+06</td>\n",
       "      <td>813.000000</td>\n",
       "      <td>5060.000000</td>\n",
       "      <td>23000.000000</td>\n",
       "      <td>640000.000000</td>\n",
       "      <td>137000.000000</td>\n",
       "      <td>23000.000000</td>\n",
       "      <td>656730.000000</td>\n",
       "      <td>349000.000000</td>\n",
       "      <td>330.000000</td>\n",
       "      <td>7.605058e+08</td>\n",
       "      <td>1.221550e+10</td>\n",
       "      <td>16.000000</td>\n",
       "    </tr>\n",
       "  </tbody>\n",
       "</table>\n",
       "</div>"
      ],
      "text/plain": [
       "        imdb_score   title_year  num_voted_users  num_critic_for_reviews  \\\n",
       "count  3742.000000  3742.000000     3.742000e+03             3742.000000   \n",
       "mean      6.465794  2003.013629     1.052270e+05              166.637627   \n",
       "std       1.099576     9.893395     1.515840e+05              123.663224   \n",
       "min       2.000000  1927.000000     2.200000e+01                1.000000   \n",
       "25%       6.000000  1999.000000     1.924800e+04               76.000000   \n",
       "50%       7.000000  2005.000000     5.355750e+04              138.000000   \n",
       "75%       7.000000  2010.000000     1.279002e+05              224.000000   \n",
       "max       9.000000  2016.000000     1.689764e+06              813.000000   \n",
       "\n",
       "       num_user_for_reviews  director_facebook_likes  actor_1_facebook_likes  \\\n",
       "count           3742.000000              3742.000000             3742.000000   \n",
       "mean             334.862640               805.915286             7709.319081   \n",
       "std              410.880079              3069.301059            15526.036661   \n",
       "min                1.000000                 0.000000                0.000000   \n",
       "25%              109.000000                11.000000              742.000000   \n",
       "50%              209.000000                62.000000             1000.000000   \n",
       "75%              397.750000               234.000000            13000.000000   \n",
       "max             5060.000000             23000.000000           640000.000000   \n",
       "\n",
       "       actor_2_facebook_likes  actor_3_facebook_likes  \\\n",
       "count             3742.000000             3742.000000   \n",
       "mean              2001.559327              762.443079   \n",
       "std               4521.216677             1864.550647   \n",
       "min                  0.000000                0.000000   \n",
       "25%                380.000000              192.000000   \n",
       "50%                682.500000              434.000000   \n",
       "75%                975.000000              690.000000   \n",
       "max             137000.000000            23000.000000   \n",
       "\n",
       "       cast_total_facebook_likes  movie_facebook_likes     duration  \\\n",
       "count                3742.000000           3742.000000  3742.000000   \n",
       "mean                11448.166221           9324.955906   110.235703   \n",
       "std                 19076.850481          21536.906438    22.681529   \n",
       "min                     0.000000              0.000000    37.000000   \n",
       "25%                  1898.250000              0.000000    96.000000   \n",
       "50%                  3997.500000            227.000000   106.000000   \n",
       "75%                 16182.750000          11000.000000   120.000000   \n",
       "max                656730.000000         349000.000000   330.000000   \n",
       "\n",
       "              gross        budget  aspect_ratio  \n",
       "count  3.742000e+03  3.742000e+03   3742.000000  \n",
       "mean   5.236814e+07  4.610755e+07      2.111058  \n",
       "std    6.982355e+07  2.264059e+08      0.353447  \n",
       "min    1.620000e+02  2.180000e+02      1.180000  \n",
       "25%    8.058288e+06  1.000000e+07      1.850000  \n",
       "50%    2.998654e+07  2.500000e+07      2.350000  \n",
       "75%    6.680402e+07  5.000000e+07      2.350000  \n",
       "max    7.605058e+08  1.221550e+10     16.000000  "
      ]
     },
     "execution_count": 289,
     "metadata": {},
     "output_type": "execute_result"
    }
   ],
   "source": [
    "movies.describe()"
   ]
  },
  {
   "cell_type": "markdown",
   "metadata": {},
   "source": [
    "Sería interesante ver un boxplot de el año de las películas..."
   ]
  },
  {
   "cell_type": "code",
   "execution_count": 301,
   "metadata": {},
   "outputs": [
    {
     "data": {
      "image/png": "[encoded data removed]",
      "text/plain": [
       "<Figure size 432x288 with 1 Axes>"
      ]
     },
     "metadata": {
      "needs_background": "light"
     },
     "output_type": "display_data"
    }
   ],
   "source": [
    "sns.boxplot(x = \"title_year\", data = movies);"
   ]
  },
  {
   "cell_type": "markdown",
   "metadata": {},
   "source": [
    "Bastantes *outliers*, parece razonable filtrar películas despúes de 1980"
   ]
  },
  {
   "cell_type": "code",
   "execution_count": 304,
   "metadata": {},
   "outputs": [
    {
     "data": {
      "image/png": "[encoded data removed]",
      "text/plain": [
       "<Figure size 432x288 with 1 Axes>"
      ]
     },
     "metadata": {
      "needs_background": "light"
     },
     "output_type": "display_data"
    }
   ],
   "source": [
    "mov_1980 = movies[movies[\"title_year\"]>1980]\n",
    "sns.boxplot(x = \"title_year\", data = mov_1980);"
   ]
  },
  {
   "cell_type": "markdown",
   "metadata": {},
   "source": [
    "Si vemos la correlación entre las features se tiene:"
   ]
  },
  {
   "cell_type": "code",
   "execution_count": 309,
   "metadata": {},
   "outputs": [
    {
     "data": {
      "image/png": "[encoded data removed]",
      "text/plain": [
       "<Figure size 432x288 with 2 Axes>"
      ]
     },
     "metadata": {
      "needs_background": "light"
     },
     "output_type": "display_data"
    }
   ],
   "source": [
    "sns.heatmap(mov_1980.corr());"
   ]
  },
  {
   "cell_type": "markdown",
   "metadata": {},
   "source": [
    "Se puede observar bastante correlación entre *num_users_for_reviews* y *num_voted_users*, *cast_total_Facebook_likes* y *actor_1_facebook_likes*"
   ]
  },
  {
   "cell_type": "markdown",
   "metadata": {
    "id": "EiLtCD-D0RwP"
   },
   "source": [
    "## Entrenamiento y Evaluación\n",
    "\n",
    "**2.** Escoja 2 modelos que hayan visto dentro del curso y entrénelos sobre los datos trabajados en la parte anterior. Recuerde aplicar buenas prácticas de entrenamiento vistas en clases y aplicadas en la tarea anterior. Evalúe los modelos en base a métricas vistas en el curso. Puede hacer gráficos o generar tablas para analizar y comparar los modelos."
   ]
  },
  {
   "cell_type": "code",
   "execution_count": 331,
   "metadata": {},
   "outputs": [],
   "source": [
    "\n",
    "\n",
    "y = mov_1980[\"imdb_score\"]"
   ]
  },
  {
   "cell_type": "code",
   "execution_count": 324,
   "metadata": {
    "id": "BAPOfuGq7IKT"
   },
   "outputs": [],
   "source": [
    "# Respuesta\n",
    "from sklearn.tree import DecisionTreeClassifier\n",
    "from sklearn.metrics import accuracy_score\n",
    "from sklearn.metrics import classification_report\n",
    "from sklearn.model_selection import train_test_split \n",
    "\n",
    "X_train, X_test, y_train, y_test = train_test_split(X, y, test_size = 0.3, random_state = 30, stratify = y) #Dividimos el dataset, en set de entrenamiento "
   ]
  },
  {
   "cell_type": "markdown",
   "metadata": {
    "id": "iwH4mwO26Opj"
   },
   "source": [
    "## Conclusiones\n",
    "\n",
    "**3.** Si este fuera un estudio encargado a usted por alguna empresa o cliente, basándose en los análisis que hizo anteriormente, qué conclusiones reportaría? Qué modelo propondría que fuera implementado en el producto del cliente? Por qué?"
   ]
  },
  {
   "cell_type": "markdown",
   "metadata": {
    "id": "m8bxqBlp9JCl"
   },
   "source": [
    ">Respuesta:"
   ]
  }
 ],
 "metadata": {
  "anaconda-cloud": {},
  "colab": {
   "collapsed_sections": [],
   "name": "Tarea 3.ipynb",
   "provenance": []
  },
  "hide_input": false,
  "kernelspec": {
   "display_name": "Python 3",
   "language": "python",
   "name": "python3"
  },
  "language_info": {
   "codemirror_mode": {
    "name": "ipython",
    "version": 3
   },
   "file_extension": ".py",
   "mimetype": "text/x-python",
   "name": "python",
   "nbconvert_exporter": "python",
   "pygments_lexer": "ipython3",
   "version": "3.7.7"
  },
  "toc": {
   "base_numbering": 1,
   "nav_menu": {},
   "number_sections": true,
   "sideBar": true,
   "skip_h1_title": false,
   "title_cell": "Table of Contents",
   "title_sidebar": "Contents",
   "toc_cell": false,
   "toc_position": {},
   "toc_section_display": true,
   "toc_window_display": false
  },
  "varInspector": {
   "cols": {
    "lenName": 16,
    "lenType": 16,
    "lenVar": 40
   },
   "kernels_config": {
    "python": {
     "delete_cmd_postfix": "",
     "delete_cmd_prefix": "del ",
     "library": "var_list.py",
     "varRefreshCmd": "print(var_dic_list())"
    },
    "r": {
     "delete_cmd_postfix": ") ",
     "delete_cmd_prefix": "rm(",
     "library": "var_list.r",
     "varRefreshCmd": "cat(var_dic_list()) "
    }
   },
   "types_to_exclude": [
    "module",
    "function",
    "builtin_function_or_method",
    "instance",
    "_Feature"
   ],
   "window_display": false
  }
 },
 "nbformat": 4,
 "nbformat_minor": 4
}
