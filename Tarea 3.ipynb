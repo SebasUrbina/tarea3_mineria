{
 "cells": [
  {
   "cell_type": "markdown",
   "metadata": {
    "id": "p_XcuC2rXQWb",
    "pycharm": {}
   },
   "source": [
    "# Tarea 3: Clasificacion II + Clustering\n",
    "\n",
    "Felipe Bravo, Hernán Sarmiento, Aymé Arango, Alison Fernandez, Cinthia Mabel Sánchez, Juan-Pablo Silva\n",
    "\n",
    "**Noviembre 2020**"
   ]
  },
  {
   "cell_type": "markdown",
   "metadata": {
    "heading_collapsed": true,
    "id": "RvarrC_jXQWe",
    "pycharm": {}
   },
   "source": [
    "## ============= Declaración de compromiso ético =============\n",
    "\n",
    "Nosotros ****Nicolás Herrera, Sebastián Urbina y Samuel Sánchez**** , declaramos que realizamos de manera grupal los pasos de la presente actividad. También declaramos no incurrir en copia, ni compartir nuestras respuestas con otras personas ni con otros grupos. Por lo que, ratificamos que las respuestas son de nuestra propia confección y reflejan nuestro propio conocimiento.\n"
   ]
  },
  {
   "cell_type": "markdown",
   "metadata": {
    "heading_collapsed": true,
    "id": "bxEPucKhXQWg",
    "pycharm": {}
   },
   "source": [
    "# Instrucciones\n",
    "\n",
    "\n",
    "1. Trabajen en equipos de dos o tres personas. Salvo excepciones, no se corregirá entregas con menos de dos integrantes.\n",
    "\n",
    "2. Modifique este archivo `.ipynb` agregando sus respuestas donde corresponda. \n",
    "\n",
    "3. Cuando finalice el laboratorio, **genere un archivo HTML** usando jupyter (ver tutorial 2) y súbalo a U-Cursos. El laboratorio debe ser entregado sólo por 1 integrante. Si se entrega por más de un integrante, se revisará cualquiera de éstos."
   ]
  },
  {
   "cell_type": "markdown",
   "metadata": {
    "heading_collapsed": true,
    "id": "SMUzxXj7XQWi",
    "pycharm": {}
   },
   "source": [
    "# Estructura de la tarea\n",
    "\n",
    "Esta tarea consiste en 3 partes. La primera son preguntas teóricas en las que no necesita escribir código y corresponden a materia vista en clases. La segunda es una sección introductoria para familiarizarse con métodos de clustering. Finalmente la tercera parte es un problema abierto de clasificación donde deberá usar todos los conocimientos que ha adquirido en el curso hasta este momento. Esos conocimientos incluyen exploración de datos, limpieza, entrenamiento de modelos, selección y evaluación."
   ]
  },
  {
   "cell_type": "markdown",
   "metadata": {
    "id": "BUK5vAG9fHXq"
   },
   "source": [
    "# Parte 1: Teoría\n"
   ]
  },
  {
   "cell_type": "markdown",
   "metadata": {
    "id": "c2stuWVkQwg4"
   },
   "source": [
    "\n",
    "\n",
    "**1.** Explique para qué se usan variables de holgura en el problema de optimización de la SVM. "
   ]
  },
  {
   "cell_type": "markdown",
   "metadata": {
    "id": "XmUHE93jQvNp"
   },
   "source": [
    ">Respuesta: Cuando no existe un hiperplano perfecto que permita ajustar a los datos, se tiene que los datos no son linealmente separables, entonces, con el fin de encontrar el mejor hiperplano posible, se realiza un balance entre el ancho del margen y el número de errores que ajusta a los datos, utilizando un modelo SVM Soft Margin. Esto último se realiza mediante la incorporación de variables de holgura a las restricciones, en donde, en la nueva función objetivo del problema de optimización, se realiza una penalización de acuerdo con esta variable de holgura."
   ]
  },
  {
   "cell_type": "markdown",
   "metadata": {
    "id": "sn0lGmALQlVT"
   },
   "source": [
    "**2.** John Doe, un consultor en minería de datos, argumenta lo siguiente: lo malo de las SVMs es que para que encuentren límites de decisión no lineales tengo que proyectarlas manualmente a más dimensiones con una función $\\phi(x)$ que tengo que diseñar de manera manual. Esto hace que todo sea mucho más caro computacionalmente pues todas las operaciones las tengo que hacer sobre el espacio transformado. Discuta el argumento de John Doe."
   ]
  },
  {
   "cell_type": "markdown",
   "metadata": {
    "id": "sdt8hUz8Qz5R"
   },
   "source": [
    ">Respuesta:Al usar el enfoque de agregar más dimensionalidad se puede sufrir del problema de la maldición de la dimensionalidad, en donde las técnicas de minería de datos puede que no funcionen bien. Sin embargo, este problema se puede solucionar utilizando el \"Truco de Kernel\", en donde en vez de calcular una función para cada dimensión, se calcula la relación entre estas, lo cual disminuye considerablemente el costo computacional, lo cual permite que esta técnica de aumentar la dimesionalidad sea aplicable."
   ]
  },
  {
   "cell_type": "markdown",
   "metadata": {
    "id": "YYE74-MqQnfD"
   },
   "source": [
    "\n",
    "\n",
    "**3.** Usando un clasificador Naive Bayes con Laplace Smoothing entrenado con los datos de la tabla de más abajo, clasifique el siguiente ejemplo a la clase Evade: **[Refund= YES, Marital Status = Divorced]**.\n",
    "\n",
    "Hint: Tiene que comparar P(Evade=Yes | datos) vs P(Evade=No|datos). Muestre todos sus cálculos.\n",
    "\n",
    "Refund | Marital Status | Evade\n",
    "--- | --- | ---\n",
    "YES | Single | NO\n",
    "NO | Married | NO\n",
    "NO | Single | NO\n",
    "YES | Married | NO\n",
    "NO | Divorced | YES\n",
    "NO | Married | NO\n",
    "YES | Divorced | NO\n",
    "NO | Single | YES\n",
    "NO | Married | NO\n",
    "NO | Single | YES"
   ]
  },
  {
   "cell_type": "markdown",
   "metadata": {
    "id": "r0wUrzxqRHKp"
   },
   "source": [
    ">Respuesta: \n",
    "> * ¿Cual es la probabilidad de que una instancia haya sido de cierta clase conociendo sus datos? $\\rightarrow$ Predecir la clase $C$ que maximice $P(C|A_{1},A_{2},\\ldots,A_{n})$\n",
    "> * Por Bayes se tiene que:\n",
    "> $P(C|A_{1},A_{2},\\ldots,A_{n})=\\frac{P(A_{1},A_{2},\\ldots,A_{n}|C)P(C)}{P(A_{1},A_{2},\\ldots,A_{n})}$\n",
    "> * Como ${P(A_{1},A_{2},\\ldots,A_{n})}$ es constante para todas las clases, basta maximizar solo $P(A_{1},A_{2},\\ldots,A_{n}|C)P(C)$\n",
    "> * Dado que cuando la clase esta dada, se asume independencia en los atributos\n",
    "> $\\rightarrow P(A_{1},A_{2},\\ldots,A_{n}|C)=P(A_{1}|C)P(A_{2}|C)\\ldots P(A_{n}|C)$\n",
    "> * $\\longrightarrow$ Maximizar $P(C)\\prod_{i}P(A_{i}|C)$, en donde\n",
    ">  - $P(C_{k})=\\frac{count(C_{k})}{N}$\n",
    ">  - $P(A_{i}=b|C_{k})=\\frac{count(A_{ik}=b)+1}{count(C_{k})+values(A_{i})}$\n",
    "> * En este ultimo, (para datos discretos), Laplace Smoothing generalizo bien el modelo, tal que $P(C|A_{1},A_{2},\\ldots,A_{n})$ pudo irse a cero cuando $|A_{ik}|=0$. $values(A_{i})$ es la cantidad de categorias del atributo $A_{i}$\n",
    "\n",
    "> * En este problema $\\rightarrow$ `P(Evade=YES|datos) v/s P(Evade=NO|datos)`\n",
    "> * P(Evade=Yes|datos)=P(Evade=Yes)P(Refund=Yes|Evade=Yes)P(State=Divorced|Evade=Yes)\n",
    ">   - P(Evade=Yes)= $\\frac{3}{10}$\n",
    ">   - P(Refund=Yes|Evade=Yes)= $\\frac{0+1}{3+2}=\\frac{1}{5}$\n",
    ">   - P(State=Divorced|Evade=Yes)= $\\frac{1+1}{3+3}=\\frac{1}{3}$\n",
    "> * P(Evade=No|datos)=P(Evade=No)P(Refund=Yes|Evade=No)P(State=Divorced|Evade=No)\n",
    ">   - P(Evade=No)= $\\frac{7}{10}$\n",
    ">   - P(Refund=Yes|Evade=No)= $\\frac{3+1}{7+2}=\\frac{4}{9}$\n",
    ">   - P(State=Divorced|Evade=No)= $\\frac{1+1}{7+3}=\\frac{1}{5}$\n",
    "> * Se tiene finalmente que:\n",
    ">   - P(Evade=Yes|datos)= $\\frac{3}{10}\\frac{1}{5}\\frac{1}{3}=\\frac{3}{150}=0.020$\n",
    ">   - P(Evade=No|datos)= $\\frac{7}{10}\\frac{4}{9}\\frac{1}{5}=\\frac{28}{450}=0.062$\n",
    "\n",
    "> * Como P(Evade=No|datos)>P(Evade=Yes|datos), se tiene finalmente que para una instancia con los datos: `Refund=Yes, State=Divorced`, el clasificador le otorgara la clase de `Evade=No` al tener esta mayor probabilidad.\n"
   ]
  },
  {
   "cell_type": "markdown",
   "metadata": {
    "id": "Ilyrc9pOQo_D"
   },
   "source": [
    "**4.** Explique cómo bisecting k-mean soluciona el problema de la inicialización de centroides de k-means."
   ]
  },
  {
   "cell_type": "markdown",
   "metadata": {
    "id": "UoqOWIh-RJXP"
   },
   "source": [
    ">Respuesta: Con bisecting se busca encontrar mejores centroides iniciales para que se tengan los clusters esperados y que mejor describan a la data, para esto lo que se hace es dividir el conjunto de datos en dos cluster, luego se selecciona uno de estos dos y se divide hasta producir K clusters, utilizando el criterio de SSE más grande. Al tomar solo dos centroides iniciales, es más fácil y más probable encontrar un centroide que se ajuste mejor."
   ]
  },
  {
   "cell_type": "markdown",
   "metadata": {
    "id": "1L_jfMRXQqEI"
   },
   "source": [
    "**5.** Explique cómo encontrar outliers en los siguientes métodos de clustering:\n",
    "* K-Means\n",
    "* Clustering Jerarquico Aglomerativo"
   ]
  },
  {
   "cell_type": "markdown",
   "metadata": {
    "id": "VCaOS0kvRM9P"
   },
   "source": [
    ">Respuesta: En el caso de K-Means, se puede utilizar la métrica de distancia SSE, en donde aquellos datos que estén muy alejados del centroide con respecto a los otros datos podría ser un outlier, estos outliers se van a encontrar en alguno de los clusters generados, puesto que así funciona el algorítmo de K-Means. Por otro lado, para el caso de Clustering Jerarquico Aglomerativo, va a depender de qué método se utiliza para calcular la distancia entre dos cluster o entre un punto y un claster, los cuáles pueden ser la distancia entre los dos puntos más cercanos de dos cluster, la distancia máxima entre los dos puntos más lejanos de un cluster, la distancia promedio o utilizando el método de ward. Entonces, para cada caso, se podría considerar como un outlier como a aquel dato que esté lejos del valor de la distancia a partir del método seleccionado, en donde, por ejemplo, para el caso de los mínimos, si un dato de un cluster diferente al dato más cercano al otro cluster está muy lejos del dato más cercano del otro cluster, se podría considerar a este dato como un outlier."
   ]
  },
  {
   "cell_type": "markdown",
   "metadata": {
    "id": "ZyPaLTrxQsSH"
   },
   "source": [
    "**6.** Describa una ventaja y desventaja de los siguientes métodos de clustering:\n",
    "* K-Means\n",
    "* Clustering Jerarquico Aglomerativo"
   ]
  },
  {
   "cell_type": "markdown",
   "metadata": {
    "id": "MaScQlZ1RRI7"
   },
   "source": [
    ">Respuesta:\n",
    "\n",
    "* Clustering Jerarquico Aglomerativo -> Ventaja: No se debe suponer una cierta cantidad de cluters previamente, en donde el número de cluster debe ser menor a la cantidad de puntos que se tienen.\n",
    "* Clustering Jerarquico Aglomerativo -> Desventaja: Una vez que se decide unir dos clusters no se pueden volver a separar.\n",
    "* K-Means -> Ventaja: Se tiene un parámetro claro que se busca minimizar, el SSE.\n",
    "* k-Means -> Desventaja: Si existen clusters de diferentes tamaños y densidades puede ser que K-Means no los detecte bien y lo que podría ocurrir que separe un cluster que no debería estar separado.\n"
   ]
  },
  {
   "cell_type": "markdown",
   "metadata": {
    "id": "xKpPq8w1QtQ3"
   },
   "source": [
    "**7.** En DBSCAN el parametro `eps` es crucial para obtener buenos clusters. Explique una forma de encontar el valor de `eps`."
   ]
  },
  {
   "cell_type": "markdown",
   "metadata": {
    "id": "sRASCByXRT98"
   },
   "source": [
    ">Respuesta: Para determinar el valor de eps se debe analizar la distancia (k-dist) de un punto a su k-ésimo vecino más cercano, en donde k en general depende de la dimensión del set de datos. Entonces, cuando esta distancia aumenta considerablemente es cuando se puede detectar cuál podría ser el valor de eps, por lo que los puntos que están dentro de un mismo cluster tienen un k-dist pequeño, siempre y cuando el valor de k no sea más grande que el tamaño del cluster al que pertencen, por otro lado, aquellos puntos que no pertenezcan a un cluster tendrán un k-dist mayor."
   ]
  },
  {
   "cell_type": "markdown",
   "metadata": {
    "id": "zDrw4AiZQuFx"
   },
   "source": [
    "**8.** Evaluar clusters no es una tarea fácil. Qué formas de evaluar clusters conoce? Nombre 3 formas de validación y describa cómo podría determinar si los cluters son buenos o malos usando cada una de las formas nombradas."
   ]
  },
  {
   "cell_type": "markdown",
   "metadata": {
    "id": "MDJCap67RV06"
   },
   "source": [
    ">Respuesta: Una forma de evaluar clusters es ver la cohesión presente en cada, es decir, mediante la suma de los errores cuadráticos, ver si la distancia entre los puntos de un cluster es menor que otro, en donde mientras menor sea mejor va a ser el cluster. Otra forma de evaluar cluster es midiendo la pureza de un cluster, para este caso se debe saber de antemano alguna categorización o etiqqueta de los puntos, dado que se ve el nivel en que un cluster contiene elementos de una clase, en donde mientras más elementos sean de una misma clase mejor va a ser el cluster. Por otro lado se encuentra la medida de entropía, la cual indica la cantidad de clases diferentes que tiene un cluster, en donde mientras menor sea este número mejor va a ser el cluster."
   ]
  },
  {
   "cell_type": "markdown",
   "metadata": {
    "id": "huukwudDfS-f"
   },
   "source": [
    "# Parte 2: Clustering"
   ]
  },
  {
   "cell_type": "markdown",
   "metadata": {
    "id": "jTuloXfOjXak"
   },
   "source": [
    "Para esta parte usaremos el dataset de cantidad de denuncias por 100 mil habitantes por tipo de delito desde el año 2001 al 2016 en Chile (Fuente: http://www.seguridadpublica.gov.cl/estadisticas/tasa-de-denuncias-y-detenciones/delitos-de-mayor-connotacion-social-series-de-datos-2001-2017/).\n",
    "\n",
    "Ejecute el siguiete código para cargar el dataset:"
   ]
  },
  {
   "cell_type": "code",
   "execution_count": 287,
   "metadata": {
    "id": "StooikhfjZLp"
   },
   "outputs": [
    {
     "data": {
      "text/html": [
       "<div>\n",
       "<style scoped>\n",
       "    .dataframe tbody tr th:only-of-type {\n",
       "        vertical-align: middle;\n",
       "    }\n",
       "\n",
       "    .dataframe tbody tr th {\n",
       "        vertical-align: top;\n",
       "    }\n",
       "\n",
       "    .dataframe thead th {\n",
       "        text-align: right;\n",
       "    }\n",
       "</style>\n",
       "<table border=\"1\" class=\"dataframe\">\n",
       "  <thead>\n",
       "    <tr style=\"text-align: right;\">\n",
       "      <th></th>\n",
       "      <th>comuna</th>\n",
       "      <th>anio</th>\n",
       "      <th>homicidios</th>\n",
       "      <th>hurtos</th>\n",
       "      <th>robo_lugar</th>\n",
       "      <th>robo_sorpresa</th>\n",
       "      <th>robo_vehiculo</th>\n",
       "      <th>robo_violencia</th>\n",
       "      <th>violacion</th>\n",
       "    </tr>\n",
       "  </thead>\n",
       "  <tbody>\n",
       "    <tr>\n",
       "      <th>1</th>\n",
       "      <td>Arica</td>\n",
       "      <td>2001</td>\n",
       "      <td>1.6</td>\n",
       "      <td>370.3</td>\n",
       "      <td>NaN</td>\n",
       "      <td>9.5</td>\n",
       "      <td>NaN</td>\n",
       "      <td>107.2</td>\n",
       "      <td>16.4</td>\n",
       "    </tr>\n",
       "    <tr>\n",
       "      <th>2</th>\n",
       "      <td>Arica</td>\n",
       "      <td>2002</td>\n",
       "      <td>1.1</td>\n",
       "      <td>346.7</td>\n",
       "      <td>NaN</td>\n",
       "      <td>34.0</td>\n",
       "      <td>NaN</td>\n",
       "      <td>122.8</td>\n",
       "      <td>14.9</td>\n",
       "    </tr>\n",
       "    <tr>\n",
       "      <th>3</th>\n",
       "      <td>Arica</td>\n",
       "      <td>2003</td>\n",
       "      <td>1.6</td>\n",
       "      <td>460.1</td>\n",
       "      <td>464.4</td>\n",
       "      <td>52.8</td>\n",
       "      <td>172.2</td>\n",
       "      <td>196.2</td>\n",
       "      <td>15.5</td>\n",
       "    </tr>\n",
       "    <tr>\n",
       "      <th>4</th>\n",
       "      <td>Arica</td>\n",
       "      <td>2004</td>\n",
       "      <td>1.1</td>\n",
       "      <td>452.2</td>\n",
       "      <td>395.0</td>\n",
       "      <td>64.1</td>\n",
       "      <td>203.7</td>\n",
       "      <td>143.8</td>\n",
       "      <td>13.9</td>\n",
       "    </tr>\n",
       "    <tr>\n",
       "      <th>5</th>\n",
       "      <td>Arica</td>\n",
       "      <td>2005</td>\n",
       "      <td>0.0</td>\n",
       "      <td>421.8</td>\n",
       "      <td>287.8</td>\n",
       "      <td>58.4</td>\n",
       "      <td>144.2</td>\n",
       "      <td>144.7</td>\n",
       "      <td>7.5</td>\n",
       "    </tr>\n",
       "    <tr>\n",
       "      <th>...</th>\n",
       "      <td>...</td>\n",
       "      <td>...</td>\n",
       "      <td>...</td>\n",
       "      <td>...</td>\n",
       "      <td>...</td>\n",
       "      <td>...</td>\n",
       "      <td>...</td>\n",
       "      <td>...</td>\n",
       "      <td>...</td>\n",
       "    </tr>\n",
       "    <tr>\n",
       "      <th>5532</th>\n",
       "      <td>Peñaflor</td>\n",
       "      <td>2012</td>\n",
       "      <td>1.1</td>\n",
       "      <td>375.0</td>\n",
       "      <td>436.5</td>\n",
       "      <td>78.6</td>\n",
       "      <td>59.3</td>\n",
       "      <td>191.5</td>\n",
       "      <td>14.8</td>\n",
       "    </tr>\n",
       "    <tr>\n",
       "      <th>5533</th>\n",
       "      <td>Peñaflor</td>\n",
       "      <td>2013</td>\n",
       "      <td>0.0</td>\n",
       "      <td>370.0</td>\n",
       "      <td>408.1</td>\n",
       "      <td>107.6</td>\n",
       "      <td>77.4</td>\n",
       "      <td>213.0</td>\n",
       "      <td>14.6</td>\n",
       "    </tr>\n",
       "    <tr>\n",
       "      <th>5534</th>\n",
       "      <td>Peñaflor</td>\n",
       "      <td>2014</td>\n",
       "      <td>1.1</td>\n",
       "      <td>301.3</td>\n",
       "      <td>376.3</td>\n",
       "      <td>112.6</td>\n",
       "      <td>65.1</td>\n",
       "      <td>224.0</td>\n",
       "      <td>5.5</td>\n",
       "    </tr>\n",
       "    <tr>\n",
       "      <th>5535</th>\n",
       "      <td>Peñaflor</td>\n",
       "      <td>2015</td>\n",
       "      <td>0.0</td>\n",
       "      <td>321.6</td>\n",
       "      <td>334.7</td>\n",
       "      <td>111.9</td>\n",
       "      <td>73.9</td>\n",
       "      <td>199.9</td>\n",
       "      <td>7.6</td>\n",
       "    </tr>\n",
       "    <tr>\n",
       "      <th>5536</th>\n",
       "      <td>Peñaflor</td>\n",
       "      <td>2016</td>\n",
       "      <td>2.1</td>\n",
       "      <td>331.6</td>\n",
       "      <td>259.7</td>\n",
       "      <td>99.8</td>\n",
       "      <td>49.4</td>\n",
       "      <td>151.3</td>\n",
       "      <td>11.8</td>\n",
       "    </tr>\n",
       "  </tbody>\n",
       "</table>\n",
       "<p>5536 rows × 9 columns</p>\n",
       "</div>"
      ],
      "text/plain": [
       "        comuna  anio  homicidios  hurtos  robo_lugar  robo_sorpresa  \\\n",
       "1        Arica  2001         1.6   370.3         NaN            9.5   \n",
       "2        Arica  2002         1.1   346.7         NaN           34.0   \n",
       "3        Arica  2003         1.6   460.1       464.4           52.8   \n",
       "4        Arica  2004         1.1   452.2       395.0           64.1   \n",
       "5        Arica  2005         0.0   421.8       287.8           58.4   \n",
       "...        ...   ...         ...     ...         ...            ...   \n",
       "5532  Peñaflor  2012         1.1   375.0       436.5           78.6   \n",
       "5533  Peñaflor  2013         0.0   370.0       408.1          107.6   \n",
       "5534  Peñaflor  2014         1.1   301.3       376.3          112.6   \n",
       "5535  Peñaflor  2015         0.0   321.6       334.7          111.9   \n",
       "5536  Peñaflor  2016         2.1   331.6       259.7           99.8   \n",
       "\n",
       "      robo_vehiculo  robo_violencia  violacion  \n",
       "1               NaN           107.2       16.4  \n",
       "2               NaN           122.8       14.9  \n",
       "3             172.2           196.2       15.5  \n",
       "4             203.7           143.8       13.9  \n",
       "5             144.2           144.7        7.5  \n",
       "...             ...             ...        ...  \n",
       "5532           59.3           191.5       14.8  \n",
       "5533           77.4           213.0       14.6  \n",
       "5534           65.1           224.0        5.5  \n",
       "5535           73.9           199.9        7.6  \n",
       "5536           49.4           151.3       11.8  \n",
       "\n",
       "[5536 rows x 9 columns]"
      ]
     },
     "execution_count": 287,
     "metadata": {},
     "output_type": "execute_result"
    }
   ],
   "source": [
    "import pandas as pd\n",
    "import numpy as np\n",
    "\n",
    "dataframe = pd.read_csv(\"https://users.dcc.uchile.cl/~hsarmien/mineria/datasets/denuncias-2001-2016.txt\", sep=\" \")\n",
    "dataframe"
   ]
  },
  {
   "cell_type": "markdown",
   "metadata": {
    "id": "qurrGwfnjbKP"
   },
   "source": [
    "Utilizaremos sólo los datos del 2006. Ejecute las siguientes líneas de código para filtrar los datos:"
   ]
  },
  {
   "cell_type": "code",
   "execution_count": 288,
   "metadata": {
    "id": "APsAJvb5jc0V"
   },
   "outputs": [
    {
     "data": {
      "text/html": [
       "<div>\n",
       "<style scoped>\n",
       "    .dataframe tbody tr th:only-of-type {\n",
       "        vertical-align: middle;\n",
       "    }\n",
       "\n",
       "    .dataframe tbody tr th {\n",
       "        vertical-align: top;\n",
       "    }\n",
       "\n",
       "    .dataframe thead th {\n",
       "        text-align: right;\n",
       "    }\n",
       "</style>\n",
       "<table border=\"1\" class=\"dataframe\">\n",
       "  <thead>\n",
       "    <tr style=\"text-align: right;\">\n",
       "      <th></th>\n",
       "      <th>homicidios</th>\n",
       "      <th>hurtos</th>\n",
       "      <th>robo_lugar</th>\n",
       "      <th>robo_sorpresa</th>\n",
       "      <th>robo_vehiculo</th>\n",
       "      <th>robo_violencia</th>\n",
       "      <th>violacion</th>\n",
       "    </tr>\n",
       "  </thead>\n",
       "  <tbody>\n",
       "    <tr>\n",
       "      <th>6</th>\n",
       "      <td>1.1</td>\n",
       "      <td>507.5</td>\n",
       "      <td>320.3</td>\n",
       "      <td>60.9</td>\n",
       "      <td>89.0</td>\n",
       "      <td>161.2</td>\n",
       "      <td>8.6</td>\n",
       "    </tr>\n",
       "    <tr>\n",
       "      <th>22</th>\n",
       "      <td>0.0</td>\n",
       "      <td>68.0</td>\n",
       "      <td>0.0</td>\n",
       "      <td>0.0</td>\n",
       "      <td>0.0</td>\n",
       "      <td>0.0</td>\n",
       "      <td>0.0</td>\n",
       "    </tr>\n",
       "    <tr>\n",
       "      <th>38</th>\n",
       "      <td>0.0</td>\n",
       "      <td>834.9</td>\n",
       "      <td>256.9</td>\n",
       "      <td>0.0</td>\n",
       "      <td>0.0</td>\n",
       "      <td>0.0</td>\n",
       "      <td>64.2</td>\n",
       "    </tr>\n",
       "    <tr>\n",
       "      <th>54</th>\n",
       "      <td>0.0</td>\n",
       "      <td>81.2</td>\n",
       "      <td>81.2</td>\n",
       "      <td>0.0</td>\n",
       "      <td>0.0</td>\n",
       "      <td>0.0</td>\n",
       "      <td>0.0</td>\n",
       "    </tr>\n",
       "    <tr>\n",
       "      <th>70</th>\n",
       "      <td>0.6</td>\n",
       "      <td>680.3</td>\n",
       "      <td>327.2</td>\n",
       "      <td>211.5</td>\n",
       "      <td>169.7</td>\n",
       "      <td>287.0</td>\n",
       "      <td>18.2</td>\n",
       "    </tr>\n",
       "    <tr>\n",
       "      <th>...</th>\n",
       "      <td>...</td>\n",
       "      <td>...</td>\n",
       "      <td>...</td>\n",
       "      <td>...</td>\n",
       "      <td>...</td>\n",
       "      <td>...</td>\n",
       "      <td>...</td>\n",
       "    </tr>\n",
       "    <tr>\n",
       "      <th>5462</th>\n",
       "      <td>2.8</td>\n",
       "      <td>359.0</td>\n",
       "      <td>451.3</td>\n",
       "      <td>44.0</td>\n",
       "      <td>27.0</td>\n",
       "      <td>293.8</td>\n",
       "      <td>5.7</td>\n",
       "    </tr>\n",
       "    <tr>\n",
       "      <th>5478</th>\n",
       "      <td>3.4</td>\n",
       "      <td>233.4</td>\n",
       "      <td>375.4</td>\n",
       "      <td>27.1</td>\n",
       "      <td>6.8</td>\n",
       "      <td>60.9</td>\n",
       "      <td>6.8</td>\n",
       "    </tr>\n",
       "    <tr>\n",
       "      <th>5494</th>\n",
       "      <td>3.4</td>\n",
       "      <td>332.7</td>\n",
       "      <td>492.3</td>\n",
       "      <td>23.8</td>\n",
       "      <td>20.4</td>\n",
       "      <td>71.3</td>\n",
       "      <td>3.4</td>\n",
       "    </tr>\n",
       "    <tr>\n",
       "      <th>5510</th>\n",
       "      <td>0.0</td>\n",
       "      <td>263.6</td>\n",
       "      <td>529.3</td>\n",
       "      <td>57.1</td>\n",
       "      <td>22.0</td>\n",
       "      <td>235.0</td>\n",
       "      <td>11.0</td>\n",
       "    </tr>\n",
       "    <tr>\n",
       "      <th>5526</th>\n",
       "      <td>0.0</td>\n",
       "      <td>344.3</td>\n",
       "      <td>558.5</td>\n",
       "      <td>88.0</td>\n",
       "      <td>26.8</td>\n",
       "      <td>232.1</td>\n",
       "      <td>3.8</td>\n",
       "    </tr>\n",
       "  </tbody>\n",
       "</table>\n",
       "<p>346 rows × 7 columns</p>\n",
       "</div>"
      ],
      "text/plain": [
       "      homicidios  hurtos  robo_lugar  robo_sorpresa  robo_vehiculo  \\\n",
       "6            1.1   507.5       320.3           60.9           89.0   \n",
       "22           0.0    68.0         0.0            0.0            0.0   \n",
       "38           0.0   834.9       256.9            0.0            0.0   \n",
       "54           0.0    81.2        81.2            0.0            0.0   \n",
       "70           0.6   680.3       327.2          211.5          169.7   \n",
       "...          ...     ...         ...            ...            ...   \n",
       "5462         2.8   359.0       451.3           44.0           27.0   \n",
       "5478         3.4   233.4       375.4           27.1            6.8   \n",
       "5494         3.4   332.7       492.3           23.8           20.4   \n",
       "5510         0.0   263.6       529.3           57.1           22.0   \n",
       "5526         0.0   344.3       558.5           88.0           26.8   \n",
       "\n",
       "      robo_violencia  violacion  \n",
       "6              161.2        8.6  \n",
       "22               0.0        0.0  \n",
       "38               0.0       64.2  \n",
       "54               0.0        0.0  \n",
       "70             287.0       18.2  \n",
       "...              ...        ...  \n",
       "5462           293.8        5.7  \n",
       "5478            60.9        6.8  \n",
       "5494            71.3        3.4  \n",
       "5510           235.0       11.0  \n",
       "5526           232.1        3.8  \n",
       "\n",
       "[346 rows x 7 columns]"
      ]
     },
     "execution_count": 288,
     "metadata": {},
     "output_type": "execute_result"
    }
   ],
   "source": [
    "X = dataframe[dataframe[\"anio\"] == 2006]\n",
    "X = X.drop(columns=[\"comuna\", \"anio\"])\n",
    "X"
   ]
  },
  {
   "cell_type": "markdown",
   "metadata": {
    "id": "ZH5aquJWjizK"
   },
   "source": [
    "## K-Means\n",
    "\n",
    "**1.** Cuando usamos K-Means debemos definir previamente el número de clusters que queremos generar. Teniendo en cuenta estos datos, implemente un método que nos permita determinar cuántos clusters usar."
   ]
  },
  {
   "cell_type": "code",
   "execution_count": 289,
   "metadata": {
    "id": "tL2mOfTa3Pds"
   },
   "outputs": [
    {
     "data": {
      "image/png": "[encoded data removed]",
      "text/plain": [
       "<Figure size 720x576 with 1 Axes>"
      ]
     },
     "metadata": {
      "needs_background": "light"
     },
     "output_type": "display_data"
    }
   ],
   "source": [
    "# Respuesta\n",
    "\n",
    "from sklearn.cluster import KMeans\n",
    "import matplotlib.pyplot as plt\n",
    "sse = []\n",
    "\n",
    "rs = 10\n",
    "clusters = list(range(1, 26))\n",
    "for k in clusters:\n",
    "    kmeans = KMeans(n_clusters=k).fit(X)\n",
    "    sse.append(kmeans.inertia_)\n",
    "\n",
    "plt.plot(clusters, sse, marker=\"o\")\n",
    "plt.title(\"Método del codo de 1 a 25 clusters\")\n",
    "plt.grid(True)\n",
    "plt.show()"
   ]
  },
  {
   "cell_type": "markdown",
   "metadata": {
    "id": "x1lHWlA7kqgT"
   },
   "source": [
    "**2.** Cuántos clusters propone usar para este dataset? Justifique su elección."
   ]
  },
  {
   "cell_type": "markdown",
   "metadata": {
    "id": "4m-XgeXPkzq3"
   },
   "source": [
    "> Respuesta: Pese a no diferenciar un punto claro desde donde el error decrece de manera menos significativa, se aprecia que un valor optimo esta entre 3 y 5 clusters, por lo que se propone usar 4, tal que si se eligieran más, posiblemente se estarian separando clusters ya existentes en clusters más pequeños.\n",
    "\n",
    "> Para luego confirmar este valor, y tener un resultado mas confiable, se visualizaran los clusters en grafico de colores para distinguirlos, no sin antes reducir la dimensionalidad a 2."
   ]
  },
  {
   "cell_type": "markdown",
   "metadata": {
    "id": "V7ifMHUa9TQo"
   },
   "source": [
    "**3.** Entrene un modelo de K-Means usando el número de clusters que eligió en la pregunta anterior e imprima las asignaciones de clusters para cada dato."
   ]
  },
  {
   "cell_type": "code",
   "execution_count": 290,
   "metadata": {
    "id": "W769Szoj9aSe"
   },
   "outputs": [
    {
     "name": "stdout",
     "output_type": "stream",
     "text": [
      "[249  91   4   2]\n"
     ]
    }
   ],
   "source": [
    "###### Respuesta\n",
    "kmeans = KMeans(n_clusters = 4, n_init = 20, max_iter = 300, random_state = rs).fit(X)\n",
    "y_pred = kmeans.predict(X)\n",
    "print(np.bincount(y_pred))"
   ]
  },
  {
   "cell_type": "markdown",
   "metadata": {
    "id": "_X2V0E-8jnu7"
   },
   "source": [
    "**4.** Al ejecutar el siguiente código varias veces, obtenemos resultados diferentes. Cómo podría evitar los resultados variables de K-means? Presente al menos 2 opciones para lograr esto. Puede implementarlo o describirlo.\n",
    "\n",
    "> Respuesta: \n",
    "> 1. Para evitar la obtención de resultados diferentes en cada ejecución utilizamos el parámetro de _random_state_, que permite setear el mismo conjunto de valores aleatorios en cada ejecución\n",
    "> 2. Otra manera sería crear un vector de dimensión (n_cluster, n_features)(np.random.rand(n_cluster,n_features)) y setear la semilla(np.random.seed(0)) y darle este vector al parámetro \"init\" de kmeans para utilizar siempre los mismos centroides de partida al correr el algoritmo."
   ]
  },
  {
   "cell_type": "markdown",
   "metadata": {
    "id": "TwD2fgUO9uPh"
   },
   "source": [
    "**5.** Ejecute el siguiente código que bajará la dimensionalidad de los datos de 7 a 2. Grafique los datos transformados y pinte los gráficos para tener una representación visual de los clusters."
   ]
  },
  {
   "cell_type": "code",
   "execution_count": 291,
   "metadata": {
    "id": "4HP4MLyF9_UV"
   },
   "outputs": [],
   "source": [
    "from sklearn.decomposition import PCA\n",
    "\n",
    "new_X = PCA(n_components=2, random_state=0).fit_transform(X)"
   ]
  },
  {
   "cell_type": "code",
   "execution_count": 292,
   "metadata": {
    "id": "bkqt8vNP-du5"
   },
   "outputs": [
    {
     "data": {
      "image/png": "[encoded data removed]",
      "text/plain": [
       "<Figure size 720x576 with 1 Axes>"
      ]
     },
     "metadata": {
      "needs_background": "light"
     },
     "output_type": "display_data"
    }
   ],
   "source": [
    "# Respuesta\n",
    "\n",
    "plt.scatter(new_X[:,0],new_X[:,1], c=kmeans.labels_)\n",
    "plt.title(\"Reducción de dimensionalidad\")\n",
    "plt.show()"
   ]
  },
  {
   "cell_type": "markdown",
   "metadata": {
    "id": "aMeMvKgclbpe"
   },
   "source": [
    "## Clustering Jerárquico Aglomerativo"
   ]
  },
  {
   "cell_type": "markdown",
   "metadata": {
    "id": "maJ6HPXjl3_Q"
   },
   "source": [
    "**1.** Usando los datos anteriores, ejecute cada uno de los 4 métodos de clustering jerárquico: complete, single, average y ward, y visualice los dendrogramas formados. Adjunte el código necesario. No necesita generar los 4 dendrogramas en el mismo gráfico, pueden ser distintos."
   ]
  },
  {
   "cell_type": "code",
   "execution_count": 293,
   "metadata": {
    "id": "UgV5XD4_mH9T"
   },
   "outputs": [],
   "source": [
    "# Respuesta\n",
    "\n",
    "from scipy.cluster.hierarchy import dendrogram, linkage\n",
    "from sklearn.cluster import AgglomerativeClustering\n",
    "\n",
    "complete = linkage(X, method = \"complete\")\n",
    "single = linkage(X, method=\"single\")\n",
    "average = linkage(X, method=\"average\")\n",
    "ward = linkage(X, method=\"ward\")"
   ]
  },
  {
   "cell_type": "code",
   "execution_count": 294,
   "metadata": {},
   "outputs": [
    {
     "data": {
      "image/png": "[encoded data removed]",
      "text/plain": [
       "<Figure size 720x576 with 1 Axes>"
      ]
     },
     "metadata": {
      "needs_background": "light"
     },
     "output_type": "display_data"
    }
   ],
   "source": [
    "#Complete dendrogram\n",
    "dendrogram(complete)\n",
    "plt.title(\"Linkage: Complete\")\n",
    "#plt.axhline(y = 2700, color = \"r\", linestyle = \"--\")\n",
    "plt.show()"
   ]
  },
  {
   "cell_type": "code",
   "execution_count": 295,
   "metadata": {},
   "outputs": [
    {
     "data": {
      "image/png": "[encoded data removed]",
      "text/plain": [
       "<Figure size 720x576 with 1 Axes>"
      ]
     },
     "metadata": {
      "needs_background": "light"
     },
     "output_type": "display_data"
    }
   ],
   "source": [
    "#Single dendrogram\n",
    "dendrogram(single)\n",
    "plt.title(\"Linkage: Single\")\n",
    "#plt.axhline(y = 1250, color = \"r\", linestyle = \"--\")\n",
    "plt.show()"
   ]
  },
  {
   "cell_type": "code",
   "execution_count": 296,
   "metadata": {},
   "outputs": [
    {
     "data": {
      "image/png": "[encoded data removed]",
      "text/plain": [
       "<Figure size 720x576 with 1 Axes>"
      ]
     },
     "metadata": {
      "needs_background": "light"
     },
     "output_type": "display_data"
    }
   ],
   "source": [
    "#Average dendrogram\n",
    "dendrogram(average)\n",
    "plt.title(\"Linkage: Average\")\n",
    "#plt.axhline(y = 2000, color = \"r\", linestyle = \"--\")\n",
    "plt.show()"
   ]
  },
  {
   "cell_type": "code",
   "execution_count": 297,
   "metadata": {},
   "outputs": [
    {
     "data": {
      "image/png": "[encoded data removed]",
      "text/plain": [
       "<Figure size 720x576 with 1 Axes>"
      ]
     },
     "metadata": {
      "needs_background": "light"
     },
     "output_type": "display_data"
    }
   ],
   "source": [
    "#Ward dendrogram\n",
    "dendrogram(ward)\n",
    "plt.title(\"Linkage: Ward\")\n",
    "#plt.axhline(y = 6000, color = \"r\", linestyle = \"--\")\n",
    "plt.show()"
   ]
  },
  {
   "cell_type": "markdown",
   "metadata": {
    "id": "My7CjyF18Dgd"
   },
   "source": [
    "**2.** Fijándose en el método `single`, a qué altura recomendaría cortar el árbol?"
   ]
  },
  {
   "cell_type": "markdown",
   "metadata": {
    "id": "VkDbxu1Y8HWr"
   },
   "source": [
    "> Respuesta: Está dificil identificar un buen corte, aún así se recomienda cortar el arbol a una altura de 1100, punto donde se diferencian 3 clusters."
   ]
  },
  {
   "cell_type": "markdown",
   "metadata": {
    "id": "5sSIrGgfmIGa"
   },
   "source": [
    "**3.** Ahora si miramos el método `ward`, cuántos clusters propone usar? A qué altura se debe cortar el arbol para obtener esa cantidad de clusters?"
   ]
  },
  {
   "cell_type": "markdown",
   "metadata": {
    "id": "FcDfUn6N7vrW"
   },
   "source": [
    "> Respuesta: Se propone usar 3 clusters (en el grafico: naranjo, verde y rojo), por lo que el arbol debe cortarse a una altura de 6000 para poder obtener esa cantidad."
   ]
  },
  {
   "cell_type": "markdown",
   "metadata": {
    "id": "J6YULxJd7wX6"
   },
   "source": [
    "**4.** Implemente el código para asignar clusters a los datos siguiendo lo que usted propuso en la pregunta **2.** y **3.** y liste la asignación de clusters para cada punto del dataset para `single` y `ward`. Cuántos clusters se generan para el método `single` cortando a la altura que propuso en la pregunta **2.**?"
   ]
  },
  {
   "cell_type": "code",
   "execution_count": 298,
   "metadata": {},
   "outputs": [
    {
     "name": "stdout",
     "output_type": "stream",
     "text": [
      "Single:\n",
      "h = 1100 --> N° de clusters: 3\n"
     ]
    }
   ],
   "source": [
    "# Respuesta\n",
    "h = 1100\n",
    "n = 3\n",
    "single_h = AgglomerativeClustering(n_clusters = None, linkage = \"single\", distance_threshold = h).fit(X) #método single\n",
    "ward_n = AgglomerativeClustering(n_clusters = n, linkage = \"ward\").fit(X) #metodo ward\n",
    "\n",
    "print(\"Single:\\nh = {} --> N° de clusters: {}\".format(h, single_h.n_clusters_))"
   ]
  },
  {
   "cell_type": "code",
   "execution_count": 299,
   "metadata": {},
   "outputs": [
    {
     "name": "stdout",
     "output_type": "stream",
     "text": [
      "Single labels:\n",
      " [0 0 0 0 0 0 0 0 0 0 0 0 0 0 0 0 0 0 0 0 0 0 0 0 0 0 0 0 0 0 0 0 0 0 0 0 0\n",
      " 0 0 0 0 0 0 0 0 0 0 0 0 0 0 0 0 0 0 0 0 0 0 0 0 0 0 0 0 0 0 0 0 0 0 0 0 0\n",
      " 0 0 0 0 0 0 0 0 0 0 0 0 0 0 0 0 0 0 0 0 0 0 0 0 0 0 0 0 0 0 0 0 0 0 0 0 0\n",
      " 0 0 0 0 0 0 0 0 0 0 0 0 0 0 0 0 0 0 0 0 0 0 0 0 0 0 0 0 0 0 0 0 0 0 0 0 0\n",
      " 0 0 0 0 0 0 0 0 0 0 0 0 0 0 0 0 0 0 0 0 0 0 0 0 0 0 0 0 0 0 0 0 0 0 0 0 0\n",
      " 0 0 0 0 0 0 0 0 0 0 0 0 0 0 0 0 0 0 0 0 0 0 0 0 0 0 0 0 0 0 0 0 0 0 0 0 0\n",
      " 0 0 0 0 0 0 0 0 0 0 0 0 0 0 0 0 0 0 0 0 0 0 0 0 0 0 0 0 0 0 0 0 0 0 0 0 0\n",
      " 0 0 0 0 0 0 0 0 0 0 0 0 0 0 0 0 0 0 0 0 0 0 0 0 0 0 0 0 0 0 0 0 0 0 0 1 0\n",
      " 0 0 0 0 0 0 0 0 0 0 0 0 0 0 0 0 0 0 0 0 2 0 0 0 0 0 0 0 0 0 0 0 0 0 0 0 0\n",
      " 0 0 0 0 0 0 0 0 0 0 0 0 0]\n",
      "Ward labels:\n",
      " [0 2 0 2 0 0 2 2 0 2 0 2 0 2 0 0 2 0 0 0 0 0 0 2 2 2 2 2 2 0 0 2 2 0 2 2 2\n",
      " 0 2 2 2 2 2 2 0 0 0 2 2 0 0 0 0 2 2 2 0 2 0 2 1 2 0 2 2 2 0 1 1 1 1 0 0 0\n",
      " 0 2 2 2 0 0 0 0 0 2 0 2 0 0 2 0 0 2 2 0 2 2 0 0 0 0 2 2 2 2 2 0 2 2 2 2 2\n",
      " 2 2 2 0 0 0 0 0 2 2 0 2 2 2 0 2 2 0 2 0 0 2 2 2 2 0 0 0 2 0 2 0 2 2 0 0 2\n",
      " 2 2 0 2 0 2 2 2 0 0 0 0 0 0 2 0 0 2 2 2 2 2 2 2 2 2 0 2 2 2 0 2 2 0 2 2 2\n",
      " 2 2 2 2 2 2 0 2 2 2 2 2 2 0 0 0 2 2 2 2 0 0 0 2 0 0 2 0 1 2 2 2 2 0 2 0 0\n",
      " 2 2 2 2 2 0 2 0 0 0 2 0 0 0 2 0 0 2 0 2 0 0 0 2 2 2 2 2 2 0 0 0 2 2 2 2 2\n",
      " 0 2 0 2 2 2 2 2 2 2 2 2 2 2 0 2 0 2 2 0 0 2 0 2 0 2 2 2 2 2 0 0 2 0 2 0 0\n",
      " 2 0 0 0 0 0 0 0 0 0 0 0 0 0 0 0 2 0 0 0 0 2 0 0 0 0 0 0 0 0 0 2 0 0 0 2 0\n",
      " 2 0 2 0 2 0 2 2 0 2 0 0 0]\n"
     ]
    }
   ],
   "source": [
    "print(\"Single labels:\\n\",single_h.labels_)\n",
    "print(\"Ward labels:\\n\",ward_n.labels_)"
   ]
  },
  {
   "cell_type": "markdown",
   "metadata": {
    "id": "o76oGCY6EU66"
   },
   "source": [
    "**5.** Cuántos datos quedan asignados a cada cluster? Agregue el código necesario para obtener esta información para los métodos `single` y `ward`."
   ]
  },
  {
   "cell_type": "code",
   "execution_count": 300,
   "metadata": {
    "id": "5rDF5sBPEsJy"
   },
   "outputs": [
    {
     "name": "stdout",
     "output_type": "stream",
     "text": [
      "Single:\n",
      "\tCluster 0 -> n = 344\n",
      "\tCluster 1 -> n = 1\n",
      "\tCluster 2 -> n = 1\n",
      "Ward:\n",
      "\tCluster 0 -> n = 161\n",
      "\tCluster 1 -> n = 6\n",
      "\tCluster 2 -> n = 179\n"
     ]
    }
   ],
   "source": [
    "# Respuesta\n",
    "labels_single = np.bincount(single_h.labels_)\n",
    "print(\"Single:\")\n",
    "for i, k in enumerate(labels_single):\n",
    "    print(\"\\tCluster {} -> n = {}\".format(i, k))\n",
    "    \n",
    "labels_ward = np.bincount(ward_n.labels_)\n",
    "print(\"Ward:\")\n",
    "for i, k in enumerate(labels_ward):\n",
    "    print(\"\\tCluster {} -> n = {}\".format(i, k))"
   ]
  },
  {
   "cell_type": "markdown",
   "metadata": {
    "id": "ipwD-E76AEXg"
   },
   "source": [
    "**6.** Usando el dataset con dimensiones reducidas generado en la Parte 1, pregunta 5: `new_X`, grafique los datos y pinte los datos con su asignacion de cluster para los métodos `complete` y `ward` para tener una representación visual de los clusters."
   ]
  },
  {
   "cell_type": "code",
   "execution_count": 301,
   "metadata": {
    "id": "gBMTzMuxAe1H"
   },
   "outputs": [
    {
     "data": {
      "image/png": "[encoded data removed]",
      "text/plain": [
       "<Figure size 720x576 with 1 Axes>"
      ]
     },
     "metadata": {
      "needs_background": "light"
     },
     "output_type": "display_data"
    }
   ],
   "source": [
    "# Respuesta\n",
    "complete_n =  AgglomerativeClustering(n_clusters = None, linkage = \"complete\", distance_threshold = 2700).fit(X) #complete se corta a una altura de 2700 donde se pueden observar 3 clusters\n",
    "plt.scatter(new_X[:,0], new_X[:,1], c = complete_n.labels_)\n",
    "plt.title(\"Método Complete con reducción de dimensionalidad\")\n",
    "plt.show()"
   ]
  },
  {
   "cell_type": "code",
   "execution_count": 302,
   "metadata": {},
   "outputs": [
    {
     "data": {
      "image/png": "[encoded data removed]",
      "text/plain": [
       "<Figure size 720x576 with 1 Axes>"
      ]
     },
     "metadata": {
      "needs_background": "light"
     },
     "output_type": "display_data"
    }
   ],
   "source": [
    "plt.scatter(new_X[:,0], new_X[:,1], c = ward_n.labels_)\n",
    "plt.title(\"Método Ward con reducción de dimensionalidad\")\n",
    "plt.show()"
   ]
  },
  {
   "cell_type": "markdown",
   "metadata": {
    "id": "UNVBq6xPfXJd"
   },
   "source": [
    "# Parte 3: Problema Abierto"
   ]
  },
  {
   "cell_type": "markdown",
   "metadata": {
    "id": "-rvQLEcLxzU7"
   },
   "source": [
    "En esta pregunta usted deberá practicar un proceso reducido de minería de datos. Con el conjunto de datos que le daremos a continuación, usted deberá hacer una exploración de datos, aplicar las técnicas correspondientes de pre procesamiento de datos respecto a lo que encuentre y entrenar modelos de clasificación. Finalmente deberá evaluar los modelos que entrenó y justificar la elección de alguno de ellos."
   ]
  },
  {
   "cell_type": "markdown",
   "metadata": {
    "id": "7PfoHIPJ8w3C"
   },
   "source": [
    "Ejecute el siguiente código para cargar los datos que usaremos en esta parte. Los datos se encuentran en el archivo `movies.csv` adjunto en el zip.\n",
    "\n",
    "**Estamos interesados en predecir la variable `imdb_score` a partir de los demas datos.** `imdb_score` es un entero y puede considerarlo como un variable categórica."
   ]
  },
  {
   "cell_type": "code",
   "execution_count": 2,
   "metadata": {
    "id": "dP17B2bp82CA"
   },
   "outputs": [
    {
     "data": {
      "text/html": [
       "<div>\n",
       "<style scoped>\n",
       "    .dataframe tbody tr th:only-of-type {\n",
       "        vertical-align: middle;\n",
       "    }\n",
       "\n",
       "    .dataframe tbody tr th {\n",
       "        vertical-align: top;\n",
       "    }\n",
       "\n",
       "    .dataframe thead th {\n",
       "        text-align: right;\n",
       "    }\n",
       "</style>\n",
       "<table border=\"1\" class=\"dataframe\">\n",
       "  <thead>\n",
       "    <tr style=\"text-align: right;\">\n",
       "      <th></th>\n",
       "      <th>movie_title</th>\n",
       "      <th>imdb_score</th>\n",
       "      <th>title_year</th>\n",
       "      <th>num_voted_users</th>\n",
       "      <th>num_critic_for_reviews</th>\n",
       "      <th>num_user_for_reviews</th>\n",
       "      <th>color</th>\n",
       "      <th>director_name</th>\n",
       "      <th>director_facebook_likes</th>\n",
       "      <th>actor_1_name</th>\n",
       "      <th>...</th>\n",
       "      <th>actor_3_facebook_likes</th>\n",
       "      <th>cast_total_facebook_likes</th>\n",
       "      <th>movie_facebook_likes</th>\n",
       "      <th>duration</th>\n",
       "      <th>gross</th>\n",
       "      <th>language</th>\n",
       "      <th>country</th>\n",
       "      <th>content_rating</th>\n",
       "      <th>budget</th>\n",
       "      <th>aspect_ratio</th>\n",
       "    </tr>\n",
       "  </thead>\n",
       "  <tbody>\n",
       "    <tr>\n",
       "      <th>0</th>\n",
       "      <td>Avatar</td>\n",
       "      <td>8</td>\n",
       "      <td>2009.0</td>\n",
       "      <td>886204</td>\n",
       "      <td>723.0</td>\n",
       "      <td>3054.0</td>\n",
       "      <td>Color</td>\n",
       "      <td>James Cameron</td>\n",
       "      <td>0.0</td>\n",
       "      <td>CCH Pounder</td>\n",
       "      <td>...</td>\n",
       "      <td>855.0</td>\n",
       "      <td>4834</td>\n",
       "      <td>33000</td>\n",
       "      <td>178.0</td>\n",
       "      <td>760505847.0</td>\n",
       "      <td>English</td>\n",
       "      <td>USA</td>\n",
       "      <td>PG-13</td>\n",
       "      <td>237000000.0</td>\n",
       "      <td>1.78</td>\n",
       "    </tr>\n",
       "    <tr>\n",
       "      <th>1</th>\n",
       "      <td>Pirates of the Caribbean: At World's End</td>\n",
       "      <td>7</td>\n",
       "      <td>2007.0</td>\n",
       "      <td>471220</td>\n",
       "      <td>302.0</td>\n",
       "      <td>1238.0</td>\n",
       "      <td>Color</td>\n",
       "      <td>Gore Verbinski</td>\n",
       "      <td>563.0</td>\n",
       "      <td>Johnny Depp</td>\n",
       "      <td>...</td>\n",
       "      <td>1000.0</td>\n",
       "      <td>48350</td>\n",
       "      <td>0</td>\n",
       "      <td>169.0</td>\n",
       "      <td>309404152.0</td>\n",
       "      <td>English</td>\n",
       "      <td>USA</td>\n",
       "      <td>PG-13</td>\n",
       "      <td>300000000.0</td>\n",
       "      <td>2.35</td>\n",
       "    </tr>\n",
       "    <tr>\n",
       "      <th>2</th>\n",
       "      <td>Spectre</td>\n",
       "      <td>7</td>\n",
       "      <td>2015.0</td>\n",
       "      <td>275868</td>\n",
       "      <td>602.0</td>\n",
       "      <td>994.0</td>\n",
       "      <td>Color</td>\n",
       "      <td>Sam Mendes</td>\n",
       "      <td>0.0</td>\n",
       "      <td>Christoph Waltz</td>\n",
       "      <td>...</td>\n",
       "      <td>161.0</td>\n",
       "      <td>11700</td>\n",
       "      <td>85000</td>\n",
       "      <td>148.0</td>\n",
       "      <td>200074175.0</td>\n",
       "      <td>English</td>\n",
       "      <td>UK</td>\n",
       "      <td>PG-13</td>\n",
       "      <td>245000000.0</td>\n",
       "      <td>2.35</td>\n",
       "    </tr>\n",
       "    <tr>\n",
       "      <th>3</th>\n",
       "      <td>The Dark Knight Rises</td>\n",
       "      <td>8</td>\n",
       "      <td>2012.0</td>\n",
       "      <td>1144337</td>\n",
       "      <td>813.0</td>\n",
       "      <td>2701.0</td>\n",
       "      <td>Color</td>\n",
       "      <td>Christopher Nolan</td>\n",
       "      <td>22000.0</td>\n",
       "      <td>Tom Hardy</td>\n",
       "      <td>...</td>\n",
       "      <td>23000.0</td>\n",
       "      <td>106759</td>\n",
       "      <td>164000</td>\n",
       "      <td>164.0</td>\n",
       "      <td>448130642.0</td>\n",
       "      <td>English</td>\n",
       "      <td>USA</td>\n",
       "      <td>PG-13</td>\n",
       "      <td>250000000.0</td>\n",
       "      <td>2.35</td>\n",
       "    </tr>\n",
       "    <tr>\n",
       "      <th>4</th>\n",
       "      <td>Star Wars: Episode VII - The Force Awakens    ...</td>\n",
       "      <td>7</td>\n",
       "      <td>NaN</td>\n",
       "      <td>8</td>\n",
       "      <td>NaN</td>\n",
       "      <td>NaN</td>\n",
       "      <td>NaN</td>\n",
       "      <td>Doug Walker</td>\n",
       "      <td>131.0</td>\n",
       "      <td>Doug Walker</td>\n",
       "      <td>...</td>\n",
       "      <td>NaN</td>\n",
       "      <td>143</td>\n",
       "      <td>0</td>\n",
       "      <td>NaN</td>\n",
       "      <td>NaN</td>\n",
       "      <td>NaN</td>\n",
       "      <td>NaN</td>\n",
       "      <td>NaN</td>\n",
       "      <td>NaN</td>\n",
       "      <td>NaN</td>\n",
       "    </tr>\n",
       "  </tbody>\n",
       "</table>\n",
       "<p>5 rows × 24 columns</p>\n",
       "</div>"
      ],
      "text/plain": [
       "                                         movie_title  imdb_score  title_year  \\\n",
       "0                                            Avatar            8      2009.0   \n",
       "1          Pirates of the Caribbean: At World's End            7      2007.0   \n",
       "2                                           Spectre            7      2015.0   \n",
       "3                             The Dark Knight Rises            8      2012.0   \n",
       "4  Star Wars: Episode VII - The Force Awakens    ...           7         NaN   \n",
       "\n",
       "   num_voted_users  num_critic_for_reviews  num_user_for_reviews  color  \\\n",
       "0           886204                   723.0                3054.0  Color   \n",
       "1           471220                   302.0                1238.0  Color   \n",
       "2           275868                   602.0                 994.0  Color   \n",
       "3          1144337                   813.0                2701.0  Color   \n",
       "4                8                     NaN                   NaN    NaN   \n",
       "\n",
       "       director_name  director_facebook_likes     actor_1_name  ...  \\\n",
       "0      James Cameron                      0.0      CCH Pounder  ...   \n",
       "1     Gore Verbinski                    563.0      Johnny Depp  ...   \n",
       "2         Sam Mendes                      0.0  Christoph Waltz  ...   \n",
       "3  Christopher Nolan                  22000.0        Tom Hardy  ...   \n",
       "4        Doug Walker                    131.0      Doug Walker  ...   \n",
       "\n",
       "   actor_3_facebook_likes cast_total_facebook_likes  movie_facebook_likes  \\\n",
       "0                   855.0                      4834                 33000   \n",
       "1                  1000.0                     48350                     0   \n",
       "2                   161.0                     11700                 85000   \n",
       "3                 23000.0                    106759                164000   \n",
       "4                     NaN                       143                     0   \n",
       "\n",
       "  duration        gross  language  country  content_rating       budget  \\\n",
       "0    178.0  760505847.0   English      USA           PG-13  237000000.0   \n",
       "1    169.0  309404152.0   English      USA           PG-13  300000000.0   \n",
       "2    148.0  200074175.0   English       UK           PG-13  245000000.0   \n",
       "3    164.0  448130642.0   English      USA           PG-13  250000000.0   \n",
       "4      NaN          NaN       NaN      NaN             NaN          NaN   \n",
       "\n",
       "  aspect_ratio  \n",
       "0         1.78  \n",
       "1         2.35  \n",
       "2         2.35  \n",
       "3         2.35  \n",
       "4          NaN  \n",
       "\n",
       "[5 rows x 24 columns]"
      ]
     },
     "execution_count": 2,
     "metadata": {},
     "output_type": "execute_result"
    }
   ],
   "source": [
    "import seaborn as sns\n",
    "import pandas as pd \n",
    "import numpy as np\n",
    "data_file = \"movies.csv\"\n",
    "from matplotlib import rcParams\n",
    "rcParams[\"figure.figsize\"] = 10,8\n",
    "\n",
    "movies = pd.read_csv(data_file)\n",
    "movies.head()"
   ]
  },
  {
   "cell_type": "markdown",
   "metadata": {
    "id": "mE4PFXhY0Pdt"
   },
   "source": [
    "## Exploración de datos\n",
    "\n",
    "**1.** Explore el dataset y de una descripción del dataset. Algunos puntos que puede tocar son el número de datos en el dataset, número de features, tipos de cada features y rangos, datos erroneos, etc.\n",
    "Aplique el preprocesamiento necesario tal que los datos queden usables para los modelos de clasificación.\n",
    "\n",
    "Nota: Como la parte de exploración puede ser tan compleja y detallada como uno quiera, tendremos una pauta con lo mínimo que uno debería hacer en un dataset. Consideraremos análisis más detallados como un bonus a esta u otras tareas."
   ]
  },
  {
   "cell_type": "markdown",
   "metadata": {
    "id": "kgaSDThNM_Pm"
   },
   "source": [
    "Como una guía para encaminar la exploración, puede considerar los siguientes hints.\n",
    "\n",
    "**Hints generales:**\n",
    "* Los datos no vienen limpios y tienen varios problemas que usted sabe como solucionar.\n",
    "* Qué tipos de datos tiene cada columna?\n",
    "* Cómo se relacionan las features?\n",
    "\n",
    "**Hints para bonus:** (no todos los hints corresponden a un puro análisis o procesamiento que pueden hacer sobre los datos, 2 hints pueden corresponden a la misma recomendación)\n",
    "* Hay features (categóricas) que no aportan información, qué análisis le serviría para ver cómo impactan en el score?\n",
    "* Revise los nombres de actores y directores.\n",
    "* Algunas features tienen outliers, encuéntrelos y limpie el dataset. Recuerde el boxplot.\n",
    "* Qué pasa si hay features extremadamente relacionadas entre sí?\n",
    "* Temporalmente, son todos los datos representativos al escenario actual?\n",
    "* Considere el siguiente código y vea si le sirve para algún tipo de análisis:\n",
    "```python\n",
    "feature = \"...\"\n",
    "# esto cuenta las ocurrencias de cada valor en 'feature'\n",
    "count = data[feature].value_counts()\n",
    "# esto calcula el score promedio por cada valor del 'feature'\n",
    "avg_score = data.groupby(feature)[\"imdb_score\"].mean()\n",
    "# los juntamos en un mismo dataframe\n",
    "count.to_frame().join(avg_score)\n",
    "```\n"
   ]
  },
  {
   "cell_type": "markdown",
   "metadata": {
    "id": "-G_cNoQGHq29"
   },
   "source": [
    "### Respuesta.\n",
    "\n",
    "Exploramos el dataset."
   ]
  },
  {
   "cell_type": "code",
   "execution_count": 3,
   "metadata": {},
   "outputs": [
    {
     "name": "stdout",
     "output_type": "stream",
     "text": [
      "Cantidad de instancias: 5043\n",
      "Cantidad de atributos: 24\n"
     ]
    }
   ],
   "source": [
    "print(\"Cantidad de instancias:\", movies.shape[0])\n",
    "print(\"Cantidad de atributos:\", movies.shape[1])"
   ]
  },
  {
   "cell_type": "markdown",
   "metadata": {},
   "source": [
    "Contamos con 5043 filas con 24 atributos.\n",
    "\n",
    "El detalle de los 24 atributos se puede ver a continuación:"
   ]
  },
  {
   "cell_type": "code",
   "execution_count": 4,
   "metadata": {},
   "outputs": [
    {
     "name": "stdout",
     "output_type": "stream",
     "text": [
      "<class 'pandas.core.frame.DataFrame'>\n",
      "RangeIndex: 5043 entries, 0 to 5042\n",
      "Data columns (total 24 columns):\n",
      " #   Column                     Non-Null Count  Dtype  \n",
      "---  ------                     --------------  -----  \n",
      " 0   movie_title                5043 non-null   object \n",
      " 1   imdb_score                 5043 non-null   int64  \n",
      " 2   title_year                 4935 non-null   float64\n",
      " 3   num_voted_users            5043 non-null   int64  \n",
      " 4   num_critic_for_reviews     4993 non-null   float64\n",
      " 5   num_user_for_reviews       5022 non-null   float64\n",
      " 6   color                      5024 non-null   object \n",
      " 7   director_name              4939 non-null   object \n",
      " 8   director_facebook_likes    4939 non-null   float64\n",
      " 9   actor_1_name               5036 non-null   object \n",
      " 10  actor_1_facebook_likes     5036 non-null   float64\n",
      " 11  actor_2_name               5030 non-null   object \n",
      " 12  actor_2_facebook_likes     5030 non-null   float64\n",
      " 13  actor_3_name               5020 non-null   object \n",
      " 14  actor_3_facebook_likes     5020 non-null   float64\n",
      " 15  cast_total_facebook_likes  5043 non-null   int64  \n",
      " 16  movie_facebook_likes       5043 non-null   int64  \n",
      " 17  duration                   5028 non-null   float64\n",
      " 18  gross                      4159 non-null   float64\n",
      " 19  language                   5031 non-null   object \n",
      " 20  country                    5038 non-null   object \n",
      " 21  content_rating             4740 non-null   object \n",
      " 22  budget                     4551 non-null   float64\n",
      " 23  aspect_ratio               4714 non-null   float64\n",
      "dtypes: float64(11), int64(4), object(9)\n",
      "memory usage: 945.7+ KB\n"
     ]
    }
   ],
   "source": [
    "movies.info()"
   ]
  },
  {
   "cell_type": "markdown",
   "metadata": {},
   "source": [
    "### 1.1 Eliminar duplicados.\n",
    "Revisando los datos notamos que tenemos algunas filas repetidas. Se quiere entonces eliminar las 45 filas duplicadas."
   ]
  },
  {
   "cell_type": "code",
   "execution_count": 5,
   "metadata": {},
   "outputs": [
    {
     "data": {
      "text/plain": [
       "False    4998\n",
       "True       45\n",
       "dtype: int64"
      ]
     },
     "execution_count": 5,
     "metadata": {},
     "output_type": "execute_result"
    }
   ],
   "source": [
    "# Filas duplicadas\n",
    "movies.duplicated().value_counts() "
   ]
  },
  {
   "cell_type": "code",
   "execution_count": 6,
   "metadata": {},
   "outputs": [
    {
     "data": {
      "text/plain": [
       "False    4998\n",
       "dtype: int64"
      ]
     },
     "execution_count": 6,
     "metadata": {},
     "output_type": "execute_result"
    }
   ],
   "source": [
    "# Borramos los datos duplicados\n",
    "movies = movies.drop_duplicates()\n",
    "movies.duplicated().value_counts() "
   ]
  },
  {
   "cell_type": "markdown",
   "metadata": {},
   "source": [
    "Quedan 4998 instancias diferentes."
   ]
  },
  {
   "cell_type": "markdown",
   "metadata": {},
   "source": [
    "### 1.2 Limpeza\n",
    "Si revisamos la cantidad de valores nulos por feature se tiene lo siguiente:"
   ]
  },
  {
   "cell_type": "code",
   "execution_count": 7,
   "metadata": {},
   "outputs": [
    {
     "data": {
      "text/plain": [
       "movie_title                    0\n",
       "imdb_score                     0\n",
       "title_year                   107\n",
       "num_voted_users                0\n",
       "num_critic_for_reviews        49\n",
       "num_user_for_reviews          21\n",
       "color                         19\n",
       "director_name                103\n",
       "director_facebook_likes      103\n",
       "actor_1_name                   7\n",
       "actor_1_facebook_likes         7\n",
       "actor_2_name                  13\n",
       "actor_2_facebook_likes        13\n",
       "actor_3_name                  23\n",
       "actor_3_facebook_likes        23\n",
       "cast_total_facebook_likes      0\n",
       "movie_facebook_likes           0\n",
       "duration                      15\n",
       "gross                        874\n",
       "language                      12\n",
       "country                        5\n",
       "content_rating               301\n",
       "budget                       487\n",
       "aspect_ratio                 327\n",
       "dtype: int64"
      ]
     },
     "execution_count": 7,
     "metadata": {},
     "output_type": "execute_result"
    }
   ],
   "source": [
    "movies.isnull().sum()"
   ]
  },
  {
   "cell_type": "markdown",
   "metadata": {},
   "source": [
    "En donde notamos que `gross` y `budget` son los artibutos que mas nulos poseen. Como queremos mantener esos atributos en el dataset pero la cantidad de nulos es muy grande, se eliminaran las filas que tengan nulos en ellos."
   ]
  },
  {
   "cell_type": "code",
   "execution_count": 8,
   "metadata": {},
   "outputs": [
    {
     "data": {
      "text/plain": [
       "(3857, 24)"
      ]
     },
     "execution_count": 8,
     "metadata": {},
     "output_type": "execute_result"
    }
   ],
   "source": [
    "# Eliminamos los valores nulos de gross y budget\n",
    "movies = movies.dropna(subset=['gross', 'budget'])\n",
    "movies.shape"
   ]
  },
  {
   "cell_type": "markdown",
   "metadata": {},
   "source": [
    "De las 4998 instancias del paso anterior, quedaron 3857, es decir se eliminó un %22.83 de los datos. Evaluamos los nulos que quedan."
   ]
  },
  {
   "cell_type": "code",
   "execution_count": 9,
   "metadata": {},
   "outputs": [
    {
     "data": {
      "text/plain": [
       "movie_title                   0\n",
       "imdb_score                    0\n",
       "title_year                    0\n",
       "num_voted_users               0\n",
       "num_critic_for_reviews        1\n",
       "num_user_for_reviews          0\n",
       "color                         2\n",
       "director_name                 0\n",
       "director_facebook_likes       0\n",
       "actor_1_name                  3\n",
       "actor_1_facebook_likes        3\n",
       "actor_2_name                  5\n",
       "actor_2_facebook_likes        5\n",
       "actor_3_name                 10\n",
       "actor_3_facebook_likes       10\n",
       "cast_total_facebook_likes     0\n",
       "movie_facebook_likes          0\n",
       "duration                      1\n",
       "gross                         0\n",
       "language                      3\n",
       "country                       0\n",
       "content_rating               51\n",
       "budget                        0\n",
       "aspect_ratio                 74\n",
       "dtype: int64"
      ]
     },
     "execution_count": 9,
     "metadata": {},
     "output_type": "execute_result"
    }
   ],
   "source": [
    "movies.isnull().sum()"
   ]
  },
  {
   "cell_type": "markdown",
   "metadata": {},
   "source": [
    "Ahora mismo `aspect_ratio` tiene la mayor cantidad de nulos (pero mucho menor en comparacion al de los eliminados antes). Revisamos su importancia:"
   ]
  },
  {
   "cell_type": "code",
   "execution_count": 10,
   "metadata": {},
   "outputs": [
    {
     "data": {
      "text/html": [
       "<div>\n",
       "<style scoped>\n",
       "    .dataframe tbody tr th:only-of-type {\n",
       "        vertical-align: middle;\n",
       "    }\n",
       "\n",
       "    .dataframe tbody tr th {\n",
       "        vertical-align: top;\n",
       "    }\n",
       "\n",
       "    .dataframe thead th {\n",
       "        text-align: right;\n",
       "    }\n",
       "</style>\n",
       "<table border=\"1\" class=\"dataframe\">\n",
       "  <thead>\n",
       "    <tr style=\"text-align: right;\">\n",
       "      <th></th>\n",
       "      <th>aspect_ratio</th>\n",
       "      <th>imdb_score</th>\n",
       "    </tr>\n",
       "  </thead>\n",
       "  <tbody>\n",
       "    <tr>\n",
       "      <th>2.35</th>\n",
       "      <td>1995</td>\n",
       "      <td>6.504762</td>\n",
       "    </tr>\n",
       "    <tr>\n",
       "      <th>1.85</th>\n",
       "      <td>1600</td>\n",
       "      <td>6.380625</td>\n",
       "    </tr>\n",
       "    <tr>\n",
       "      <th>1.37</th>\n",
       "      <td>50</td>\n",
       "      <td>6.980000</td>\n",
       "    </tr>\n",
       "    <tr>\n",
       "      <th>1.78</th>\n",
       "      <td>41</td>\n",
       "      <td>6.292683</td>\n",
       "    </tr>\n",
       "    <tr>\n",
       "      <th>1.66</th>\n",
       "      <td>40</td>\n",
       "      <td>7.125000</td>\n",
       "    </tr>\n",
       "    <tr>\n",
       "      <th>1.33</th>\n",
       "      <td>19</td>\n",
       "      <td>6.368421</td>\n",
       "    </tr>\n",
       "    <tr>\n",
       "      <th>2.39</th>\n",
       "      <td>11</td>\n",
       "      <td>6.909091</td>\n",
       "    </tr>\n",
       "    <tr>\n",
       "      <th>2.20</th>\n",
       "      <td>10</td>\n",
       "      <td>7.500000</td>\n",
       "    </tr>\n",
       "    <tr>\n",
       "      <th>2.40</th>\n",
       "      <td>3</td>\n",
       "      <td>7.333333</td>\n",
       "    </tr>\n",
       "    <tr>\n",
       "      <th>2.76</th>\n",
       "      <td>3</td>\n",
       "      <td>7.666667</td>\n",
       "    </tr>\n",
       "    <tr>\n",
       "      <th>2.00</th>\n",
       "      <td>3</td>\n",
       "      <td>6.333333</td>\n",
       "    </tr>\n",
       "    <tr>\n",
       "      <th>1.75</th>\n",
       "      <td>2</td>\n",
       "      <td>8.000000</td>\n",
       "    </tr>\n",
       "    <tr>\n",
       "      <th>2.24</th>\n",
       "      <td>1</td>\n",
       "      <td>8.000000</td>\n",
       "    </tr>\n",
       "    <tr>\n",
       "      <th>1.18</th>\n",
       "      <td>1</td>\n",
       "      <td>8.000000</td>\n",
       "    </tr>\n",
       "    <tr>\n",
       "      <th>2.55</th>\n",
       "      <td>1</td>\n",
       "      <td>6.000000</td>\n",
       "    </tr>\n",
       "    <tr>\n",
       "      <th>1.77</th>\n",
       "      <td>1</td>\n",
       "      <td>6.000000</td>\n",
       "    </tr>\n",
       "    <tr>\n",
       "      <th>16.00</th>\n",
       "      <td>1</td>\n",
       "      <td>7.000000</td>\n",
       "    </tr>\n",
       "    <tr>\n",
       "      <th>1.50</th>\n",
       "      <td>1</td>\n",
       "      <td>7.000000</td>\n",
       "    </tr>\n",
       "  </tbody>\n",
       "</table>\n",
       "</div>"
      ],
      "text/plain": [
       "       aspect_ratio  imdb_score\n",
       "2.35           1995    6.504762\n",
       "1.85           1600    6.380625\n",
       "1.37             50    6.980000\n",
       "1.78             41    6.292683\n",
       "1.66             40    7.125000\n",
       "1.33             19    6.368421\n",
       "2.39             11    6.909091\n",
       "2.20             10    7.500000\n",
       "2.40              3    7.333333\n",
       "2.76              3    7.666667\n",
       "2.00              3    6.333333\n",
       "1.75              2    8.000000\n",
       "2.24              1    8.000000\n",
       "1.18              1    8.000000\n",
       "2.55              1    6.000000\n",
       "1.77              1    6.000000\n",
       "16.00             1    7.000000\n",
       "1.50              1    7.000000"
      ]
     },
     "execution_count": 10,
     "metadata": {},
     "output_type": "execute_result"
    }
   ],
   "source": [
    "avg_score = movies.groupby(\"aspect_ratio\")[\"imdb_score\"].mean()\n",
    "count = movies[\"aspect_ratio\"].value_counts()\n",
    "count.to_frame().join(avg_score)"
   ]
  },
  {
   "cell_type": "markdown",
   "metadata": {},
   "source": [
    "Podemos notar que para los valores de `aspect_ratio` mas \"populares\" (2.35 y 1.85), el `imdb_score` no presenta una diferencia significativa, sus medidas estan en el rango de 6,2 ~ 6,6. Por lo tanto eliminar este atributo no afectara al analisis."
   ]
  },
  {
   "cell_type": "code",
   "execution_count": 11,
   "metadata": {},
   "outputs": [],
   "source": [
    "# Eliminar \"aspect_ratio\"\n",
    "movies.drop(columns=\"aspect_ratio\", inplace=True)"
   ]
  },
  {
   "cell_type": "code",
   "execution_count": 12,
   "metadata": {},
   "outputs": [
    {
     "data": {
      "text/plain": [
       "R            1723\n",
       "PG-13        1314\n",
       "PG            573\n",
       "G              91\n",
       "Not Rated      42\n",
       "Unrated        24\n",
       "Approved       17\n",
       "X              10\n",
       "NC-17           6\n",
       "Passed          3\n",
       "M               2\n",
       "GP              1\n",
       "Name: content_rating, dtype: int64"
      ]
     },
     "execution_count": 12,
     "metadata": {},
     "output_type": "execute_result"
    }
   ],
   "source": [
    "movies[\"content_rating\"].value_counts()"
   ]
  },
  {
   "cell_type": "markdown",
   "metadata": {},
   "source": [
    "En `content_rating` hay valores correspondientes a la clasificacion de contenidos desactualizados, presentandose en categorias diferentes para una misma clasificacion ([Content Rating en wikipedia](https://en.wikipedia.org/wiki/Motion_Picture_Association_film_rating_system#:~:text=Rated%20G%3A%20General%20audiences%20%E2%80%93%20All,accompanying%20parent%20or%20adult%20guardian.).):\n",
    "- M a PG\n",
    "- GP a PG\n",
    "- X a NC-17\n",
    "\n",
    "De la misma forma reemplazamos \"Not Rated\", \"Unrated\", \"Passed\", \"Approved\" con la clasificacion mas comun: \"R\", para estandarizar el dataset a las 5 clasificaciones actuales (\"G\", \"PG\", \"PG-13\", \"R\" y \"NC-17\")"
   ]
  },
  {
   "cell_type": "code",
   "execution_count": 13,
   "metadata": {},
   "outputs": [],
   "source": [
    "movies.loc[movies[\"content_rating\"]==\"M\",\"content_rating\"]=\"PG\"\n",
    "movies.loc[movies[\"content_rating\"]==\"GP\",\"content_rating\"]=\"PG\"\n",
    "movies.loc[movies[\"content_rating\"]==\"X\",\"content_rating\"]=\"NC-17\"\n",
    "movies.loc[movies[\"content_rating\"]==\"Not Rated\",\"content_rating\"]=\"R\"\n",
    "movies.loc[movies[\"content_rating\"]==\"Unrated\",\"content_rating\"]=\"R\"\n",
    "movies.loc[movies[\"content_rating\"]==\"Passed\",\"content_rating\"]=\"R\"\n",
    "movies.loc[movies[\"content_rating\"]==\"Approved\",\"content_rating\"]=\"R\""
   ]
  },
  {
   "cell_type": "code",
   "execution_count": 14,
   "metadata": {},
   "outputs": [
    {
     "data": {
      "text/plain": [
       "R        1809\n",
       "PG-13    1314\n",
       "PG        576\n",
       "G          91\n",
       "NC-17      16\n",
       "Name: content_rating, dtype: int64"
      ]
     },
     "execution_count": 14,
     "metadata": {},
     "output_type": "execute_result"
    }
   ],
   "source": [
    "movies[\"content_rating\"].value_counts()"
   ]
  },
  {
   "cell_type": "markdown",
   "metadata": {},
   "source": [
    "Finalmente, dada la poca cantidad de nulos que presenta y que es un atributo categorico (no se puede establecer un nulo como el promedio del resto), se eliminan todas las instancias que posean un nulo en esta variable."
   ]
  },
  {
   "cell_type": "code",
   "execution_count": 15,
   "metadata": {},
   "outputs": [
    {
     "data": {
      "text/plain": [
       "movie_title                  0\n",
       "imdb_score                   0\n",
       "title_year                   0\n",
       "num_voted_users              0\n",
       "num_critic_for_reviews       1\n",
       "num_user_for_reviews         0\n",
       "color                        2\n",
       "director_name                0\n",
       "director_facebook_likes      0\n",
       "actor_1_name                 1\n",
       "actor_1_facebook_likes       1\n",
       "actor_2_name                 2\n",
       "actor_2_facebook_likes       2\n",
       "actor_3_name                 6\n",
       "actor_3_facebook_likes       6\n",
       "cast_total_facebook_likes    0\n",
       "movie_facebook_likes         0\n",
       "duration                     0\n",
       "gross                        0\n",
       "language                     2\n",
       "country                      0\n",
       "content_rating               0\n",
       "budget                       0\n",
       "dtype: int64"
      ]
     },
     "execution_count": 15,
     "metadata": {},
     "output_type": "execute_result"
    }
   ],
   "source": [
    "movies = movies.dropna(subset=['content_rating'])\n",
    "movies.isnull().sum()"
   ]
  },
  {
   "cell_type": "markdown",
   "metadata": {},
   "source": [
    "En los atributos numericos (como el numero de likes) dado que tienen una cantidad baja de nulos, estos pueden establecerse como el promedio del resto del valores. Consideramos tambien que, segun el contexto del problema podemos asumir que en los aributos como `duration`, `num_critic_for_review` y los referentes al numero de likes, los ceros son considerados como nulos, por lo que, para aprovechar de cambiar todos los nulos de una sola vez, se estableceran los ceros como NA"
   ]
  },
  {
   "cell_type": "code",
   "execution_count": 16,
   "metadata": {},
   "outputs": [],
   "source": [
    "a=[\"num_critic_for_reviews\", \"duration\", \"actor_1_facebook_likes\", \"actor_2_facebook_likes\", \"actor_3_facebook_likes\", \"cast_total_facebook_likes\", \"movie_facebook_likes\"]\n",
    "for i in a:\n",
    "    movies.loc[movies[i]==0,i]= np.NaN\n",
    "for i in a:\n",
    "    movies.loc[movies[i].isna(),i]=round(movies[i].mean())"
   ]
  },
  {
   "cell_type": "code",
   "execution_count": 17,
   "metadata": {},
   "outputs": [
    {
     "data": {
      "text/plain": [
       "movie_title                  0\n",
       "imdb_score                   0\n",
       "title_year                   0\n",
       "num_voted_users              0\n",
       "num_critic_for_reviews       0\n",
       "num_user_for_reviews         0\n",
       "color                        2\n",
       "director_name                0\n",
       "director_facebook_likes      0\n",
       "actor_1_name                 1\n",
       "actor_1_facebook_likes       0\n",
       "actor_2_name                 2\n",
       "actor_2_facebook_likes       0\n",
       "actor_3_name                 6\n",
       "actor_3_facebook_likes       0\n",
       "cast_total_facebook_likes    0\n",
       "movie_facebook_likes         0\n",
       "duration                     0\n",
       "gross                        0\n",
       "language                     2\n",
       "country                      0\n",
       "content_rating               0\n",
       "budget                       0\n",
       "dtype: int64"
      ]
     },
     "execution_count": 17,
     "metadata": {},
     "output_type": "execute_result"
    }
   ],
   "source": [
    "movies.isnull().sum()"
   ]
  },
  {
   "cell_type": "markdown",
   "metadata": {},
   "source": [
    "Dado que todos los nombres y el titulo de la pelicula son tan diferentes para todo el conjunto de datos, no tiene sentido usarlos para predecir el `imdb_score`, por lo que se eliminaran."
   ]
  },
  {
   "cell_type": "code",
   "execution_count": 18,
   "metadata": {},
   "outputs": [],
   "source": [
    "movies.drop(columns=[\"movie_title\",\"director_name\", \"actor_1_name\",\"actor_2_name\",\"actor_3_name\"], inplace=True)"
   ]
  },
  {
   "cell_type": "markdown",
   "metadata": {},
   "source": [
    "Nos preguntamos tambien que tan influyentes son lenguaje, color y país de la pelicula para el `imdb_score`"
   ]
  },
  {
   "cell_type": "code",
   "execution_count": 19,
   "metadata": {
    "scrolled": true
   },
   "outputs": [
    {
     "data": {
      "text/html": [
       "<div>\n",
       "<style scoped>\n",
       "    .dataframe tbody tr th:only-of-type {\n",
       "        vertical-align: middle;\n",
       "    }\n",
       "\n",
       "    .dataframe tbody tr th {\n",
       "        vertical-align: top;\n",
       "    }\n",
       "\n",
       "    .dataframe thead th {\n",
       "        text-align: right;\n",
       "    }\n",
       "</style>\n",
       "<table border=\"1\" class=\"dataframe\">\n",
       "  <thead>\n",
       "    <tr style=\"text-align: right;\">\n",
       "      <th></th>\n",
       "      <th>language</th>\n",
       "      <th>imdb_score</th>\n",
       "    </tr>\n",
       "  </thead>\n",
       "  <tbody>\n",
       "    <tr>\n",
       "      <th>English</th>\n",
       "      <td>3644</td>\n",
       "      <td>6.423710</td>\n",
       "    </tr>\n",
       "    <tr>\n",
       "      <th>French</th>\n",
       "      <td>34</td>\n",
       "      <td>7.382353</td>\n",
       "    </tr>\n",
       "    <tr>\n",
       "      <th>Spanish</th>\n",
       "      <td>24</td>\n",
       "      <td>7.166667</td>\n",
       "    </tr>\n",
       "    <tr>\n",
       "      <th>Mandarin</th>\n",
       "      <td>14</td>\n",
       "      <td>7.071429</td>\n",
       "    </tr>\n",
       "    <tr>\n",
       "      <th>German</th>\n",
       "      <td>11</td>\n",
       "      <td>7.636364</td>\n",
       "    </tr>\n",
       "    <tr>\n",
       "      <th>Japanese</th>\n",
       "      <td>10</td>\n",
       "      <td>7.700000</td>\n",
       "    </tr>\n",
       "    <tr>\n",
       "      <th>Cantonese</th>\n",
       "      <td>7</td>\n",
       "      <td>7.428571</td>\n",
       "    </tr>\n",
       "    <tr>\n",
       "      <th>Italian</th>\n",
       "      <td>7</td>\n",
       "      <td>7.142857</td>\n",
       "    </tr>\n",
       "    <tr>\n",
       "      <th>Korean</th>\n",
       "      <td>5</td>\n",
       "      <td>7.600000</td>\n",
       "    </tr>\n",
       "    <tr>\n",
       "      <th>Hindi</th>\n",
       "      <td>5</td>\n",
       "      <td>7.200000</td>\n",
       "    </tr>\n",
       "    <tr>\n",
       "      <th>Portuguese</th>\n",
       "      <td>5</td>\n",
       "      <td>7.800000</td>\n",
       "    </tr>\n",
       "    <tr>\n",
       "      <th>Norwegian</th>\n",
       "      <td>4</td>\n",
       "      <td>7.250000</td>\n",
       "    </tr>\n",
       "    <tr>\n",
       "      <th>Thai</th>\n",
       "      <td>3</td>\n",
       "      <td>6.666667</td>\n",
       "    </tr>\n",
       "    <tr>\n",
       "      <th>Danish</th>\n",
       "      <td>3</td>\n",
       "      <td>7.666667</td>\n",
       "    </tr>\n",
       "    <tr>\n",
       "      <th>Dutch</th>\n",
       "      <td>3</td>\n",
       "      <td>7.666667</td>\n",
       "    </tr>\n",
       "    <tr>\n",
       "      <th>Persian</th>\n",
       "      <td>3</td>\n",
       "      <td>8.000000</td>\n",
       "    </tr>\n",
       "    <tr>\n",
       "      <th>Aboriginal</th>\n",
       "      <td>2</td>\n",
       "      <td>7.000000</td>\n",
       "    </tr>\n",
       "    <tr>\n",
       "      <th>Indonesian</th>\n",
       "      <td>2</td>\n",
       "      <td>8.000000</td>\n",
       "    </tr>\n",
       "    <tr>\n",
       "      <th>Dari</th>\n",
       "      <td>2</td>\n",
       "      <td>7.500000</td>\n",
       "    </tr>\n",
       "    <tr>\n",
       "      <th>Hebrew</th>\n",
       "      <td>2</td>\n",
       "      <td>7.500000</td>\n",
       "    </tr>\n",
       "    <tr>\n",
       "      <th>Czech</th>\n",
       "      <td>1</td>\n",
       "      <td>7.000000</td>\n",
       "    </tr>\n",
       "    <tr>\n",
       "      <th>Mongolian</th>\n",
       "      <td>1</td>\n",
       "      <td>7.000000</td>\n",
       "    </tr>\n",
       "    <tr>\n",
       "      <th>Zulu</th>\n",
       "      <td>1</td>\n",
       "      <td>7.000000</td>\n",
       "    </tr>\n",
       "    <tr>\n",
       "      <th>Filipino</th>\n",
       "      <td>1</td>\n",
       "      <td>7.000000</td>\n",
       "    </tr>\n",
       "    <tr>\n",
       "      <th>Vietnamese</th>\n",
       "      <td>1</td>\n",
       "      <td>7.000000</td>\n",
       "    </tr>\n",
       "    <tr>\n",
       "      <th>Romanian</th>\n",
       "      <td>1</td>\n",
       "      <td>8.000000</td>\n",
       "    </tr>\n",
       "    <tr>\n",
       "      <th>Arabic</th>\n",
       "      <td>1</td>\n",
       "      <td>7.000000</td>\n",
       "    </tr>\n",
       "    <tr>\n",
       "      <th>Russian</th>\n",
       "      <td>1</td>\n",
       "      <td>6.000000</td>\n",
       "    </tr>\n",
       "    <tr>\n",
       "      <th>None</th>\n",
       "      <td>1</td>\n",
       "      <td>8.000000</td>\n",
       "    </tr>\n",
       "    <tr>\n",
       "      <th>Maya</th>\n",
       "      <td>1</td>\n",
       "      <td>8.000000</td>\n",
       "    </tr>\n",
       "    <tr>\n",
       "      <th>Kazakh</th>\n",
       "      <td>1</td>\n",
       "      <td>6.000000</td>\n",
       "    </tr>\n",
       "    <tr>\n",
       "      <th>Aramaic</th>\n",
       "      <td>1</td>\n",
       "      <td>7.000000</td>\n",
       "    </tr>\n",
       "    <tr>\n",
       "      <th>Bosnian</th>\n",
       "      <td>1</td>\n",
       "      <td>4.000000</td>\n",
       "    </tr>\n",
       "    <tr>\n",
       "      <th>Hungarian</th>\n",
       "      <td>1</td>\n",
       "      <td>7.000000</td>\n",
       "    </tr>\n",
       "  </tbody>\n",
       "</table>\n",
       "</div>"
      ],
      "text/plain": [
       "            language  imdb_score\n",
       "English         3644    6.423710\n",
       "French            34    7.382353\n",
       "Spanish           24    7.166667\n",
       "Mandarin          14    7.071429\n",
       "German            11    7.636364\n",
       "Japanese          10    7.700000\n",
       "Cantonese          7    7.428571\n",
       "Italian            7    7.142857\n",
       "Korean             5    7.600000\n",
       "Hindi              5    7.200000\n",
       "Portuguese         5    7.800000\n",
       "Norwegian          4    7.250000\n",
       "Thai               3    6.666667\n",
       "Danish             3    7.666667\n",
       "Dutch              3    7.666667\n",
       "Persian            3    8.000000\n",
       "Aboriginal         2    7.000000\n",
       "Indonesian         2    8.000000\n",
       "Dari               2    7.500000\n",
       "Hebrew             2    7.500000\n",
       "Czech              1    7.000000\n",
       "Mongolian          1    7.000000\n",
       "Zulu               1    7.000000\n",
       "Filipino           1    7.000000\n",
       "Vietnamese         1    7.000000\n",
       "Romanian           1    8.000000\n",
       "Arabic             1    7.000000\n",
       "Russian            1    6.000000\n",
       "None               1    8.000000\n",
       "Maya               1    8.000000\n",
       "Kazakh             1    6.000000\n",
       "Aramaic            1    7.000000\n",
       "Bosnian            1    4.000000\n",
       "Hungarian          1    7.000000"
      ]
     },
     "execution_count": 19,
     "metadata": {},
     "output_type": "execute_result"
    }
   ],
   "source": [
    "feature = \"language\"\n",
    "count = movies[feature].value_counts()\n",
    "avg_score = movies.groupby(feature)[\"imdb_score\"].mean()\n",
    "count.to_frame().join(avg_score)"
   ]
  },
  {
   "cell_type": "code",
   "execution_count": 20,
   "metadata": {},
   "outputs": [
    {
     "name": "stdout",
     "output_type": "stream",
     "text": [
      "Proporción películas en inglés: 0.9574356279558591\n"
     ]
    }
   ],
   "source": [
    "print(\"Proporción películas en inglés:\",movies[movies[\"language\"]==\"English\"].count()[0]/movies.shape[0])"
   ]
  },
  {
   "cell_type": "markdown",
   "metadata": {},
   "source": [
    "Parecen no existir grandes diferencias, asimismo si miramos la cantidad de películas por lenguaje obtenemos que cerca de 95.8% está en inglés, lo que significa que esta variable es casi constante, por lo que se eliminara"
   ]
  },
  {
   "cell_type": "code",
   "execution_count": 21,
   "metadata": {},
   "outputs": [
    {
     "data": {
      "text/html": [
       "<div>\n",
       "<style scoped>\n",
       "    .dataframe tbody tr th:only-of-type {\n",
       "        vertical-align: middle;\n",
       "    }\n",
       "\n",
       "    .dataframe tbody tr th {\n",
       "        vertical-align: top;\n",
       "    }\n",
       "\n",
       "    .dataframe thead th {\n",
       "        text-align: right;\n",
       "    }\n",
       "</style>\n",
       "<table border=\"1\" class=\"dataframe\">\n",
       "  <thead>\n",
       "    <tr style=\"text-align: right;\">\n",
       "      <th></th>\n",
       "      <th>color</th>\n",
       "      <th>imdb_score</th>\n",
       "    </tr>\n",
       "  </thead>\n",
       "  <tbody>\n",
       "    <tr>\n",
       "      <th>Color</th>\n",
       "      <td>3680</td>\n",
       "      <td>6.439402</td>\n",
       "    </tr>\n",
       "    <tr>\n",
       "      <th>Black and White</th>\n",
       "      <td>124</td>\n",
       "      <td>7.137097</td>\n",
       "    </tr>\n",
       "  </tbody>\n",
       "</table>\n",
       "</div>"
      ],
      "text/plain": [
       "                  color  imdb_score\n",
       "Color              3680    6.439402\n",
       " Black and White    124    7.137097"
      ]
     },
     "execution_count": 21,
     "metadata": {},
     "output_type": "execute_result"
    }
   ],
   "source": [
    "feature = \"color\"\n",
    "count = movies[feature].value_counts()\n",
    "avg_score = movies.groupby(feature)[\"imdb_score\"].mean()\n",
    "count.to_frame().join(avg_score)"
   ]
  },
  {
   "cell_type": "code",
   "execution_count": 22,
   "metadata": {},
   "outputs": [
    {
     "name": "stdout",
     "output_type": "stream",
     "text": [
      "Proporción películas a Color: 0.9668943772990016\n"
     ]
    }
   ],
   "source": [
    "print(\"Proporción películas a Color:\",movies[movies[\"color\"]==\"Color\"].count()[0]/movies.shape[0])"
   ]
  },
  {
   "cell_type": "markdown",
   "metadata": {},
   "source": [
    "En el caso del color sucede de forma similar, cerca de un 96.7% corresponde a peliculas en color, por lo que de igual manera se eliminara este atributo."
   ]
  },
  {
   "cell_type": "code",
   "execution_count": 23,
   "metadata": {},
   "outputs": [
    {
     "data": {
      "text/html": [
       "<div>\n",
       "<style scoped>\n",
       "    .dataframe tbody tr th:only-of-type {\n",
       "        vertical-align: middle;\n",
       "    }\n",
       "\n",
       "    .dataframe tbody tr th {\n",
       "        vertical-align: top;\n",
       "    }\n",
       "\n",
       "    .dataframe thead th {\n",
       "        text-align: right;\n",
       "    }\n",
       "</style>\n",
       "<table border=\"1\" class=\"dataframe\">\n",
       "  <thead>\n",
       "    <tr style=\"text-align: right;\">\n",
       "      <th></th>\n",
       "      <th>country</th>\n",
       "      <th>imdb_score</th>\n",
       "    </tr>\n",
       "  </thead>\n",
       "  <tbody>\n",
       "    <tr>\n",
       "      <th>USA</th>\n",
       "      <td>0.794798</td>\n",
       "      <td>0.001678</td>\n",
       "    </tr>\n",
       "    <tr>\n",
       "      <th>UK</th>\n",
       "      <td>0.083027</td>\n",
       "      <td>0.001800</td>\n",
       "    </tr>\n",
       "    <tr>\n",
       "      <th>France</th>\n",
       "      <td>0.027063</td>\n",
       "      <td>0.001783</td>\n",
       "    </tr>\n",
       "    <tr>\n",
       "      <th>Germany</th>\n",
       "      <td>0.020757</td>\n",
       "      <td>0.001663</td>\n",
       "    </tr>\n",
       "    <tr>\n",
       "      <th>Canada</th>\n",
       "      <td>0.016553</td>\n",
       "      <td>0.001627</td>\n",
       "    </tr>\n",
       "    <tr>\n",
       "      <th>Australia</th>\n",
       "      <td>0.010510</td>\n",
       "      <td>0.001682</td>\n",
       "    </tr>\n",
       "    <tr>\n",
       "      <th>Spain</th>\n",
       "      <td>0.005780</td>\n",
       "      <td>0.001851</td>\n",
       "    </tr>\n",
       "    <tr>\n",
       "      <th>Japan</th>\n",
       "      <td>0.003941</td>\n",
       "      <td>0.001822</td>\n",
       "    </tr>\n",
       "    <tr>\n",
       "      <th>China</th>\n",
       "      <td>0.003416</td>\n",
       "      <td>0.001880</td>\n",
       "    </tr>\n",
       "    <tr>\n",
       "      <th>Hong Kong</th>\n",
       "      <td>0.003416</td>\n",
       "      <td>0.001799</td>\n",
       "    </tr>\n",
       "    <tr>\n",
       "      <th>Italy</th>\n",
       "      <td>0.002890</td>\n",
       "      <td>0.001935</td>\n",
       "    </tr>\n",
       "    <tr>\n",
       "      <th>New Zealand</th>\n",
       "      <td>0.002890</td>\n",
       "      <td>0.001983</td>\n",
       "    </tr>\n",
       "    <tr>\n",
       "      <th>Mexico</th>\n",
       "      <td>0.002627</td>\n",
       "      <td>0.001865</td>\n",
       "    </tr>\n",
       "    <tr>\n",
       "      <th>Denmark</th>\n",
       "      <td>0.002365</td>\n",
       "      <td>0.001868</td>\n",
       "    </tr>\n",
       "    <tr>\n",
       "      <th>South Korea</th>\n",
       "      <td>0.002102</td>\n",
       "      <td>0.001741</td>\n",
       "    </tr>\n",
       "    <tr>\n",
       "      <th>Ireland</th>\n",
       "      <td>0.001839</td>\n",
       "      <td>0.001839</td>\n",
       "    </tr>\n",
       "    <tr>\n",
       "      <th>Brazil</th>\n",
       "      <td>0.001314</td>\n",
       "      <td>0.002049</td>\n",
       "    </tr>\n",
       "    <tr>\n",
       "      <th>India</th>\n",
       "      <td>0.001314</td>\n",
       "      <td>0.001892</td>\n",
       "    </tr>\n",
       "    <tr>\n",
       "      <th>Norway</th>\n",
       "      <td>0.001051</td>\n",
       "      <td>0.001905</td>\n",
       "    </tr>\n",
       "    <tr>\n",
       "      <th>Iran</th>\n",
       "      <td>0.001051</td>\n",
       "      <td>0.001971</td>\n",
       "    </tr>\n",
       "    <tr>\n",
       "      <th>Thailand</th>\n",
       "      <td>0.001051</td>\n",
       "      <td>0.001708</td>\n",
       "    </tr>\n",
       "    <tr>\n",
       "      <th>Argentina</th>\n",
       "      <td>0.000788</td>\n",
       "      <td>0.002014</td>\n",
       "    </tr>\n",
       "    <tr>\n",
       "      <th>Russia</th>\n",
       "      <td>0.000788</td>\n",
       "      <td>0.001664</td>\n",
       "    </tr>\n",
       "    <tr>\n",
       "      <th>South Africa</th>\n",
       "      <td>0.000788</td>\n",
       "      <td>0.001927</td>\n",
       "    </tr>\n",
       "    <tr>\n",
       "      <th>Czech Republic</th>\n",
       "      <td>0.000788</td>\n",
       "      <td>0.001752</td>\n",
       "    </tr>\n",
       "    <tr>\n",
       "      <th>Netherlands</th>\n",
       "      <td>0.000788</td>\n",
       "      <td>0.002014</td>\n",
       "    </tr>\n",
       "    <tr>\n",
       "      <th>Taiwan</th>\n",
       "      <td>0.000525</td>\n",
       "      <td>0.001839</td>\n",
       "    </tr>\n",
       "    <tr>\n",
       "      <th>Israel</th>\n",
       "      <td>0.000525</td>\n",
       "      <td>0.001971</td>\n",
       "    </tr>\n",
       "    <tr>\n",
       "      <th>Romania</th>\n",
       "      <td>0.000525</td>\n",
       "      <td>0.001708</td>\n",
       "    </tr>\n",
       "    <tr>\n",
       "      <th>Hungary</th>\n",
       "      <td>0.000525</td>\n",
       "      <td>0.001708</td>\n",
       "    </tr>\n",
       "    <tr>\n",
       "      <th>Colombia</th>\n",
       "      <td>0.000263</td>\n",
       "      <td>0.002102</td>\n",
       "    </tr>\n",
       "    <tr>\n",
       "      <th>Belgium</th>\n",
       "      <td>0.000263</td>\n",
       "      <td>0.001839</td>\n",
       "    </tr>\n",
       "    <tr>\n",
       "      <th>Philippines</th>\n",
       "      <td>0.000263</td>\n",
       "      <td>0.001576</td>\n",
       "    </tr>\n",
       "    <tr>\n",
       "      <th>Aruba</th>\n",
       "      <td>0.000263</td>\n",
       "      <td>0.001314</td>\n",
       "    </tr>\n",
       "    <tr>\n",
       "      <th>Finland</th>\n",
       "      <td>0.000263</td>\n",
       "      <td>0.001839</td>\n",
       "    </tr>\n",
       "    <tr>\n",
       "      <th>Iceland</th>\n",
       "      <td>0.000263</td>\n",
       "      <td>0.001839</td>\n",
       "    </tr>\n",
       "    <tr>\n",
       "      <th>West Germany</th>\n",
       "      <td>0.000263</td>\n",
       "      <td>0.002102</td>\n",
       "    </tr>\n",
       "    <tr>\n",
       "      <th>Greece</th>\n",
       "      <td>0.000263</td>\n",
       "      <td>0.001839</td>\n",
       "    </tr>\n",
       "    <tr>\n",
       "      <th>Indonesia</th>\n",
       "      <td>0.000263</td>\n",
       "      <td>0.002102</td>\n",
       "    </tr>\n",
       "    <tr>\n",
       "      <th>Afghanistan</th>\n",
       "      <td>0.000263</td>\n",
       "      <td>0.001839</td>\n",
       "    </tr>\n",
       "    <tr>\n",
       "      <th>Poland</th>\n",
       "      <td>0.000263</td>\n",
       "      <td>0.001314</td>\n",
       "    </tr>\n",
       "    <tr>\n",
       "      <th>Chile</th>\n",
       "      <td>0.000263</td>\n",
       "      <td>0.001839</td>\n",
       "    </tr>\n",
       "    <tr>\n",
       "      <th>Official site</th>\n",
       "      <td>0.000263</td>\n",
       "      <td>0.001576</td>\n",
       "    </tr>\n",
       "    <tr>\n",
       "      <th>Peru</th>\n",
       "      <td>0.000263</td>\n",
       "      <td>0.001314</td>\n",
       "    </tr>\n",
       "    <tr>\n",
       "      <th>New Line</th>\n",
       "      <td>0.000263</td>\n",
       "      <td>0.001051</td>\n",
       "    </tr>\n",
       "    <tr>\n",
       "      <th>Georgia</th>\n",
       "      <td>0.000263</td>\n",
       "      <td>0.001576</td>\n",
       "    </tr>\n",
       "  </tbody>\n",
       "</table>\n",
       "</div>"
      ],
      "text/plain": [
       "                 country  imdb_score\n",
       "USA             0.794798    0.001678\n",
       "UK              0.083027    0.001800\n",
       "France          0.027063    0.001783\n",
       "Germany         0.020757    0.001663\n",
       "Canada          0.016553    0.001627\n",
       "Australia       0.010510    0.001682\n",
       "Spain           0.005780    0.001851\n",
       "Japan           0.003941    0.001822\n",
       "China           0.003416    0.001880\n",
       "Hong Kong       0.003416    0.001799\n",
       "Italy           0.002890    0.001935\n",
       "New Zealand     0.002890    0.001983\n",
       "Mexico          0.002627    0.001865\n",
       "Denmark         0.002365    0.001868\n",
       "South Korea     0.002102    0.001741\n",
       "Ireland         0.001839    0.001839\n",
       "Brazil          0.001314    0.002049\n",
       "India           0.001314    0.001892\n",
       "Norway          0.001051    0.001905\n",
       "Iran            0.001051    0.001971\n",
       "Thailand        0.001051    0.001708\n",
       "Argentina       0.000788    0.002014\n",
       "Russia          0.000788    0.001664\n",
       "South Africa    0.000788    0.001927\n",
       "Czech Republic  0.000788    0.001752\n",
       "Netherlands     0.000788    0.002014\n",
       "Taiwan          0.000525    0.001839\n",
       "Israel          0.000525    0.001971\n",
       "Romania         0.000525    0.001708\n",
       "Hungary         0.000525    0.001708\n",
       "Colombia        0.000263    0.002102\n",
       "Belgium         0.000263    0.001839\n",
       "Philippines     0.000263    0.001576\n",
       "Aruba           0.000263    0.001314\n",
       "Finland         0.000263    0.001839\n",
       "Iceland         0.000263    0.001839\n",
       "West Germany    0.000263    0.002102\n",
       "Greece          0.000263    0.001839\n",
       "Indonesia       0.000263    0.002102\n",
       "Afghanistan     0.000263    0.001839\n",
       "Poland          0.000263    0.001314\n",
       "Chile           0.000263    0.001839\n",
       "Official site   0.000263    0.001576\n",
       "Peru            0.000263    0.001314\n",
       "New Line        0.000263    0.001051\n",
       "Georgia         0.000263    0.001576"
      ]
     },
     "execution_count": 23,
     "metadata": {},
     "output_type": "execute_result"
    }
   ],
   "source": [
    "feature = \"country\"\n",
    "count = movies[feature].value_counts()\n",
    "avg_score = movies.groupby(feature)[\"imdb_score\"].mean()\n",
    "count.to_frame().join(avg_score)/movies.shape[0]"
   ]
  },
  {
   "cell_type": "markdown",
   "metadata": {},
   "source": [
    "Notamos que un \t79.5% son películas de USA, podríamos cambiar la categoría a una binaria, con 1 si es USA o 0 sino."
   ]
  },
  {
   "cell_type": "code",
   "execution_count": 24,
   "metadata": {},
   "outputs": [],
   "source": [
    "movies[\"country\"] = movies[\"country\"].apply(lambda x: 1 if x == \"USA\" else 0 )"
   ]
  },
  {
   "cell_type": "markdown",
   "metadata": {},
   "source": [
    "Luego, borramos lenguage y color al tender a ser constantes."
   ]
  },
  {
   "cell_type": "code",
   "execution_count": 25,
   "metadata": {},
   "outputs": [
    {
     "data": {
      "text/plain": [
       "imdb_score                   0\n",
       "title_year                   0\n",
       "num_voted_users              0\n",
       "num_critic_for_reviews       0\n",
       "num_user_for_reviews         0\n",
       "director_facebook_likes      0\n",
       "actor_1_facebook_likes       0\n",
       "actor_2_facebook_likes       0\n",
       "actor_3_facebook_likes       0\n",
       "cast_total_facebook_likes    0\n",
       "movie_facebook_likes         0\n",
       "duration                     0\n",
       "gross                        0\n",
       "country                      0\n",
       "content_rating               0\n",
       "budget                       0\n",
       "dtype: int64"
      ]
     },
     "execution_count": 25,
     "metadata": {},
     "output_type": "execute_result"
    }
   ],
   "source": [
    "movies.drop(columns= [\"language\", \"color\"], inplace = True)\n",
    "movies.isnull().sum()"
   ]
  },
  {
   "cell_type": "code",
   "execution_count": 26,
   "metadata": {},
   "outputs": [
    {
     "data": {
      "text/html": [
       "<div>\n",
       "<style scoped>\n",
       "    .dataframe tbody tr th:only-of-type {\n",
       "        vertical-align: middle;\n",
       "    }\n",
       "\n",
       "    .dataframe tbody tr th {\n",
       "        vertical-align: top;\n",
       "    }\n",
       "\n",
       "    .dataframe thead th {\n",
       "        text-align: right;\n",
       "    }\n",
       "</style>\n",
       "<table border=\"1\" class=\"dataframe\">\n",
       "  <thead>\n",
       "    <tr style=\"text-align: right;\">\n",
       "      <th></th>\n",
       "      <th>imdb_score</th>\n",
       "      <th>title_year</th>\n",
       "      <th>num_voted_users</th>\n",
       "      <th>num_critic_for_reviews</th>\n",
       "      <th>num_user_for_reviews</th>\n",
       "      <th>director_facebook_likes</th>\n",
       "      <th>actor_1_facebook_likes</th>\n",
       "      <th>actor_2_facebook_likes</th>\n",
       "      <th>actor_3_facebook_likes</th>\n",
       "      <th>cast_total_facebook_likes</th>\n",
       "      <th>movie_facebook_likes</th>\n",
       "      <th>duration</th>\n",
       "      <th>gross</th>\n",
       "      <th>country</th>\n",
       "      <th>content_rating</th>\n",
       "      <th>budget</th>\n",
       "    </tr>\n",
       "  </thead>\n",
       "  <tbody>\n",
       "    <tr>\n",
       "      <th>0</th>\n",
       "      <td>8</td>\n",
       "      <td>2009.0</td>\n",
       "      <td>886204</td>\n",
       "      <td>723.0</td>\n",
       "      <td>3054.0</td>\n",
       "      <td>0.0</td>\n",
       "      <td>1000.0</td>\n",
       "      <td>936.0</td>\n",
       "      <td>855.0</td>\n",
       "      <td>4834.0</td>\n",
       "      <td>33000.0</td>\n",
       "      <td>178.0</td>\n",
       "      <td>760505847.0</td>\n",
       "      <td>1</td>\n",
       "      <td>PG-13</td>\n",
       "      <td>237000000.0</td>\n",
       "    </tr>\n",
       "    <tr>\n",
       "      <th>1</th>\n",
       "      <td>7</td>\n",
       "      <td>2007.0</td>\n",
       "      <td>471220</td>\n",
       "      <td>302.0</td>\n",
       "      <td>1238.0</td>\n",
       "      <td>563.0</td>\n",
       "      <td>40000.0</td>\n",
       "      <td>5000.0</td>\n",
       "      <td>1000.0</td>\n",
       "      <td>48350.0</td>\n",
       "      <td>17038.0</td>\n",
       "      <td>169.0</td>\n",
       "      <td>309404152.0</td>\n",
       "      <td>1</td>\n",
       "      <td>PG-13</td>\n",
       "      <td>300000000.0</td>\n",
       "    </tr>\n",
       "    <tr>\n",
       "      <th>2</th>\n",
       "      <td>7</td>\n",
       "      <td>2015.0</td>\n",
       "      <td>275868</td>\n",
       "      <td>602.0</td>\n",
       "      <td>994.0</td>\n",
       "      <td>0.0</td>\n",
       "      <td>11000.0</td>\n",
       "      <td>393.0</td>\n",
       "      <td>161.0</td>\n",
       "      <td>11700.0</td>\n",
       "      <td>85000.0</td>\n",
       "      <td>148.0</td>\n",
       "      <td>200074175.0</td>\n",
       "      <td>0</td>\n",
       "      <td>PG-13</td>\n",
       "      <td>245000000.0</td>\n",
       "    </tr>\n",
       "    <tr>\n",
       "      <th>3</th>\n",
       "      <td>8</td>\n",
       "      <td>2012.0</td>\n",
       "      <td>1144337</td>\n",
       "      <td>813.0</td>\n",
       "      <td>2701.0</td>\n",
       "      <td>22000.0</td>\n",
       "      <td>27000.0</td>\n",
       "      <td>23000.0</td>\n",
       "      <td>23000.0</td>\n",
       "      <td>106759.0</td>\n",
       "      <td>164000.0</td>\n",
       "      <td>164.0</td>\n",
       "      <td>448130642.0</td>\n",
       "      <td>1</td>\n",
       "      <td>PG-13</td>\n",
       "      <td>250000000.0</td>\n",
       "    </tr>\n",
       "    <tr>\n",
       "      <th>5</th>\n",
       "      <td>7</td>\n",
       "      <td>2012.0</td>\n",
       "      <td>212204</td>\n",
       "      <td>462.0</td>\n",
       "      <td>738.0</td>\n",
       "      <td>475.0</td>\n",
       "      <td>640.0</td>\n",
       "      <td>632.0</td>\n",
       "      <td>530.0</td>\n",
       "      <td>1873.0</td>\n",
       "      <td>24000.0</td>\n",
       "      <td>132.0</td>\n",
       "      <td>73058679.0</td>\n",
       "      <td>1</td>\n",
       "      <td>PG-13</td>\n",
       "      <td>263700000.0</td>\n",
       "    </tr>\n",
       "  </tbody>\n",
       "</table>\n",
       "</div>"
      ],
      "text/plain": [
       "   imdb_score  title_year  num_voted_users  num_critic_for_reviews  \\\n",
       "0           8      2009.0           886204                   723.0   \n",
       "1           7      2007.0           471220                   302.0   \n",
       "2           7      2015.0           275868                   602.0   \n",
       "3           8      2012.0          1144337                   813.0   \n",
       "5           7      2012.0           212204                   462.0   \n",
       "\n",
       "   num_user_for_reviews  director_facebook_likes  actor_1_facebook_likes  \\\n",
       "0                3054.0                      0.0                  1000.0   \n",
       "1                1238.0                    563.0                 40000.0   \n",
       "2                 994.0                      0.0                 11000.0   \n",
       "3                2701.0                  22000.0                 27000.0   \n",
       "5                 738.0                    475.0                   640.0   \n",
       "\n",
       "   actor_2_facebook_likes  actor_3_facebook_likes  cast_total_facebook_likes  \\\n",
       "0                   936.0                   855.0                     4834.0   \n",
       "1                  5000.0                  1000.0                    48350.0   \n",
       "2                   393.0                   161.0                    11700.0   \n",
       "3                 23000.0                 23000.0                   106759.0   \n",
       "5                   632.0                   530.0                     1873.0   \n",
       "\n",
       "   movie_facebook_likes  duration        gross  country content_rating  \\\n",
       "0               33000.0     178.0  760505847.0        1          PG-13   \n",
       "1               17038.0     169.0  309404152.0        1          PG-13   \n",
       "2               85000.0     148.0  200074175.0        0          PG-13   \n",
       "3              164000.0     164.0  448130642.0        1          PG-13   \n",
       "5               24000.0     132.0   73058679.0        1          PG-13   \n",
       "\n",
       "        budget  \n",
       "0  237000000.0  \n",
       "1  300000000.0  \n",
       "2  245000000.0  \n",
       "3  250000000.0  \n",
       "5  263700000.0  "
      ]
     },
     "execution_count": 26,
     "metadata": {},
     "output_type": "execute_result"
    }
   ],
   "source": [
    "movies.head()"
   ]
  },
  {
   "cell_type": "markdown",
   "metadata": {},
   "source": [
    "Si revisamos la estadística descriptiva de los datos limpios se tiene:"
   ]
  },
  {
   "cell_type": "code",
   "execution_count": 27,
   "metadata": {
    "scrolled": true
   },
   "outputs": [
    {
     "data": {
      "text/html": [
       "<div>\n",
       "<style scoped>\n",
       "    .dataframe tbody tr th:only-of-type {\n",
       "        vertical-align: middle;\n",
       "    }\n",
       "\n",
       "    .dataframe tbody tr th {\n",
       "        vertical-align: top;\n",
       "    }\n",
       "\n",
       "    .dataframe thead th {\n",
       "        text-align: right;\n",
       "    }\n",
       "</style>\n",
       "<table border=\"1\" class=\"dataframe\">\n",
       "  <thead>\n",
       "    <tr style=\"text-align: right;\">\n",
       "      <th></th>\n",
       "      <th>imdb_score</th>\n",
       "      <th>title_year</th>\n",
       "      <th>num_voted_users</th>\n",
       "      <th>num_critic_for_reviews</th>\n",
       "      <th>num_user_for_reviews</th>\n",
       "      <th>director_facebook_likes</th>\n",
       "      <th>actor_1_facebook_likes</th>\n",
       "      <th>actor_2_facebook_likes</th>\n",
       "      <th>actor_3_facebook_likes</th>\n",
       "      <th>cast_total_facebook_likes</th>\n",
       "      <th>movie_facebook_likes</th>\n",
       "      <th>duration</th>\n",
       "      <th>gross</th>\n",
       "      <th>country</th>\n",
       "      <th>budget</th>\n",
       "    </tr>\n",
       "  </thead>\n",
       "  <tbody>\n",
       "    <tr>\n",
       "      <th>count</th>\n",
       "      <td>3806.000000</td>\n",
       "      <td>3806.000000</td>\n",
       "      <td>3.806000e+03</td>\n",
       "      <td>3806.000000</td>\n",
       "      <td>3806.000000</td>\n",
       "      <td>3806.000000</td>\n",
       "      <td>3806.000000</td>\n",
       "      <td>3806.000000</td>\n",
       "      <td>3806.000000</td>\n",
       "      <td>3806.000000</td>\n",
       "      <td>3806.000000</td>\n",
       "      <td>3806.000000</td>\n",
       "      <td>3.806000e+03</td>\n",
       "      <td>3806.000000</td>\n",
       "      <td>3.806000e+03</td>\n",
       "    </tr>\n",
       "    <tr>\n",
       "      <th>mean</th>\n",
       "      <td>6.461902</td>\n",
       "      <td>2003.051235</td>\n",
       "      <td>1.035894e+05</td>\n",
       "      <td>164.650289</td>\n",
       "      <td>330.079348</td>\n",
       "      <td>793.408565</td>\n",
       "      <td>7650.394903</td>\n",
       "      <td>1987.040988</td>\n",
       "      <td>761.134524</td>\n",
       "      <td>11354.461114</td>\n",
       "      <td>17038.074619</td>\n",
       "      <td>110.002890</td>\n",
       "      <td>5.158346e+07</td>\n",
       "      <td>0.794798</td>\n",
       "      <td>4.546895e+07</td>\n",
       "    </tr>\n",
       "    <tr>\n",
       "      <th>std</th>\n",
       "      <td>1.099035</td>\n",
       "      <td>9.946731</td>\n",
       "      <td>1.508407e+05</td>\n",
       "      <td>123.771261</td>\n",
       "      <td>409.129526</td>\n",
       "      <td>3044.933672</td>\n",
       "      <td>15461.967671</td>\n",
       "      <td>4490.400393</td>\n",
       "      <td>1848.809324</td>\n",
       "      <td>18984.270562</td>\n",
       "      <td>19625.544919</td>\n",
       "      <td>22.612353</td>\n",
       "      <td>6.952197e+07</td>\n",
       "      <td>0.403902</td>\n",
       "      <td>2.245645e+08</td>\n",
       "    </tr>\n",
       "    <tr>\n",
       "      <th>min</th>\n",
       "      <td>2.000000</td>\n",
       "      <td>1927.000000</td>\n",
       "      <td>2.200000e+01</td>\n",
       "      <td>1.000000</td>\n",
       "      <td>1.000000</td>\n",
       "      <td>0.000000</td>\n",
       "      <td>2.000000</td>\n",
       "      <td>2.000000</td>\n",
       "      <td>2.000000</td>\n",
       "      <td>2.000000</td>\n",
       "      <td>11.000000</td>\n",
       "      <td>37.000000</td>\n",
       "      <td>1.620000e+02</td>\n",
       "      <td>0.000000</td>\n",
       "      <td>2.180000e+02</td>\n",
       "    </tr>\n",
       "    <tr>\n",
       "      <th>25%</th>\n",
       "      <td>6.000000</td>\n",
       "      <td>1999.000000</td>\n",
       "      <td>1.803675e+04</td>\n",
       "      <td>74.000000</td>\n",
       "      <td>105.000000</td>\n",
       "      <td>10.000000</td>\n",
       "      <td>733.250000</td>\n",
       "      <td>378.000000</td>\n",
       "      <td>197.000000</td>\n",
       "      <td>1873.250000</td>\n",
       "      <td>5000.000000</td>\n",
       "      <td>95.000000</td>\n",
       "      <td>7.363918e+06</td>\n",
       "      <td>1.000000</td>\n",
       "      <td>1.000000e+07</td>\n",
       "    </tr>\n",
       "    <tr>\n",
       "      <th>50%</th>\n",
       "      <td>7.000000</td>\n",
       "      <td>2005.000000</td>\n",
       "      <td>5.231250e+04</td>\n",
       "      <td>136.000000</td>\n",
       "      <td>205.000000</td>\n",
       "      <td>59.000000</td>\n",
       "      <td>1000.000000</td>\n",
       "      <td>681.000000</td>\n",
       "      <td>439.500000</td>\n",
       "      <td>3962.000000</td>\n",
       "      <td>17038.000000</td>\n",
       "      <td>106.000000</td>\n",
       "      <td>2.874964e+07</td>\n",
       "      <td>1.000000</td>\n",
       "      <td>2.500000e+07</td>\n",
       "    </tr>\n",
       "    <tr>\n",
       "      <th>75%</th>\n",
       "      <td>7.000000</td>\n",
       "      <td>2010.000000</td>\n",
       "      <td>1.252138e+05</td>\n",
       "      <td>222.000000</td>\n",
       "      <td>392.750000</td>\n",
       "      <td>229.000000</td>\n",
       "      <td>12000.000000</td>\n",
       "      <td>976.000000</td>\n",
       "      <td>697.000000</td>\n",
       "      <td>16089.750000</td>\n",
       "      <td>17038.000000</td>\n",
       "      <td>120.000000</td>\n",
       "      <td>6.624473e+07</td>\n",
       "      <td>1.000000</td>\n",
       "      <td>5.000000e+07</td>\n",
       "    </tr>\n",
       "    <tr>\n",
       "      <th>max</th>\n",
       "      <td>9.000000</td>\n",
       "      <td>2016.000000</td>\n",
       "      <td>1.689764e+06</td>\n",
       "      <td>813.000000</td>\n",
       "      <td>5060.000000</td>\n",
       "      <td>23000.000000</td>\n",
       "      <td>640000.000000</td>\n",
       "      <td>137000.000000</td>\n",
       "      <td>23000.000000</td>\n",
       "      <td>656730.000000</td>\n",
       "      <td>349000.000000</td>\n",
       "      <td>330.000000</td>\n",
       "      <td>7.605058e+08</td>\n",
       "      <td>1.000000</td>\n",
       "      <td>1.221550e+10</td>\n",
       "    </tr>\n",
       "  </tbody>\n",
       "</table>\n",
       "</div>"
      ],
      "text/plain": [
       "        imdb_score   title_year  num_voted_users  num_critic_for_reviews  \\\n",
       "count  3806.000000  3806.000000     3.806000e+03             3806.000000   \n",
       "mean      6.461902  2003.051235     1.035894e+05              164.650289   \n",
       "std       1.099035     9.946731     1.508407e+05              123.771261   \n",
       "min       2.000000  1927.000000     2.200000e+01                1.000000   \n",
       "25%       6.000000  1999.000000     1.803675e+04               74.000000   \n",
       "50%       7.000000  2005.000000     5.231250e+04              136.000000   \n",
       "75%       7.000000  2010.000000     1.252138e+05              222.000000   \n",
       "max       9.000000  2016.000000     1.689764e+06              813.000000   \n",
       "\n",
       "       num_user_for_reviews  director_facebook_likes  actor_1_facebook_likes  \\\n",
       "count           3806.000000              3806.000000             3806.000000   \n",
       "mean             330.079348               793.408565             7650.394903   \n",
       "std              409.129526              3044.933672            15461.967671   \n",
       "min                1.000000                 0.000000                2.000000   \n",
       "25%              105.000000                10.000000              733.250000   \n",
       "50%              205.000000                59.000000             1000.000000   \n",
       "75%              392.750000               229.000000            12000.000000   \n",
       "max             5060.000000             23000.000000           640000.000000   \n",
       "\n",
       "       actor_2_facebook_likes  actor_3_facebook_likes  \\\n",
       "count             3806.000000             3806.000000   \n",
       "mean              1987.040988              761.134524   \n",
       "std               4490.400393             1848.809324   \n",
       "min                  2.000000                2.000000   \n",
       "25%                378.000000              197.000000   \n",
       "50%                681.000000              439.500000   \n",
       "75%                976.000000              697.000000   \n",
       "max             137000.000000            23000.000000   \n",
       "\n",
       "       cast_total_facebook_likes  movie_facebook_likes     duration  \\\n",
       "count                3806.000000           3806.000000  3806.000000   \n",
       "mean                11354.461114          17038.074619   110.002890   \n",
       "std                 18984.270562          19625.544919    22.612353   \n",
       "min                     2.000000             11.000000    37.000000   \n",
       "25%                  1873.250000           5000.000000    95.000000   \n",
       "50%                  3962.000000          17038.000000   106.000000   \n",
       "75%                 16089.750000          17038.000000   120.000000   \n",
       "max                656730.000000         349000.000000   330.000000   \n",
       "\n",
       "              gross      country        budget  \n",
       "count  3.806000e+03  3806.000000  3.806000e+03  \n",
       "mean   5.158346e+07     0.794798  4.546895e+07  \n",
       "std    6.952197e+07     0.403902  2.245645e+08  \n",
       "min    1.620000e+02     0.000000  2.180000e+02  \n",
       "25%    7.363918e+06     1.000000  1.000000e+07  \n",
       "50%    2.874964e+07     1.000000  2.500000e+07  \n",
       "75%    6.624473e+07     1.000000  5.000000e+07  \n",
       "max    7.605058e+08     1.000000  1.221550e+10  "
      ]
     },
     "execution_count": 27,
     "metadata": {},
     "output_type": "execute_result"
    }
   ],
   "source": [
    "movies.describe()"
   ]
  },
  {
   "cell_type": "markdown",
   "metadata": {},
   "source": [
    "Si vemos la correlación entre las features se tiene:"
   ]
  },
  {
   "cell_type": "code",
   "execution_count": 28,
   "metadata": {},
   "outputs": [
    {
     "data": {
      "image/png": "[encoded data removed]",
      "text/plain": [
       "<Figure size 720x576 with 2 Axes>"
      ]
     },
     "metadata": {
      "needs_background": "light"
     },
     "output_type": "display_data"
    }
   ],
   "source": [
    "sns.heatmap(movies.corr());"
   ]
  },
  {
   "cell_type": "markdown",
   "metadata": {},
   "source": [
    "Se puede observar bastante correlación entre *cast_total_Facebook_likes* y *actor_1_facebook_likes*, por lo que omitiremos la variable de *cast_total_Facebook_likes*."
   ]
  },
  {
   "cell_type": "code",
   "execution_count": 29,
   "metadata": {},
   "outputs": [],
   "source": [
    "movies.drop(columns = [\"cast_total_facebook_likes\"], inplace = True)"
   ]
  },
  {
   "cell_type": "markdown",
   "metadata": {},
   "source": [
    "Sería interesante ver un boxplot de el año de las películas..."
   ]
  },
  {
   "cell_type": "code",
   "execution_count": 30,
   "metadata": {},
   "outputs": [
    {
     "data": {
      "image/png": "[encoded data removed]",
      "text/plain": [
       "<Figure size 720x576 with 1 Axes>"
      ]
     },
     "metadata": {
      "needs_background": "light"
     },
     "output_type": "display_data"
    }
   ],
   "source": [
    "sns.boxplot(x = \"title_year\", data = movies);"
   ]
  },
  {
   "cell_type": "markdown",
   "metadata": {},
   "source": [
    "Bastantes *outliers*, parece razonable filtrar películas despúes de 1980"
   ]
  },
  {
   "cell_type": "code",
   "execution_count": 31,
   "metadata": {},
   "outputs": [],
   "source": [
    "mov_1980 = movies.loc[movies[\"title_year\"]>1980]"
   ]
  },
  {
   "cell_type": "markdown",
   "metadata": {},
   "source": [
    "Antes de entrenar y evaluar debemos convertir algunas variables categóricas a numéricas, las transformaremos simplementes con numeros de 0,...,total de categorias"
   ]
  },
  {
   "cell_type": "code",
   "execution_count": 32,
   "metadata": {},
   "outputs": [
    {
     "name": "stderr",
     "output_type": "stream",
     "text": [
      "c:\\users\\sasan\\appdata\\local\\programs\\python\\python37\\lib\\site-packages\\ipykernel_launcher.py:8: SettingWithCopyWarning: \n",
      "A value is trying to be set on a copy of a slice from a DataFrame.\n",
      "Try using .loc[row_indexer,col_indexer] = value instead\n",
      "\n",
      "See the caveats in the documentation: https://pandas.pydata.org/pandas-docs/stable/user_guide/indexing.html#returning-a-view-versus-a-copy\n",
      "  \n"
     ]
    }
   ],
   "source": [
    "contenido = mov_1980[\"content_rating\"].unique()\n",
    "\n",
    "def rating_to_num(rating):\n",
    "    for i,c in enumerate(contenido):\n",
    "        if rating == c:\n",
    "            return i\n",
    "        \n",
    "mov_1980[\"content_rating\"] = mov_1980[\"content_rating\"].apply(lambda x: rating_to_num(x))"
   ]
  },
  {
   "cell_type": "markdown",
   "metadata": {
    "id": "EiLtCD-D0RwP"
   },
   "source": [
    "## Entrenamiento y Evaluación\n",
    "\n",
    "**2.** Escoja 2 modelos que hayan visto dentro del curso y entrénelos sobre los datos trabajados en la parte anterior. Recuerde aplicar buenas prácticas de entrenamiento vistas en clases y aplicadas en la tarea anterior. Evalúe los modelos en base a métricas vistas en el curso. Puede hacer gráficos o generar tablas para analizar y comparar los modelos."
   ]
  },
  {
   "cell_type": "code",
   "execution_count": 33,
   "metadata": {},
   "outputs": [
    {
     "name": "stdout",
     "output_type": "stream",
     "text": [
      "Valores distintos de imbd_score: [2 3 4 5 6 7 8 9]\n",
      "Instancias del score 2: 14\n",
      "Instancias del score 3: 30\n",
      "Instancias del score 4: 139\n",
      "Instancias del score 5: 393\n",
      "Instancias del score 6: 1297\n",
      "Instancias del score 7: 1252\n",
      "Instancias del score 8: 552\n",
      "Instancias del score 9: 20\n"
     ]
    }
   ],
   "source": [
    "scores = mov_1980.imdb_score.unique()\n",
    "scores.sort()\n",
    "print(\"Valores distintos de imbd_score:\", scores)\n",
    "for i in scores:\n",
    "    print(\"Instancias del score {}: {}\".format(i,len(mov_1980[mov_1980[\"imdb_score\"]==i])))"
   ]
  },
  {
   "cell_type": "markdown",
   "metadata": {},
   "source": [
    "Dividimos el dataFrame en X e y"
   ]
  },
  {
   "cell_type": "code",
   "execution_count": 34,
   "metadata": {},
   "outputs": [],
   "source": [
    "X = mov_1980.iloc[:,1:len(mov_1980.columns)]\n",
    "\n",
    "y = mov_1980.iloc[:,0]"
   ]
  },
  {
   "cell_type": "markdown",
   "metadata": {},
   "source": [
    "Se dividira el dataset en 70% para entrenar (training set) y 30% para testear (testing set)."
   ]
  },
  {
   "cell_type": "code",
   "execution_count": 35,
   "metadata": {
    "id": "BAPOfuGq7IKT"
   },
   "outputs": [],
   "source": [
    "from sklearn.model_selection import train_test_split \n",
    "\n",
    "X_train, X_test, y_train, y_test = train_test_split(X, y, test_size=0.3, random_state = 30, stratify=y)"
   ]
  },
  {
   "cell_type": "markdown",
   "metadata": {},
   "source": [
    "La proporcion de clases del set de entrenamiento es:"
   ]
  },
  {
   "cell_type": "code",
   "execution_count": 36,
   "metadata": {},
   "outputs": [
    {
     "name": "stdout",
     "output_type": "stream",
     "text": [
      "Distribucion de clases original\n"
     ]
    },
    {
     "data": {
      "text/plain": [
       "6    908\n",
       "7    876\n",
       "8    386\n",
       "5    275\n",
       "4     97\n",
       "3     21\n",
       "9     14\n",
       "2     10\n",
       "Name: imdb_score, dtype: int64"
      ]
     },
     "execution_count": 36,
     "metadata": {},
     "output_type": "execute_result"
    }
   ],
   "source": [
    "print(\"Distribucion de clases original\")\n",
    "dist_class = y_train.value_counts()\n",
    "dist_class"
   ]
  },
  {
   "cell_type": "markdown",
   "metadata": {},
   "source": [
    "Utilizamos GridSearchCV para evaluar el clasificador de árbol desición en base a criterios gini, entropy y profundidad"
   ]
  },
  {
   "cell_type": "code",
   "execution_count": 37,
   "metadata": {},
   "outputs": [
    {
     "name": "stdout",
     "output_type": "stream",
     "text": [
      "Mejor combinación de parámetros:\n",
      "{'criterion': 'entropy', 'max_depth': 5}\n",
      "              precision    recall  f1-score   support\n",
      "\n",
      "           2       0.00      0.00      0.00         4\n",
      "           3       0.00      0.00      0.00         9\n",
      "           4       0.00      0.00      0.00        42\n",
      "           5       0.30      0.14      0.20       118\n",
      "           6       0.49      0.64      0.56       389\n",
      "           7       0.49      0.55      0.52       376\n",
      "           8       0.65      0.46      0.54       166\n",
      "           9       0.57      0.67      0.62         6\n",
      "\n",
      "    accuracy                           0.50      1110\n",
      "   macro avg       0.31      0.31      0.30      1110\n",
      "weighted avg       0.47      0.50      0.47      1110\n",
      "\n"
     ]
    }
   ],
   "source": [
    "from sklearn.tree import DecisionTreeClassifier\n",
    "from sklearn.neighbors import KNeighborsClassifier\n",
    "from sklearn.model_selection import GridSearchCV\n",
    "from sklearn.metrics import confusion_matrix\n",
    "from sklearn.metrics import accuracy_score\n",
    "from sklearn.metrics import classification_report\n",
    "\n",
    "#Configure tuned_parameters\n",
    "tuned_parameters = {'criterion': [\"gini\",\"entropy\"], 'max_depth' :[i for i in range(1,20)]}\n",
    "\n",
    "#set scoring metric\n",
    "score = 'f1_micro' \n",
    "\n",
    "#Construir el clf con GridSearch\n",
    "clf = GridSearchCV(DecisionTreeClassifier(),\n",
    "                  param_grid = tuned_parameters,\n",
    "                  cv = 5,\n",
    "                  scoring = score )\n",
    "#Entrenar clf\n",
    "clf.fit(X_train, y_train)\n",
    "\n",
    "print(\"Mejor combinación de parámetros:\")\n",
    "print(clf.best_params_)\n",
    "y_true, y_pred = y_test, clf.predict(X_test)\n",
    "print(classification_report(y_true, y_pred, zero_division = 0))"
   ]
  },
  {
   "cell_type": "markdown",
   "metadata": {},
   "source": [
    "Podemos ver la matriz de confusión para tener mejor claridad de los resultados"
   ]
  },
  {
   "cell_type": "code",
   "execution_count": 38,
   "metadata": {},
   "outputs": [
    {
     "data": {
      "image/png": "[encoded data removed]",
      "text/plain": [
       "<Figure size 720x576 with 2 Axes>"
      ]
     },
     "metadata": {
      "needs_background": "light"
     },
     "output_type": "display_data"
    }
   ],
   "source": [
    "from sklearn.metrics import confusion_matrix\n",
    "import matplotlib.pyplot as plt\n",
    "\n",
    "g = sns.heatmap(confusion_matrix(y_true, y_pred), annot=True, cmap=\"Blues\", fmt = \"d\")\n",
    "g.set_yticklabels(g.get_yticklabels(), rotation = 0)\n",
    "\n",
    "plt.title('Confusion matrix \\n')\n",
    "plt.xlabel('Predicted label')\n",
    "plt.ylabel('True label');"
   ]
  },
  {
   "cell_type": "markdown",
   "metadata": {},
   "source": [
    "Hacemos lo mismo pero con KNN, donde evluamos con diferentes K y weights"
   ]
  },
  {
   "cell_type": "code",
   "execution_count": 39,
   "metadata": {},
   "outputs": [
    {
     "name": "stdout",
     "output_type": "stream",
     "text": [
      "Mejor combinación de parámetros:\n",
      "{'n_neighbors': 9, 'weights': 'uniform'}\n",
      "              precision    recall  f1-score   support\n",
      "\n",
      "           2       0.00      0.00      0.00         4\n",
      "           3       0.00      0.00      0.00         9\n",
      "           4       0.00      0.00      0.00        42\n",
      "           5       0.17      0.11      0.13       118\n",
      "           6       0.38      0.57      0.45       389\n",
      "           7       0.39      0.40      0.39       376\n",
      "           8       0.36      0.13      0.19       166\n",
      "           9       0.00      0.00      0.00         6\n",
      "\n",
      "    accuracy                           0.36      1110\n",
      "   macro avg       0.16      0.15      0.15      1110\n",
      "weighted avg       0.34      0.36      0.34      1110\n",
      "\n"
     ]
    }
   ],
   "source": [
    "#Configure tuned_parameters\n",
    "\n",
    "tuned_parameters_knn = {'n_neighbors': [i for i in range(1,10)], 'weights': ['uniform','distance']}\n",
    "\n",
    "#set scoring metric\n",
    "score_knn = 'f1_micro'\n",
    "\n",
    "#Construir el clf con GridSearch\n",
    "clf = GridSearchCV(KNeighborsClassifier(),\n",
    "                  param_grid = tuned_parameters_knn,\n",
    "                  cv = 5,\n",
    "                  scoring = score_knn)\n",
    "#Entrenar clf\n",
    "clf.fit(X_train, y_train)\n",
    "\n",
    "print(\"Mejor combinación de parámetros:\")\n",
    "print(clf.best_params_)\n",
    "y_true, y_pred = y_test, clf.predict(X_test)\n",
    "print(classification_report(y_true, y_pred, zero_division = 0))"
   ]
  },
  {
   "cell_type": "code",
   "execution_count": 40,
   "metadata": {},
   "outputs": [
    {
     "data": {
      "image/png": "[encoded data removed]",
      "text/plain": [
       "<Figure size 720x576 with 2 Axes>"
      ]
     },
     "metadata": {
      "needs_background": "light"
     },
     "output_type": "display_data"
    }
   ],
   "source": [
    "g = sns.heatmap(confusion_matrix(y_true, y_pred), annot=True, cmap=\"Blues\", fmt = \"d\")\n",
    "g.set_yticklabels(g.get_yticklabels(), rotation = 0)\n",
    "\n",
    "plt.title('Confusion matrix \\n')\n",
    "plt.xlabel('Predicted label')\n",
    "plt.ylabel('True label');"
   ]
  },
  {
   "cell_type": "markdown",
   "metadata": {
    "id": "iwH4mwO26Opj"
   },
   "source": [
    "## Conclusiones\n",
    "\n",
    "**3.** Si este fuera un estudio encargado a usted por alguna empresa o cliente, basándose en los análisis que hizo anteriormente, qué conclusiones reportaría? Qué modelo propondría que fuera implementado en el producto del cliente? Por qué?"
   ]
  },
  {
   "cell_type": "markdown",
   "metadata": {
    "id": "m8bxqBlp9JCl"
   },
   "source": [
    ">Respuesta: Luego de testear los clasificadores DecisionTree y KNN, se puede evidenciar que DecisionTree es un tanto mejor que KNN. Sin embargo, los resultados no dejan de ser insuficientes, pues DecisionTree alcanza un f1_score rondando 0.5, lo que es bastante bajo. Asimismo en caso de suma urgencia de un modelo como los planteados, primero que todo intentaría realizar otros análisis o probar más clasificadores e incluso hacer quizás un mejor tratamiento de datos antes de proponer un modelo final. Asimismo, quizás intentar de obtener más datos o trabajar mejor aquellos datos faltantes."
   ]
  }
 ],
 "metadata": {
  "anaconda-cloud": {},
  "colab": {
   "collapsed_sections": [],
   "name": "Tarea 3.ipynb",
   "provenance": []
  },
  "hide_input": false,
  "kernelspec": {
   "display_name": "Python 3",
   "language": "python",
   "name": "python3"
  },
  "language_info": {
   "codemirror_mode": {
    "name": "ipython",
    "version": 3
   },
   "file_extension": ".py",
   "mimetype": "text/x-python",
   "name": "python",
   "nbconvert_exporter": "python",
   "pygments_lexer": "ipython3",
   "version": "3.7.5"
  },
  "toc": {
   "base_numbering": 1,
   "nav_menu": {},
   "number_sections": true,
   "sideBar": true,
   "skip_h1_title": false,
   "title_cell": "Table of Contents",
   "title_sidebar": "Contents",
   "toc_cell": false,
   "toc_position": {},
   "toc_section_display": true,
   "toc_window_display": false
  },
  "varInspector": {
   "cols": {
    "lenName": 16,
    "lenType": 16,
    "lenVar": 40
   },
   "kernels_config": {
    "python": {
     "delete_cmd_postfix": "",
     "delete_cmd_prefix": "del ",
     "library": "var_list.py",
     "varRefreshCmd": "print(var_dic_list())"
    },
    "r": {
     "delete_cmd_postfix": ") ",
     "delete_cmd_prefix": "rm(",
     "library": "var_list.r",
     "varRefreshCmd": "cat(var_dic_list()) "
    }
   },
   "types_to_exclude": [
    "module",
    "function",
    "builtin_function_or_method",
    "instance",
    "_Feature"
   ],
   "window_display": false
  }
 },
 "nbformat": 4,
 "nbformat_minor": 4
}
